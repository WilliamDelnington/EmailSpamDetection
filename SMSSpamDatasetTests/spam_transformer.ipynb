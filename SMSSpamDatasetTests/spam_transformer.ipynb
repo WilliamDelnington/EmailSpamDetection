{
 "cells": [
  {
   "cell_type": "code",
   "execution_count": 1,
   "id": "3eb39e49",
   "metadata": {},
   "outputs": [
    {
     "name": "stdout",
     "output_type": "stream",
     "text": [
      "WARNING:tensorflow:From e:\\Python Tests\\AI\\.venv\\lib\\site-packages\\tf_keras\\src\\losses.py:2976: The name tf.losses.sparse_softmax_cross_entropy is deprecated. Please use tf.compat.v1.losses.sparse_softmax_cross_entropy instead.\n",
      "\n"
     ]
    }
   ],
   "source": [
    "import pandas as pd\n",
    "import sys\n",
    "sys.path.append(\"../Handlers\")\n",
    "from traintest import TransformerClassificationModel"
   ]
  },
  {
   "cell_type": "code",
   "execution_count": 2,
   "id": "3b37db6b",
   "metadata": {},
   "outputs": [
    {
     "name": "stderr",
     "output_type": "stream",
     "text": [
      "Some weights of DistilBertForSequenceClassification were not initialized from the model checkpoint at distilbert-base-uncased and are newly initialized: ['classifier.bias', 'classifier.weight', 'pre_classifier.bias', 'pre_classifier.weight']\n",
      "You should probably TRAIN this model on a down-stream task to be able to use it for predictions and inference.\n"
     ]
    }
   ],
   "source": [
    "tcm = TransformerClassificationModel(\"./spam.csv\", \"distilbert-base-uncased\")\n",
    "tcm.set_model(\"Category\")\n",
    "tcm.train_test_val_split(0.1, valid_size=0.1)"
   ]
  },
  {
   "cell_type": "code",
   "execution_count": 3,
   "id": "efc38e0f",
   "metadata": {},
   "outputs": [
    {
     "data": {
      "application/vnd.jupyter.widget-view+json": {
       "model_id": "3d4822a5ea434a359f18c3599867935d",
       "version_major": 2,
       "version_minor": 0
      },
      "text/plain": [
       "Map:   0%|          | 0/4457 [00:00<?, ? examples/s]"
      ]
     },
     "metadata": {},
     "output_type": "display_data"
    },
    {
     "data": {
      "application/vnd.jupyter.widget-view+json": {
       "model_id": "72077fc6e5ed42bfaf75c61275b57e75",
       "version_major": 2,
       "version_minor": 0
      },
      "text/plain": [
       "Map:   0%|          | 0/557 [00:00<?, ? examples/s]"
      ]
     },
     "metadata": {},
     "output_type": "display_data"
    },
    {
     "data": {
      "application/vnd.jupyter.widget-view+json": {
       "model_id": "e9ece5b848384b6bbf112444bf4753e0",
       "version_major": 2,
       "version_minor": 0
      },
      "text/plain": [
       "Map:   0%|          | 0/558 [00:00<?, ? examples/s]"
      ]
     },
     "metadata": {},
     "output_type": "display_data"
    },
    {
     "name": "stdout",
     "output_type": "stream",
     "text": [
      "{'label': 'spam', 'Message': 'Great News! Call FREEFONE 08006344447 to claim your guaranteed £1000 CASH or £2000 gift. Speak to a live operator NOW!', 'input_ids': [101, 12403, 2213, 102], 'attention_mask': [1, 1, 1, 1]}\n"
     ]
    }
   ],
   "source": [
    "tcm.tokenizing(\"Category\")"
   ]
  },
  {
   "cell_type": "code",
   "execution_count": 4,
   "id": "4f78bb6e",
   "metadata": {},
   "outputs": [
    {
     "name": "stderr",
     "output_type": "stream",
     "text": [
      "Some weights of DistilBertForSequenceClassification were not initialized from the model checkpoint at distilbert-base-uncased and are newly initialized: ['classifier.bias', 'classifier.weight', 'pre_classifier.bias', 'pre_classifier.weight']\n",
      "You should probably TRAIN this model on a down-stream task to be able to use it for predictions and inference.\n"
     ]
    },
    {
     "data": {
      "application/vnd.jupyter.widget-view+json": {
       "model_id": "6023c96d55ec49e8bd80d7f79369452c",
       "version_major": 2,
       "version_minor": 0
      },
      "text/plain": [
       "Map:   0%|          | 0/4457 [00:00<?, ? examples/s]"
      ]
     },
     "metadata": {},
     "output_type": "display_data"
    },
    {
     "data": {
      "application/vnd.jupyter.widget-view+json": {
       "model_id": "fa6c57f36bb9403e88bfbc823ff92637",
       "version_major": 2,
       "version_minor": 0
      },
      "text/plain": [
       "Map:   0%|          | 0/557 [00:00<?, ? examples/s]"
      ]
     },
     "metadata": {},
     "output_type": "display_data"
    },
    {
     "data": {
      "application/vnd.jupyter.widget-view+json": {
       "model_id": "2594f4981a6441238acd37ea8e7f5bd3",
       "version_major": 2,
       "version_minor": 0
      },
      "text/plain": [
       "Map:   0%|          | 0/558 [00:00<?, ? examples/s]"
      ]
     },
     "metadata": {},
     "output_type": "display_data"
    },
    {
     "name": "stdout",
     "output_type": "stream",
     "text": [
      "DatasetDict({\n",
      "    train: Dataset({\n",
      "        features: ['label', 'Message', 'input_ids', 'attention_mask'],\n",
      "        num_rows: 4457\n",
      "    })\n",
      "    validation: Dataset({\n",
      "        features: ['label', 'Message', 'input_ids', 'attention_mask'],\n",
      "        num_rows: 557\n",
      "    })\n",
      "    test: Dataset({\n",
      "        features: ['label', 'Message', 'input_ids', 'attention_mask'],\n",
      "        num_rows: 558\n",
      "    })\n",
      "})\n"
     ]
    },
    {
     "name": "stderr",
     "output_type": "stream",
     "text": [
      "e:\\Python Tests\\AI\\.venv\\lib\\site-packages\\transformers\\training_args.py:1575: FutureWarning: `evaluation_strategy` is deprecated and will be removed in version 4.46 of 🤗 Transformers. Use `eval_strategy` instead\n",
      "  warnings.warn(\n"
     ]
    },
    {
     "data": {
      "application/vnd.jupyter.widget-view+json": {
       "model_id": "8266d17a074044b5ac7029a169df1e53",
       "version_major": 2,
       "version_minor": 0
      },
      "text/plain": [
       "  0%|          | 0/5580 [00:00<?, ?it/s]"
      ]
     },
     "metadata": {},
     "output_type": "display_data"
    },
    {
     "name": "stdout",
     "output_type": "stream",
     "text": [
      "{'loss': 0.0248, 'grad_norm': 0.007928324863314629, 'learning_rate': 1.9e-05, 'epoch': 1.0}\n"
     ]
    },
    {
     "data": {
      "application/vnd.jupyter.widget-view+json": {
       "model_id": "c84681fc9fa745b6953e7fafc07d7d68",
       "version_major": 2,
       "version_minor": 0
      },
      "text/plain": [
       "  0%|          | 0/35 [00:00<?, ?it/s]"
      ]
     },
     "metadata": {},
     "output_type": "display_data"
    },
    {
     "name": "stdout",
     "output_type": "stream",
     "text": [
      "{'eval_loss': 0.00033193003037013113, 'eval_accuracy': 1.0, 'eval_weighted_precision': 1.0, 'eval_wighted_recall': 1.0, 'eval_weighted_f1': 1.0, 'eval_macro_precision': 1.0, 'eval_macro_recall': 1.0, 'eval_macro_f1': 1.0, 'eval_roc_auc': 1.0, 'eval_runtime': 2.1933, 'eval_samples_per_second': 253.961, 'eval_steps_per_second': 15.958, 'epoch': 1.0}\n",
      "{'loss': 0.0003, 'grad_norm': 0.0038997624069452286, 'learning_rate': 1.8e-05, 'epoch': 2.0}\n"
     ]
    },
    {
     "data": {
      "application/vnd.jupyter.widget-view+json": {
       "model_id": "0ff580a170914803815eb8ae33d412e8",
       "version_major": 2,
       "version_minor": 0
      },
      "text/plain": [
       "  0%|          | 0/35 [00:00<?, ?it/s]"
      ]
     },
     "metadata": {},
     "output_type": "display_data"
    },
    {
     "name": "stdout",
     "output_type": "stream",
     "text": [
      "{'eval_loss': 7.724706665612757e-05, 'eval_accuracy': 1.0, 'eval_weighted_precision': 1.0, 'eval_wighted_recall': 1.0, 'eval_weighted_f1': 1.0, 'eval_macro_precision': 1.0, 'eval_macro_recall': 1.0, 'eval_macro_f1': 1.0, 'eval_roc_auc': 1.0, 'eval_runtime': 2.2224, 'eval_samples_per_second': 250.632, 'eval_steps_per_second': 15.749, 'epoch': 2.0}\n",
      "{'loss': 0.0001, 'grad_norm': 0.0010670601623132825, 'learning_rate': 1.7e-05, 'epoch': 3.0}\n"
     ]
    },
    {
     "data": {
      "application/vnd.jupyter.widget-view+json": {
       "model_id": "132e5af4468147ac9e2db97958acfa9a",
       "version_major": 2,
       "version_minor": 0
      },
      "text/plain": [
       "  0%|          | 0/35 [00:00<?, ?it/s]"
      ]
     },
     "metadata": {},
     "output_type": "display_data"
    },
    {
     "name": "stdout",
     "output_type": "stream",
     "text": [
      "{'eval_loss': 3.227987326681614e-05, 'eval_accuracy': 1.0, 'eval_weighted_precision': 1.0, 'eval_wighted_recall': 1.0, 'eval_weighted_f1': 1.0, 'eval_macro_precision': 1.0, 'eval_macro_recall': 1.0, 'eval_macro_f1': 1.0, 'eval_roc_auc': 1.0, 'eval_runtime': 2.2294, 'eval_samples_per_second': 249.838, 'eval_steps_per_second': 15.699, 'epoch': 3.0}\n",
      "{'loss': 0.0, 'grad_norm': 0.000872042088303715, 'learning_rate': 1.6000000000000003e-05, 'epoch': 4.0}\n"
     ]
    },
    {
     "data": {
      "application/vnd.jupyter.widget-view+json": {
       "model_id": "455144db75f3495eab0b30e6d5f1e207",
       "version_major": 2,
       "version_minor": 0
      },
      "text/plain": [
       "  0%|          | 0/35 [00:00<?, ?it/s]"
      ]
     },
     "metadata": {},
     "output_type": "display_data"
    },
    {
     "name": "stdout",
     "output_type": "stream",
     "text": [
      "{'eval_loss': 1.767669709806796e-05, 'eval_accuracy': 1.0, 'eval_weighted_precision': 1.0, 'eval_wighted_recall': 1.0, 'eval_weighted_f1': 1.0, 'eval_macro_precision': 1.0, 'eval_macro_recall': 1.0, 'eval_macro_f1': 1.0, 'eval_roc_auc': 1.0, 'eval_runtime': 2.225, 'eval_samples_per_second': 250.337, 'eval_steps_per_second': 15.73, 'epoch': 4.0}\n",
      "{'train_runtime': 724.8146, 'train_samples_per_second': 122.983, 'train_steps_per_second': 7.699, 'train_loss': 0.006290314467890875, 'epoch': 4.0}\n"
     ]
    }
   ],
   "source": [
    "tcm.train(\"./models\")"
   ]
  },
  {
   "cell_type": "code",
   "execution_count": 5,
   "id": "ef0cf55d",
   "metadata": {},
   "outputs": [
    {
     "data": {
      "image/png": "[encoded data removed]",
      "text/plain": [
       "<Figure size 640x480 with 1 Axes>"
      ]
     },
     "metadata": {},
     "output_type": "display_data"
    }
   ],
   "source": [
    "tcm.plot_training_validation_loss()"
   ]
  },
  {
   "cell_type": "code",
   "execution_count": 6,
   "id": "3fb630b5",
   "metadata": {},
   "outputs": [
    {
     "data": {
      "application/vnd.jupyter.widget-view+json": {
       "model_id": "2234317ee5f547099def573b540e7d29",
       "version_major": 2,
       "version_minor": 0
      },
      "text/plain": [
       "  0%|          | 0/35 [00:00<?, ?it/s]"
      ]
     },
     "metadata": {},
     "output_type": "display_data"
    },
    {
     "data": {
      "text/plain": [
       "{'accuracy': 1.0,\n",
       " 'weighted_precision': 1.0,\n",
       " 'wighted_recall': 1.0,\n",
       " 'weighted_f1': 1.0,\n",
       " 'macro_precision': 1.0,\n",
       " 'macro_recall': 1.0,\n",
       " 'macro_f1': 1.0,\n",
       " 'roc_auc': 1.0}"
      ]
     },
     "execution_count": 6,
     "metadata": {},
     "output_type": "execute_result"
    }
   ],
   "source": [
    "metrics = tcm.evaluate()\n",
    "metrics"
   ]
  },
  {
   "cell_type": "code",
   "execution_count": 7,
   "id": "72e705b2",
   "metadata": {},
   "outputs": [],
   "source": [
    "del tcm\n",
    "del metrics"
   ]
  },
  {
   "cell_type": "code",
   "execution_count": null,
   "id": "175339d3",
   "metadata": {},
   "outputs": [],
   "source": []
  }
 ],
 "metadata": {
  "kernelspec": {
   "display_name": ".venv",
   "language": "python",
   "name": "python3"
  },
  "language_info": {
   "codemirror_mode": {
    "name": "ipython",
    "version": 3
   },
   "file_extension": ".py",
   "mimetype": "text/x-python",
   "name": "python",
   "nbconvert_exporter": "python",
   "pygments_lexer": "ipython3",
   "version": "3.10.2"
  }
 },
 "nbformat": 4,
 "nbformat_minor": 5
}
