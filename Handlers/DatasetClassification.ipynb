{
 "cells": [
  {
   "cell_type": "code",
   "execution_count": 1,
   "id": "76343fb5",
   "metadata": {},
   "outputs": [],
   "source": [
    "from spam_email_patterns import adult_content_patterns, patterns\n",
    "import pandas as pd\n",
    "import re"
   ]
  },
  {
   "cell_type": "code",
   "execution_count": 2,
   "id": "93b57a90",
   "metadata": {},
   "outputs": [],
   "source": [
    "df = pd.read_csv(\"./Datasets/merged_spam_dataset.csv\")"
   ]
  },
  {
   "cell_type": "code",
   "execution_count": 3,
   "id": "43d86dfa",
   "metadata": {},
   "outputs": [],
   "source": [
    "# Function to determine data type\n",
    "def get_type(value):\n",
    "    if pd.isna(value):\n",
    "        return \"NoneType\"\n",
    "    try:\n",
    "        int_val = int(value)\n",
    "        return \"int\"\n",
    "    except ValueError:\n",
    "        try:\n",
    "            float_val = float(value)\n",
    "            return \"float\"\n",
    "        except ValueError:\n",
    "            return \"str\""
   ]
  },
  {
   "cell_type": "code",
   "execution_count": 4,
   "id": "e2f19418",
   "metadata": {},
   "outputs": [
    {
     "data": {
      "text/plain": [
       "text_type\n",
       "str         95729\n",
       "NoneType       17\n",
       "int             3\n",
       "Name: count, dtype: int64"
      ]
     },
     "execution_count": 4,
     "metadata": {},
     "output_type": "execute_result"
    }
   ],
   "source": [
    "# Apply to specific column\n",
    "df[\"text_type\"] = df['text'].apply(get_type)\n",
    "\n",
    "# Count types\n",
    "type_counts = df[\"text_type\"].value_counts()\n",
    "\n",
    "type_counts"
   ]
  },
  {
   "cell_type": "code",
   "execution_count": 5,
   "id": "5ae745f6",
   "metadata": {},
   "outputs": [],
   "source": [
    "df = df[df[\"text_type\"] == \"str\"]"
   ]
  },
  {
   "cell_type": "code",
   "execution_count": 6,
   "id": "ac51425f",
   "metadata": {},
   "outputs": [],
   "source": [
    "def classify_scam(text):\n",
    "    # Check for adult content patterns\n",
    "    for pattern in adult_content_patterns:\n",
    "        try:\n",
    "            if re.search(pattern, text, re.IGNORECASE):\n",
    "                return 1  # Spam\n",
    "        except:\n",
    "            print(f\"Error in pattern {pattern}\")\n",
    "            import traceback\n",
    "            raise TypeError(traceback.format_exc())\n",
    "    return 0  # Not spam"
   ]
  },
  {
   "cell_type": "code",
   "execution_count": 7,
   "id": "80747729",
   "metadata": {},
   "outputs": [
    {
     "data": {
      "text/html": [
       "<div>\n",
       "<style scoped>\n",
       "    .dataframe tbody tr th:only-of-type {\n",
       "        vertical-align: middle;\n",
       "    }\n",
       "\n",
       "    .dataframe tbody tr th {\n",
       "        vertical-align: top;\n",
       "    }\n",
       "\n",
       "    .dataframe thead th {\n",
       "        text-align: right;\n",
       "    }\n",
       "</style>\n",
       "<table border=\"1\" class=\"dataframe\">\n",
       "  <thead>\n",
       "    <tr style=\"text-align: right;\">\n",
       "      <th></th>\n",
       "      <th>Unnamed: 0</th>\n",
       "      <th>source</th>\n",
       "      <th>text</th>\n",
       "      <th>label</th>\n",
       "      <th>subject</th>\n",
       "      <th>text_type</th>\n",
       "      <th>is_scam</th>\n",
       "    </tr>\n",
       "  </thead>\n",
       "  <tbody>\n",
       "    <tr>\n",
       "      <th>7</th>\n",
       "      <td>7</td>\n",
       "      <td>enron.csv</td>\n",
       "      <td>there is this costless dating website packed w...</td>\n",
       "      <td>1</td>\n",
       "      <td>find sex - addicts in your area</td>\n",
       "      <td>str</td>\n",
       "      <td>1</td>\n",
       "    </tr>\n",
       "    <tr>\n",
       "      <th>12</th>\n",
       "      <td>12</td>\n",
       "      <td>enron.csv</td>\n",
       "      <td>this is a great dating site ! ! !\\r\\nplease re...</td>\n",
       "      <td>1</td>\n",
       "      <td>looking for love ? tonight ?</td>\n",
       "      <td>str</td>\n",
       "      <td>1</td>\n",
       "    </tr>\n",
       "    <tr>\n",
       "      <th>16</th>\n",
       "      <td>16</td>\n",
       "      <td>enron.csv</td>\n",
       "      <td>the only fix to penis growth\\r\\nlimited time o...</td>\n",
       "      <td>1</td>\n",
       "      <td>NaN</td>\n",
       "      <td>str</td>\n",
       "      <td>1</td>\n",
       "    </tr>\n",
       "    <tr>\n",
       "      <th>19</th>\n",
       "      <td>19</td>\n",
       "      <td>enron.csv</td>\n",
       "      <td>here ' s a special offer for you . . .\\r\\nwant...</td>\n",
       "      <td>1</td>\n",
       "      <td>attract the opposite sex , the ultimate guide ...</td>\n",
       "      <td>str</td>\n",
       "      <td>1</td>\n",
       "    </tr>\n",
       "    <tr>\n",
       "      <th>20</th>\n",
       "      <td>20</td>\n",
       "      <td>enron.csv</td>\n",
       "      <td>how ' re you doing there , paliourg\\r\\ncialis ...</td>\n",
       "      <td>1</td>\n",
       "      <td>health order for paliourg</td>\n",
       "      <td>str</td>\n",
       "      <td>1</td>\n",
       "    </tr>\n",
       "    <tr>\n",
       "      <th>...</th>\n",
       "      <td>...</td>\n",
       "      <td>...</td>\n",
       "      <td>...</td>\n",
       "      <td>...</td>\n",
       "      <td>...</td>\n",
       "      <td>...</td>\n",
       "      <td>...</td>\n",
       "    </tr>\n",
       "    <tr>\n",
       "      <th>95499</th>\n",
       "      <td>95499</td>\n",
       "      <td>fraud_detect.csv</td>\n",
       "      <td>You are being contacted by our Dating Service ...</td>\n",
       "      <td>spam</td>\n",
       "      <td>NaN</td>\n",
       "      <td>str</td>\n",
       "      <td>1</td>\n",
       "    </tr>\n",
       "    <tr>\n",
       "      <th>95527</th>\n",
       "      <td>95527</td>\n",
       "      <td>fraud_detect.csv</td>\n",
       "      <td>Someone U know has asked our dating service 2 ...</td>\n",
       "      <td>spam</td>\n",
       "      <td>NaN</td>\n",
       "      <td>str</td>\n",
       "      <td>1</td>\n",
       "    </tr>\n",
       "    <tr>\n",
       "      <th>95647</th>\n",
       "      <td>95647</td>\n",
       "      <td>fraud_detect.csv</td>\n",
       "      <td>Want explicit SEX in 30 secs? Ring 02073162414...</td>\n",
       "      <td>spam</td>\n",
       "      <td>NaN</td>\n",
       "      <td>str</td>\n",
       "      <td>1</td>\n",
       "    </tr>\n",
       "    <tr>\n",
       "      <th>95702</th>\n",
       "      <td>95702</td>\n",
       "      <td>fraud_detect.csv</td>\n",
       "      <td>Mila, age23, blonde, new in UK. I look sex wit...</td>\n",
       "      <td>spam</td>\n",
       "      <td>NaN</td>\n",
       "      <td>str</td>\n",
       "      <td>1</td>\n",
       "    </tr>\n",
       "    <tr>\n",
       "      <th>95725</th>\n",
       "      <td>95725</td>\n",
       "      <td>fraud_detect.csv</td>\n",
       "      <td>This message is free. Welcome to the new &amp; imp...</td>\n",
       "      <td>spam</td>\n",
       "      <td>NaN</td>\n",
       "      <td>str</td>\n",
       "      <td>1</td>\n",
       "    </tr>\n",
       "  </tbody>\n",
       "</table>\n",
       "<p>7234 rows × 7 columns</p>\n",
       "</div>"
      ],
      "text/plain": [
       "       Unnamed: 0            source  \\\n",
       "7               7         enron.csv   \n",
       "12             12         enron.csv   \n",
       "16             16         enron.csv   \n",
       "19             19         enron.csv   \n",
       "20             20         enron.csv   \n",
       "...           ...               ...   \n",
       "95499       95499  fraud_detect.csv   \n",
       "95527       95527  fraud_detect.csv   \n",
       "95647       95647  fraud_detect.csv   \n",
       "95702       95702  fraud_detect.csv   \n",
       "95725       95725  fraud_detect.csv   \n",
       "\n",
       "                                                    text label  \\\n",
       "7      there is this costless dating website packed w...     1   \n",
       "12     this is a great dating site ! ! !\\r\\nplease re...     1   \n",
       "16     the only fix to penis growth\\r\\nlimited time o...     1   \n",
       "19     here ' s a special offer for you . . .\\r\\nwant...     1   \n",
       "20     how ' re you doing there , paliourg\\r\\ncialis ...     1   \n",
       "...                                                  ...   ...   \n",
       "95499  You are being contacted by our Dating Service ...  spam   \n",
       "95527  Someone U know has asked our dating service 2 ...  spam   \n",
       "95647  Want explicit SEX in 30 secs? Ring 02073162414...  spam   \n",
       "95702  Mila, age23, blonde, new in UK. I look sex wit...  spam   \n",
       "95725  This message is free. Welcome to the new & imp...  spam   \n",
       "\n",
       "                                                 subject text_type  is_scam  \n",
       "7                        find sex - addicts in your area       str        1  \n",
       "12                          looking for love ? tonight ?       str        1  \n",
       "16                                                   NaN       str        1  \n",
       "19     attract the opposite sex , the ultimate guide ...       str        1  \n",
       "20                             health order for paliourg       str        1  \n",
       "...                                                  ...       ...      ...  \n",
       "95499                                                NaN       str        1  \n",
       "95527                                                NaN       str        1  \n",
       "95647                                                NaN       str        1  \n",
       "95702                                                NaN       str        1  \n",
       "95725                                                NaN       str        1  \n",
       "\n",
       "[7234 rows x 7 columns]"
      ]
     },
     "execution_count": 7,
     "metadata": {},
     "output_type": "execute_result"
    }
   ],
   "source": [
    "df[\"is_scam\"] = df[\"text\"].apply(classify_scam)\n",
    "df[df[\"is_scam\"] == 1]"
   ]
  },
  {
   "cell_type": "code",
   "execution_count": 8,
   "id": "20bb102d",
   "metadata": {},
   "outputs": [
    {
     "data": {
      "text/plain": [
       "'there is this costless dating website packed with countless sexoholics\\r\\nno gifts , no walks on the beach , just meetup to get laid : )\\r\\nthere are also some who want something more serious though\\r\\nso if you want a one night stand , or a long term relationship , you got it ; )\\r\\nwhatever floats your boat pretty much !\\r\\nhttp : / / www . cumherecomic . net\\r\\n'"
      ]
     },
     "execution_count": 8,
     "metadata": {},
     "output_type": "execute_result"
    }
   ],
   "source": [
    "df.iloc[7][\"text\"]"
   ]
  },
  {
   "cell_type": "code",
   "execution_count": 9,
   "id": "a53a7dfc",
   "metadata": {},
   "outputs": [],
   "source": [
    "def classify_scam_test(text):\n",
    "    # Check for adult content patterns\n",
    "    if re.search(adult_content_patterns[2], text):\n",
    "        return 1  # Spam\n",
    "    return 0  # Not spam"
   ]
  },
  {
   "cell_type": "code",
   "execution_count": 10,
   "id": "954bfb61",
   "metadata": {},
   "outputs": [
    {
     "name": "stdout",
     "output_type": "stream",
     "text": [
      "       Unnamed: 0            source  \\\n",
      "19             19         enron.csv   \n",
      "20             20         enron.csv   \n",
      "22             22         enron.csv   \n",
      "74             74         enron.csv   \n",
      "83             83         enron.csv   \n",
      "...           ...               ...   \n",
      "95386       95386  fraud_detect.csv   \n",
      "95479       95479  fraud_detect.csv   \n",
      "95647       95647  fraud_detect.csv   \n",
      "95702       95702  fraud_detect.csv   \n",
      "95725       95725  fraud_detect.csv   \n",
      "\n",
      "                                                    text label  \\\n",
      "19     here ' s a special offer for you . . .\\r\\nwant...     1   \n",
      "20     how ' re you doing there , paliourg\\r\\ncialis ...     1   \n",
      "22     good morning sir ,\\r\\ncheck out the discounts ...     1   \n",
      "74     extra - time - last 5 - 10 times longer !\\r\\nt...     1   \n",
      "83     how does viagra professional work ?\\r\\nviagra ...     1   \n",
      "...                                                  ...   ...   \n",
      "95386  Want explicit SEX in 30 secs? Ring 02073162414...  spam   \n",
      "95479  Mila, age23, blonde, new in UK. I look sex wit...  spam   \n",
      "95647  Want explicit SEX in 30 secs? Ring 02073162414...  spam   \n",
      "95702  Mila, age23, blonde, new in UK. I look sex wit...  spam   \n",
      "95725  This message is free. Welcome to the new & imp...  spam   \n",
      "\n",
      "                                                 subject text_type  is_scam  \\\n",
      "19     attract the opposite sex , the ultimate guide ...       str        1   \n",
      "20                             health order for paliourg       str        1   \n",
      "22        impress her with a hard erection . . . midband       str        1   \n",
      "74             extra - time - last 5 - 10 times longer !       str        1   \n",
      "83                            your women will be happy !       str        1   \n",
      "...                                                  ...       ...      ...   \n",
      "95386                                                NaN       str        1   \n",
      "95479                                                NaN       str        1   \n",
      "95647                                                NaN       str        1   \n",
      "95702                                                NaN       str        1   \n",
      "95725                                                NaN       str        1   \n",
      "\n",
      "       temp_value  \n",
      "19              1  \n",
      "20              1  \n",
      "22              1  \n",
      "74              1  \n",
      "83              1  \n",
      "...           ...  \n",
      "95386           1  \n",
      "95479           1  \n",
      "95647           1  \n",
      "95702           1  \n",
      "95725           1  \n",
      "\n",
      "[2231 rows x 8 columns]\n"
     ]
    }
   ],
   "source": [
    "df[\"temp_value\"] = df[\"text\"].apply(classify_scam_test)\n",
    "print(df[df[\"temp_value\"] == 1])\n",
    "df.drop(columns=[\"temp_value\"], inplace=True)"
   ]
  },
  {
   "cell_type": "code",
   "execution_count": 11,
   "id": "48571f9d",
   "metadata": {},
   "outputs": [
    {
     "name": "stdout",
     "output_type": "stream",
     "text": [
      "{'Adult Content': 0, 'Lottery Scam': 0, 'Financial Fraud': 0, 'Advertisement': 0, 'Phishing': 0, 'Malware': 0}\n"
     ]
    }
   ],
   "source": [
    "print({category: 0 for category in patterns.keys()})"
   ]
  },
  {
   "cell_type": "code",
   "execution_count": 12,
   "id": "381908a6",
   "metadata": {},
   "outputs": [],
   "source": [
    "def classify_spam_single_label(text):\n",
    "    text = str(text).lower()\n",
    "    scores = {category: 0 for category in patterns.keys()}\n",
    "    \n",
    "    # Count keyword matches for each category\n",
    "    for category, sub_patterns in patterns.items():\n",
    "        for pattern in sub_patterns:\n",
    "            if re.search(pattern, text):\n",
    "                # Increment the score for the category if a keyword is found\n",
    "                scores[category] += 1\n",
    "    \n",
    "    # Find the category with the highest score\n",
    "    max_score = 0\n",
    "    best_category = 'Other Spam'\n",
    "    \n",
    "    for category, score in scores.items():\n",
    "        if score > max_score:\n",
    "            max_score = score\n",
    "            best_category = category\n",
    "    \n",
    "    return best_category"
   ]
  },
  {
   "cell_type": "code",
   "execution_count": 13,
   "id": "74078e2b",
   "metadata": {},
   "outputs": [
    {
     "name": "stdout",
     "output_type": "stream",
     "text": [
      "spam_type\n",
      "Financial Fraud    49039\n",
      "Other Spam         24596\n",
      "Advertisement      13351\n",
      "Adult Content       4983\n",
      "Phishing            1337\n",
      "Malware             1222\n",
      "Lottery Scam        1201\n",
      "Name: count, dtype: int64\n"
     ]
    }
   ],
   "source": [
    "# Apply classification and create new column\n",
    "df['spam_type'] = df['text'].apply(classify_spam_single_label)\n",
    "\n",
    "# View distribution\n",
    "print(df['spam_type'].value_counts())"
   ]
  },
  {
   "cell_type": "code",
   "execution_count": 14,
   "id": "ca9152f7",
   "metadata": {},
   "outputs": [],
   "source": [
    "malware_df = df[df[\"spam_type\"] == \"Malware\"]\n",
    "adult_content_df = df[df[\"spam_type\"] == \"Adult Content\"]\n",
    "lottery_scam_df = df[df[\"spam_type\"] == \"Lottery Scam\"]\n",
    "financial_fraud_df = df[df[\"spam_type\"] == \"Financial Fraud\"]\n",
    "advertisement_df = df[df[\"spam_type\"] == \"Advertisement\"]\n",
    "phishing_df = df[df[\"spam_type\"] == \"Phishing\"]"
   ]
  },
  {
   "cell_type": "code",
   "execution_count": 15,
   "id": "058575a0",
   "metadata": {},
   "outputs": [],
   "source": [
    "df[df[\"spam_type\"] == \"Other Spam\"].to_csv(\"./other_spam_emails.csv\", index=False)"
   ]
  },
  {
   "cell_type": "code",
   "execution_count": null,
   "id": "22a4ad1f",
   "metadata": {},
   "outputs": [],
   "source": []
  }
 ],
 "metadata": {
  "kernelspec": {
   "display_name": "base",
   "language": "python",
   "name": "python3"
  },
  "language_info": {
   "codemirror_mode": {
    "name": "ipython",
    "version": 3
   },
   "file_extension": ".py",
   "mimetype": "text/x-python",
   "name": "python",
   "nbconvert_exporter": "python",
   "pygments_lexer": "ipython3",
   "version": "3.12.4"
  }
 },
 "nbformat": 4,
 "nbformat_minor": 5
}
