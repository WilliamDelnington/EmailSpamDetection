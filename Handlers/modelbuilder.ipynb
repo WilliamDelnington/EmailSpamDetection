{
 "cells": [
  {
   "cell_type": "code",
   "execution_count": null,
   "id": "edf3d6d8",
   "metadata": {},
   "outputs": [],
   "source": [
    "import torch.nn as nn\n",
    "import torch\n",
    "import numpy\n",
    "\n",
    "class NeuralNetwork(nn.Module):\n",
    "    \"\"\"\n",
    "    Initializes the neural network layers.\n",
    "\n",
    "    Args:\n",
    "        input_size (int): Number of nodes in the input layer.\n",
    "        hidden_sizes (list): A list containing the number of nodes in each hidden layer.\n",
    "        output_size (int): Number of nodes in the output layer.\n",
    "    \"\"\"\n",
    "    def __init__(self):\n",
    "        super(NeuralNetwork, self).__init__()\n",
    "\n",
    "        self.layers = nn.ModuleList()\n",
    "\n",
    "    def add(self, layer: nn.Module):\n",
    "        self.layers.append(layer)\n",
    "\n",
    "    def forward(self, x: torch.Tensor) -> torch.Tensor:\n",
    "        \"\"\"\n",
    "        Defines the forward pass of the network.\n",
    "\n",
    "        Args:\n",
    "            x (torch.Tensor): Input data tensor. Shape (batch_size, input_features).\n",
    "\n",
    "        Returns:\n",
    "            torch.Tensor: The output tensor of the network.\n",
    "        \"\"\"\n",
    "        for layer in self.layers:\n",
    "            x = layer(x)\n",
    "        return x\n",
    "    \n",
    "    def calucate_loss(self, pred, tar):\n",
    "        loss_fn = nn.MSELoss()\n",
    "        return loss_fn(pred, tar)"
   ]
  },
  {
   "cell_type": "code",
   "execution_count": 8,
   "id": "a9cd1f2e",
   "metadata": {},
   "outputs": [
    {
     "data": {
      "text/plain": [
       "tensor([[0.5233, 0.3902, 0.5567, 0.7005, 0.6144, 0.5131, 0.3730],\n",
       "        [0.5233, 0.3902, 0.5567, 0.7005, 0.6144, 0.5131, 0.3730],\n",
       "        [0.5233, 0.3902, 0.5567, 0.7005, 0.6144, 0.5131, 0.3730],\n",
       "        [0.5233, 0.3902, 0.5567, 0.7005, 0.6144, 0.5131, 0.3730],\n",
       "        [0.5233, 0.3902, 0.5567, 0.7005, 0.6144, 0.5131, 0.3730],\n",
       "        [0.5233, 0.3902, 0.5567, 0.7005, 0.6144, 0.5131, 0.3730],\n",
       "        [0.5233, 0.3902, 0.5567, 0.7005, 0.6144, 0.5131, 0.3730],\n",
       "        [0.5233, 0.3902, 0.5567, 0.7005, 0.6144, 0.5131, 0.3730],\n",
       "        [0.5233, 0.3902, 0.5567, 0.7005, 0.6144, 0.5131, 0.3730],\n",
       "        [0.5233, 0.3902, 0.5567, 0.7005, 0.6144, 0.5131, 0.3730]],\n",
       "       grad_fn=<SigmoidBackward0>)"
      ]
     },
     "execution_count": 8,
     "metadata": {},
     "output_type": "execute_result"
    }
   ],
   "source": [
    "test_data = torch.rand(10, 2)\n",
    "\n",
    "customNN = NeuralNetwork()\n",
    "customNN.add(nn.Linear(2, 5))\n",
    "customNN.add(nn.Sigmoid())\n",
    "customNN.add(nn.Linear(5, 3))\n",
    "customNN.add(nn.Sigmoid())\n",
    "customNN.add(nn.Linear(3, 6))\n",
    "customNN.add(nn.Sigmoid())\n",
    "customNN.add(nn.Linear(6, 5))\n",
    "customNN.add(nn.Sigmoid())\n",
    "customNN.add(nn.Linear(5, 7))\n",
    "\n",
    "customNN.forward(test_data)"
   ]
  },
  {
   "cell_type": "code",
   "execution_count": null,
   "id": "ddc568e9",
   "metadata": {},
   "outputs": [],
   "source": []
  }
 ],
 "metadata": {
  "kernelspec": {
   "display_name": "base",
   "language": "python",
   "name": "python3"
  },
  "language_info": {
   "codemirror_mode": {
    "name": "ipython",
    "version": 3
   },
   "file_extension": ".py",
   "mimetype": "text/x-python",
   "name": "python",
   "nbconvert_exporter": "python",
   "pygments_lexer": "ipython3",
   "version": "3.12.4"
  }
 },
 "nbformat": 4,
 "nbformat_minor": 5
}
