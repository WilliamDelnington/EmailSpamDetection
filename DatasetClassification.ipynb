{
 "cells": [
  {
   "cell_type": "code",
   "execution_count": 15,
   "id": "76343fb5",
   "metadata": {},
   "outputs": [],
   "source": [
    "from spam_email_patterns import adult_content_patterns, patterns\n",
    "import pandas as pd\n",
    "import re"
   ]
  },
  {
   "cell_type": "code",
   "execution_count": 16,
   "id": "93b57a90",
   "metadata": {},
   "outputs": [],
   "source": [
    "df = pd.read_csv(\"./Datasets/merged_spam_dataset.csv\")"
   ]
  },
  {
   "cell_type": "code",
   "execution_count": 17,
   "id": "43d86dfa",
   "metadata": {},
   "outputs": [],
   "source": [
    "# Function to determine data type\n",
    "def get_type(value):\n",
    "    if pd.isna(value):\n",
    "        return \"NoneType\"\n",
    "    try:\n",
    "        int_val = int(value)\n",
    "        return \"int\"\n",
    "    except ValueError:\n",
    "        try:\n",
    "            float_val = float(value)\n",
    "            return \"float\"\n",
    "        except ValueError:\n",
    "            return \"str\""
   ]
  },
  {
   "cell_type": "code",
   "execution_count": 18,
   "id": "e2f19418",
   "metadata": {},
   "outputs": [
    {
     "data": {
      "text/plain": [
       "text_type\n",
       "str         95729\n",
       "NoneType       17\n",
       "int             3\n",
       "Name: count, dtype: int64"
      ]
     },
     "execution_count": 18,
     "metadata": {},
     "output_type": "execute_result"
    }
   ],
   "source": [
    "# Apply to specific column\n",
    "df[\"text_type\"] = df['text'].apply(get_type)\n",
    "\n",
    "# Count types\n",
    "type_counts = df[\"text_type\"].value_counts()\n",
    "\n",
    "type_counts"
   ]
  },
  {
   "cell_type": "code",
   "execution_count": 19,
   "id": "5ae745f6",
   "metadata": {},
   "outputs": [],
   "source": [
    "df = df[df[\"text_type\"] == \"str\"]"
   ]
  },
  {
   "cell_type": "code",
   "execution_count": null,
   "id": "ac51425f",
   "metadata": {},
   "outputs": [],
   "source": [
    "def classify_scam(text):\n",
    "    # Check for adult content patterns\n",
    "    for pattern in adult_content_patterns:\n",
    "        try:\n",
    "            if re.search(pattern, text, re.IGNORECASE):\n",
    "                return 1  # Spam\n",
    "        except:\n",
    "            print(f\"Error in pattern {pattern}\")\n",
    "            import traceback\n",
    "            raise TypeError(traceback.format_exc())\n",
    "    return 0  # Not spam"
   ]
  },
  {
   "cell_type": "code",
   "execution_count": 21,
   "id": "80747729",
   "metadata": {},
   "outputs": [
    {
     "ename": "error",
     "evalue": "global flags not at the start of the expression at position 19",
     "output_type": "error",
     "traceback": [
      "\u001b[1;31m---------------------------------------------------------------------------\u001b[0m",
      "\u001b[1;31merror\u001b[0m                                     Traceback (most recent call last)",
      "Cell \u001b[1;32mIn[21], line 1\u001b[0m\n\u001b[1;32m----> 1\u001b[0m df[\u001b[38;5;124m\"\u001b[39m\u001b[38;5;124mis_scam\u001b[39m\u001b[38;5;124m\"\u001b[39m] \u001b[38;5;241m=\u001b[39m df[\u001b[38;5;124m\"\u001b[39m\u001b[38;5;124mtext\u001b[39m\u001b[38;5;124m\"\u001b[39m]\u001b[38;5;241m.\u001b[39mapply(classify_scam)\n\u001b[0;32m      2\u001b[0m df[df[\u001b[38;5;124m\"\u001b[39m\u001b[38;5;124mis_scam\u001b[39m\u001b[38;5;124m\"\u001b[39m] \u001b[38;5;241m==\u001b[39m \u001b[38;5;241m1\u001b[39m]\n",
      "File \u001b[1;32md:\\Anaconda\\Lib\\site-packages\\pandas\\core\\series.py:4924\u001b[0m, in \u001b[0;36mSeries.apply\u001b[1;34m(self, func, convert_dtype, args, by_row, **kwargs)\u001b[0m\n\u001b[0;32m   4789\u001b[0m \u001b[38;5;28;01mdef\u001b[39;00m \u001b[38;5;21mapply\u001b[39m(\n\u001b[0;32m   4790\u001b[0m     \u001b[38;5;28mself\u001b[39m,\n\u001b[0;32m   4791\u001b[0m     func: AggFuncType,\n\u001b[1;32m   (...)\u001b[0m\n\u001b[0;32m   4796\u001b[0m     \u001b[38;5;241m*\u001b[39m\u001b[38;5;241m*\u001b[39mkwargs,\n\u001b[0;32m   4797\u001b[0m ) \u001b[38;5;241m-\u001b[39m\u001b[38;5;241m>\u001b[39m DataFrame \u001b[38;5;241m|\u001b[39m Series:\n\u001b[0;32m   4798\u001b[0m \u001b[38;5;250m    \u001b[39m\u001b[38;5;124;03m\"\"\"\u001b[39;00m\n\u001b[0;32m   4799\u001b[0m \u001b[38;5;124;03m    Invoke function on values of Series.\u001b[39;00m\n\u001b[0;32m   4800\u001b[0m \n\u001b[1;32m   (...)\u001b[0m\n\u001b[0;32m   4915\u001b[0m \u001b[38;5;124;03m    dtype: float64\u001b[39;00m\n\u001b[0;32m   4916\u001b[0m \u001b[38;5;124;03m    \"\"\"\u001b[39;00m\n\u001b[0;32m   4917\u001b[0m     \u001b[38;5;28;01mreturn\u001b[39;00m SeriesApply(\n\u001b[0;32m   4918\u001b[0m         \u001b[38;5;28mself\u001b[39m,\n\u001b[0;32m   4919\u001b[0m         func,\n\u001b[0;32m   4920\u001b[0m         convert_dtype\u001b[38;5;241m=\u001b[39mconvert_dtype,\n\u001b[0;32m   4921\u001b[0m         by_row\u001b[38;5;241m=\u001b[39mby_row,\n\u001b[0;32m   4922\u001b[0m         args\u001b[38;5;241m=\u001b[39margs,\n\u001b[0;32m   4923\u001b[0m         kwargs\u001b[38;5;241m=\u001b[39mkwargs,\n\u001b[1;32m-> 4924\u001b[0m     )\u001b[38;5;241m.\u001b[39mapply()\n",
      "File \u001b[1;32md:\\Anaconda\\Lib\\site-packages\\pandas\\core\\apply.py:1427\u001b[0m, in \u001b[0;36mSeriesApply.apply\u001b[1;34m(self)\u001b[0m\n\u001b[0;32m   1424\u001b[0m     \u001b[38;5;28;01mreturn\u001b[39;00m \u001b[38;5;28mself\u001b[39m\u001b[38;5;241m.\u001b[39mapply_compat()\n\u001b[0;32m   1426\u001b[0m \u001b[38;5;66;03m# self.func is Callable\u001b[39;00m\n\u001b[1;32m-> 1427\u001b[0m \u001b[38;5;28;01mreturn\u001b[39;00m \u001b[38;5;28mself\u001b[39m\u001b[38;5;241m.\u001b[39mapply_standard()\n",
      "File \u001b[1;32md:\\Anaconda\\Lib\\site-packages\\pandas\\core\\apply.py:1507\u001b[0m, in \u001b[0;36mSeriesApply.apply_standard\u001b[1;34m(self)\u001b[0m\n\u001b[0;32m   1501\u001b[0m \u001b[38;5;66;03m# row-wise access\u001b[39;00m\n\u001b[0;32m   1502\u001b[0m \u001b[38;5;66;03m# apply doesn't have a `na_action` keyword and for backward compat reasons\u001b[39;00m\n\u001b[0;32m   1503\u001b[0m \u001b[38;5;66;03m# we need to give `na_action=\"ignore\"` for categorical data.\u001b[39;00m\n\u001b[0;32m   1504\u001b[0m \u001b[38;5;66;03m# TODO: remove the `na_action=\"ignore\"` when that default has been changed in\u001b[39;00m\n\u001b[0;32m   1505\u001b[0m \u001b[38;5;66;03m#  Categorical (GH51645).\u001b[39;00m\n\u001b[0;32m   1506\u001b[0m action \u001b[38;5;241m=\u001b[39m \u001b[38;5;124m\"\u001b[39m\u001b[38;5;124mignore\u001b[39m\u001b[38;5;124m\"\u001b[39m \u001b[38;5;28;01mif\u001b[39;00m \u001b[38;5;28misinstance\u001b[39m(obj\u001b[38;5;241m.\u001b[39mdtype, CategoricalDtype) \u001b[38;5;28;01melse\u001b[39;00m \u001b[38;5;28;01mNone\u001b[39;00m\n\u001b[1;32m-> 1507\u001b[0m mapped \u001b[38;5;241m=\u001b[39m obj\u001b[38;5;241m.\u001b[39m_map_values(\n\u001b[0;32m   1508\u001b[0m     mapper\u001b[38;5;241m=\u001b[39mcurried, na_action\u001b[38;5;241m=\u001b[39maction, convert\u001b[38;5;241m=\u001b[39m\u001b[38;5;28mself\u001b[39m\u001b[38;5;241m.\u001b[39mconvert_dtype\n\u001b[0;32m   1509\u001b[0m )\n\u001b[0;32m   1511\u001b[0m \u001b[38;5;28;01mif\u001b[39;00m \u001b[38;5;28mlen\u001b[39m(mapped) \u001b[38;5;129;01mand\u001b[39;00m \u001b[38;5;28misinstance\u001b[39m(mapped[\u001b[38;5;241m0\u001b[39m], ABCSeries):\n\u001b[0;32m   1512\u001b[0m     \u001b[38;5;66;03m# GH#43986 Need to do list(mapped) in order to get treated as nested\u001b[39;00m\n\u001b[0;32m   1513\u001b[0m     \u001b[38;5;66;03m#  See also GH#25959 regarding EA support\u001b[39;00m\n\u001b[0;32m   1514\u001b[0m     \u001b[38;5;28;01mreturn\u001b[39;00m obj\u001b[38;5;241m.\u001b[39m_constructor_expanddim(\u001b[38;5;28mlist\u001b[39m(mapped), index\u001b[38;5;241m=\u001b[39mobj\u001b[38;5;241m.\u001b[39mindex)\n",
      "File \u001b[1;32md:\\Anaconda\\Lib\\site-packages\\pandas\\core\\base.py:921\u001b[0m, in \u001b[0;36mIndexOpsMixin._map_values\u001b[1;34m(self, mapper, na_action, convert)\u001b[0m\n\u001b[0;32m    918\u001b[0m \u001b[38;5;28;01mif\u001b[39;00m \u001b[38;5;28misinstance\u001b[39m(arr, ExtensionArray):\n\u001b[0;32m    919\u001b[0m     \u001b[38;5;28;01mreturn\u001b[39;00m arr\u001b[38;5;241m.\u001b[39mmap(mapper, na_action\u001b[38;5;241m=\u001b[39mna_action)\n\u001b[1;32m--> 921\u001b[0m \u001b[38;5;28;01mreturn\u001b[39;00m algorithms\u001b[38;5;241m.\u001b[39mmap_array(arr, mapper, na_action\u001b[38;5;241m=\u001b[39mna_action, convert\u001b[38;5;241m=\u001b[39mconvert)\n",
      "File \u001b[1;32md:\\Anaconda\\Lib\\site-packages\\pandas\\core\\algorithms.py:1743\u001b[0m, in \u001b[0;36mmap_array\u001b[1;34m(arr, mapper, na_action, convert)\u001b[0m\n\u001b[0;32m   1741\u001b[0m values \u001b[38;5;241m=\u001b[39m arr\u001b[38;5;241m.\u001b[39mastype(\u001b[38;5;28mobject\u001b[39m, copy\u001b[38;5;241m=\u001b[39m\u001b[38;5;28;01mFalse\u001b[39;00m)\n\u001b[0;32m   1742\u001b[0m \u001b[38;5;28;01mif\u001b[39;00m na_action \u001b[38;5;129;01mis\u001b[39;00m \u001b[38;5;28;01mNone\u001b[39;00m:\n\u001b[1;32m-> 1743\u001b[0m     \u001b[38;5;28;01mreturn\u001b[39;00m lib\u001b[38;5;241m.\u001b[39mmap_infer(values, mapper, convert\u001b[38;5;241m=\u001b[39mconvert)\n\u001b[0;32m   1744\u001b[0m \u001b[38;5;28;01melse\u001b[39;00m:\n\u001b[0;32m   1745\u001b[0m     \u001b[38;5;28;01mreturn\u001b[39;00m lib\u001b[38;5;241m.\u001b[39mmap_infer_mask(\n\u001b[0;32m   1746\u001b[0m         values, mapper, mask\u001b[38;5;241m=\u001b[39misna(values)\u001b[38;5;241m.\u001b[39mview(np\u001b[38;5;241m.\u001b[39muint8), convert\u001b[38;5;241m=\u001b[39mconvert\n\u001b[0;32m   1747\u001b[0m     )\n",
      "File \u001b[1;32mlib.pyx:2972\u001b[0m, in \u001b[0;36mpandas._libs.lib.map_infer\u001b[1;34m()\u001b[0m\n",
      "Cell \u001b[1;32mIn[20], line 4\u001b[0m, in \u001b[0;36mclassify_scam\u001b[1;34m(text)\u001b[0m\n\u001b[0;32m      1\u001b[0m \u001b[38;5;28;01mdef\u001b[39;00m \u001b[38;5;21mclassify_scam\u001b[39m(text):\n\u001b[0;32m      2\u001b[0m     \u001b[38;5;66;03m# Check for adult content patterns\u001b[39;00m\n\u001b[0;32m      3\u001b[0m     \u001b[38;5;28;01mfor\u001b[39;00m pattern \u001b[38;5;129;01min\u001b[39;00m adult_content_patterns:\n\u001b[1;32m----> 4\u001b[0m         \u001b[38;5;28;01mif\u001b[39;00m re\u001b[38;5;241m.\u001b[39msearch(pattern, text, re\u001b[38;5;241m.\u001b[39mIGNORECASE):\n\u001b[0;32m      5\u001b[0m             \u001b[38;5;28;01mreturn\u001b[39;00m \u001b[38;5;241m1\u001b[39m  \u001b[38;5;66;03m# Spam\u001b[39;00m\n\u001b[0;32m      6\u001b[0m     \u001b[38;5;28;01mreturn\u001b[39;00m \u001b[38;5;241m0\u001b[39m\n",
      "File \u001b[1;32md:\\Anaconda\\Lib\\re\\__init__.py:177\u001b[0m, in \u001b[0;36msearch\u001b[1;34m(pattern, string, flags)\u001b[0m\n\u001b[0;32m    174\u001b[0m \u001b[38;5;28;01mdef\u001b[39;00m \u001b[38;5;21msearch\u001b[39m(pattern, string, flags\u001b[38;5;241m=\u001b[39m\u001b[38;5;241m0\u001b[39m):\n\u001b[0;32m    175\u001b[0m \u001b[38;5;250m    \u001b[39m\u001b[38;5;124;03m\"\"\"Scan through string looking for a match to the pattern, returning\u001b[39;00m\n\u001b[0;32m    176\u001b[0m \u001b[38;5;124;03m    a Match object, or None if no match was found.\"\"\"\u001b[39;00m\n\u001b[1;32m--> 177\u001b[0m     \u001b[38;5;28;01mreturn\u001b[39;00m _compile(pattern, flags)\u001b[38;5;241m.\u001b[39msearch(string)\n",
      "File \u001b[1;32md:\\Anaconda\\Lib\\re\\__init__.py:307\u001b[0m, in \u001b[0;36m_compile\u001b[1;34m(pattern, flags)\u001b[0m\n\u001b[0;32m    301\u001b[0m     \u001b[38;5;28;01mimport\u001b[39;00m \u001b[38;5;21;01mwarnings\u001b[39;00m\n\u001b[0;32m    302\u001b[0m     warnings\u001b[38;5;241m.\u001b[39mwarn(\u001b[38;5;124m\"\u001b[39m\u001b[38;5;124mThe re.TEMPLATE/re.T flag is deprecated \u001b[39m\u001b[38;5;124m\"\u001b[39m\n\u001b[0;32m    303\u001b[0m             \u001b[38;5;124m\"\u001b[39m\u001b[38;5;124mas it is an undocumented flag \u001b[39m\u001b[38;5;124m\"\u001b[39m\n\u001b[0;32m    304\u001b[0m             \u001b[38;5;124m\"\u001b[39m\u001b[38;5;124mwithout an obvious purpose. \u001b[39m\u001b[38;5;124m\"\u001b[39m\n\u001b[0;32m    305\u001b[0m             \u001b[38;5;124m\"\u001b[39m\u001b[38;5;124mDon\u001b[39m\u001b[38;5;124m'\u001b[39m\u001b[38;5;124mt use it.\u001b[39m\u001b[38;5;124m\"\u001b[39m,\n\u001b[0;32m    306\u001b[0m             \u001b[38;5;167;01mDeprecationWarning\u001b[39;00m)\n\u001b[1;32m--> 307\u001b[0m p \u001b[38;5;241m=\u001b[39m _compiler\u001b[38;5;241m.\u001b[39mcompile(pattern, flags)\n\u001b[0;32m    308\u001b[0m \u001b[38;5;28;01mif\u001b[39;00m flags \u001b[38;5;241m&\u001b[39m DEBUG:\n\u001b[0;32m    309\u001b[0m     \u001b[38;5;28;01mreturn\u001b[39;00m p\n",
      "File \u001b[1;32md:\\Anaconda\\Lib\\re\\_compiler.py:745\u001b[0m, in \u001b[0;36mcompile\u001b[1;34m(p, flags)\u001b[0m\n\u001b[0;32m    743\u001b[0m \u001b[38;5;28;01mif\u001b[39;00m isstring(p):\n\u001b[0;32m    744\u001b[0m     pattern \u001b[38;5;241m=\u001b[39m p\n\u001b[1;32m--> 745\u001b[0m     p \u001b[38;5;241m=\u001b[39m _parser\u001b[38;5;241m.\u001b[39mparse(p, flags)\n\u001b[0;32m    746\u001b[0m \u001b[38;5;28;01melse\u001b[39;00m:\n\u001b[0;32m    747\u001b[0m     pattern \u001b[38;5;241m=\u001b[39m \u001b[38;5;28;01mNone\u001b[39;00m\n",
      "File \u001b[1;32md:\\Anaconda\\Lib\\re\\_parser.py:979\u001b[0m, in \u001b[0;36mparse\u001b[1;34m(str, flags, state)\u001b[0m\n\u001b[0;32m    976\u001b[0m state\u001b[38;5;241m.\u001b[39mflags \u001b[38;5;241m=\u001b[39m flags\n\u001b[0;32m    977\u001b[0m state\u001b[38;5;241m.\u001b[39mstr \u001b[38;5;241m=\u001b[39m \u001b[38;5;28mstr\u001b[39m\n\u001b[1;32m--> 979\u001b[0m p \u001b[38;5;241m=\u001b[39m _parse_sub(source, state, flags \u001b[38;5;241m&\u001b[39m SRE_FLAG_VERBOSE, \u001b[38;5;241m0\u001b[39m)\n\u001b[0;32m    980\u001b[0m p\u001b[38;5;241m.\u001b[39mstate\u001b[38;5;241m.\u001b[39mflags \u001b[38;5;241m=\u001b[39m fix_flags(\u001b[38;5;28mstr\u001b[39m, p\u001b[38;5;241m.\u001b[39mstate\u001b[38;5;241m.\u001b[39mflags)\n\u001b[0;32m    982\u001b[0m \u001b[38;5;28;01mif\u001b[39;00m source\u001b[38;5;241m.\u001b[39mnext \u001b[38;5;129;01mis\u001b[39;00m \u001b[38;5;129;01mnot\u001b[39;00m \u001b[38;5;28;01mNone\u001b[39;00m:\n",
      "File \u001b[1;32md:\\Anaconda\\Lib\\re\\_parser.py:460\u001b[0m, in \u001b[0;36m_parse_sub\u001b[1;34m(source, state, verbose, nested)\u001b[0m\n\u001b[0;32m    458\u001b[0m start \u001b[38;5;241m=\u001b[39m source\u001b[38;5;241m.\u001b[39mtell()\n\u001b[0;32m    459\u001b[0m \u001b[38;5;28;01mwhile\u001b[39;00m \u001b[38;5;28;01mTrue\u001b[39;00m:\n\u001b[1;32m--> 460\u001b[0m     itemsappend(_parse(source, state, verbose, nested \u001b[38;5;241m+\u001b[39m \u001b[38;5;241m1\u001b[39m,\n\u001b[0;32m    461\u001b[0m                        \u001b[38;5;129;01mnot\u001b[39;00m nested \u001b[38;5;129;01mand\u001b[39;00m \u001b[38;5;129;01mnot\u001b[39;00m items))\n\u001b[0;32m    462\u001b[0m     \u001b[38;5;28;01mif\u001b[39;00m \u001b[38;5;129;01mnot\u001b[39;00m sourcematch(\u001b[38;5;124m\"\u001b[39m\u001b[38;5;124m|\u001b[39m\u001b[38;5;124m\"\u001b[39m):\n\u001b[0;32m    463\u001b[0m         \u001b[38;5;28;01mbreak\u001b[39;00m\n",
      "File \u001b[1;32md:\\Anaconda\\Lib\\re\\_parser.py:840\u001b[0m, in \u001b[0;36m_parse\u001b[1;34m(source, state, verbose, nested, first)\u001b[0m\n\u001b[0;32m    838\u001b[0m \u001b[38;5;28;01mif\u001b[39;00m flags \u001b[38;5;129;01mis\u001b[39;00m \u001b[38;5;28;01mNone\u001b[39;00m:  \u001b[38;5;66;03m# global flags\u001b[39;00m\n\u001b[0;32m    839\u001b[0m     \u001b[38;5;28;01mif\u001b[39;00m \u001b[38;5;129;01mnot\u001b[39;00m first \u001b[38;5;129;01mor\u001b[39;00m subpattern:\n\u001b[1;32m--> 840\u001b[0m         \u001b[38;5;28;01mraise\u001b[39;00m source\u001b[38;5;241m.\u001b[39merror(\u001b[38;5;124m'\u001b[39m\u001b[38;5;124mglobal flags not at the start \u001b[39m\u001b[38;5;124m'\u001b[39m\n\u001b[0;32m    841\u001b[0m                            \u001b[38;5;124m'\u001b[39m\u001b[38;5;124mof the expression\u001b[39m\u001b[38;5;124m'\u001b[39m,\n\u001b[0;32m    842\u001b[0m                            source\u001b[38;5;241m.\u001b[39mtell() \u001b[38;5;241m-\u001b[39m start)\n\u001b[0;32m    843\u001b[0m     verbose \u001b[38;5;241m=\u001b[39m state\u001b[38;5;241m.\u001b[39mflags \u001b[38;5;241m&\u001b[39m SRE_FLAG_VERBOSE\n\u001b[0;32m    844\u001b[0m     \u001b[38;5;28;01mcontinue\u001b[39;00m\n",
      "\u001b[1;31merror\u001b[0m: global flags not at the start of the expression at position 19"
     ]
    }
   ],
   "source": [
    "df[\"is_scam\"] = df[\"text\"].apply(classify_scam)\n",
    "df[df[\"is_scam\"] == 1]"
   ]
  },
  {
   "cell_type": "code",
   "execution_count": null,
   "id": "20bb102d",
   "metadata": {},
   "outputs": [
    {
     "data": {
      "text/plain": [
       "'there is this costless dating website packed with countless sexoholics\\r\\nno gifts , no walks on the beach , just meetup to get laid : )\\r\\nthere are also some who want something more serious though\\r\\nso if you want a one night stand , or a long term relationship , you got it ; )\\r\\nwhatever floats your boat pretty much !\\r\\nhttp : / / www . cumherecomic . net\\r\\n'"
      ]
     },
     "execution_count": 43,
     "metadata": {},
     "output_type": "execute_result"
    }
   ],
   "source": [
    "df.iloc[7][\"text\"]"
   ]
  },
  {
   "cell_type": "code",
   "execution_count": null,
   "id": "a53a7dfc",
   "metadata": {},
   "outputs": [],
   "source": [
    "def classify_scam_test(text):\n",
    "    # Check for adult content patterns\n",
    "    if re.search(adult_content_patterns[2], text):\n",
    "        return 1  # Spam\n",
    "    return 0  # Not spam"
   ]
  },
  {
   "cell_type": "code",
   "execution_count": null,
   "id": "954bfb61",
   "metadata": {},
   "outputs": [
    {
     "name": "stdout",
     "output_type": "stream",
     "text": [
      "       Unnamed: 0            source  \\\n",
      "19             19         enron.csv   \n",
      "20             20         enron.csv   \n",
      "22             22         enron.csv   \n",
      "74             74         enron.csv   \n",
      "83             83         enron.csv   \n",
      "...           ...               ...   \n",
      "95386       95386  fraud_detect.csv   \n",
      "95479       95479  fraud_detect.csv   \n",
      "95647       95647  fraud_detect.csv   \n",
      "95702       95702  fraud_detect.csv   \n",
      "95725       95725  fraud_detect.csv   \n",
      "\n",
      "                                                    text label  \\\n",
      "19     here ' s a special offer for you . . .\\r\\nwant...     1   \n",
      "20     how ' re you doing there , paliourg\\r\\ncialis ...     1   \n",
      "22     good morning sir ,\\r\\ncheck out the discounts ...     1   \n",
      "74     extra - time - last 5 - 10 times longer !\\r\\nt...     1   \n",
      "83     how does viagra professional work ?\\r\\nviagra ...     1   \n",
      "...                                                  ...   ...   \n",
      "95386  Want explicit SEX in 30 secs? Ring 02073162414...  spam   \n",
      "95479  Mila, age23, blonde, new in UK. I look sex wit...  spam   \n",
      "95647  Want explicit SEX in 30 secs? Ring 02073162414...  spam   \n",
      "95702  Mila, age23, blonde, new in UK. I look sex wit...  spam   \n",
      "95725  This message is free. Welcome to the new & imp...  spam   \n",
      "\n",
      "                                                 subject text_type  is_scam  \\\n",
      "19     attract the opposite sex , the ultimate guide ...       str        1   \n",
      "20                             health order for paliourg       str        1   \n",
      "22        impress her with a hard erection . . . midband       str        1   \n",
      "74             extra - time - last 5 - 10 times longer !       str        1   \n",
      "83                            your women will be happy !       str        1   \n",
      "...                                                  ...       ...      ...   \n",
      "95386                                                NaN       str        1   \n",
      "95479                                                NaN       str        1   \n",
      "95647                                                NaN       str        1   \n",
      "95702                                                NaN       str        1   \n",
      "95725                                                NaN       str        1   \n",
      "\n",
      "       temp_value  \n",
      "19              1  \n",
      "20              1  \n",
      "22              1  \n",
      "74              1  \n",
      "83              1  \n",
      "...           ...  \n",
      "95386           1  \n",
      "95479           1  \n",
      "95647           1  \n",
      "95702           1  \n",
      "95725           1  \n",
      "\n",
      "[2231 rows x 8 columns]\n"
     ]
    }
   ],
   "source": [
    "df[\"temp_value\"] = df[\"text\"].apply(classify_scam_test)\n",
    "print(df[df[\"temp_value\"] == 1])\n",
    "df.drop(columns=[\"temp_value\"], inplace=True)"
   ]
  },
  {
   "cell_type": "code",
   "execution_count": null,
   "id": "381908a6",
   "metadata": {},
   "outputs": [],
   "source": [
    "def classify_spam_single_label(text):\n",
    "    text = str(text).lower()\n",
    "    scores = {category: 0 for category in patterns.keys()}\n",
    "    \n",
    "    # Count keyword matches for each category\n",
    "    for category, sub_patterns in patterns.items():\n",
    "        for pattern in sub_patterns:\n",
    "            if re.search(pattern, text):\n",
    "                # Increment the score for the category if a keyword is found\n",
    "                scores[category] += 1\n",
    "    \n",
    "    # Find the category with the highest score\n",
    "    max_score = 0\n",
    "    best_category = 'Other Spam'\n",
    "    \n",
    "    for category, score in scores.items():\n",
    "        if score > max_score:\n",
    "            max_score = score\n",
    "            best_category = category\n",
    "    \n",
    "    return best_category"
   ]
  },
  {
   "cell_type": "code",
   "execution_count": null,
   "id": "74078e2b",
   "metadata": {},
   "outputs": [
    {
     "name": "stdout",
     "output_type": "stream",
     "text": [
      "spam_type\n",
      "Financial Fraud    47935\n",
      "Other Spam         34305\n",
      "Advertisement       5234\n",
      "Phishing            4420\n",
      "Adult Content       2151\n",
      "Lottery Scam        1402\n",
      "Malware              282\n",
      "Name: count, dtype: int64\n"
     ]
    }
   ],
   "source": [
    "# Apply classification and create new column\n",
    "df['spam_type'] = df['text'].apply(classify_spam_single_label)\n",
    "\n",
    "# View distribution\n",
    "print(df['spam_type'].value_counts())"
   ]
  },
  {
   "cell_type": "code",
   "execution_count": null,
   "id": "ca9152f7",
   "metadata": {},
   "outputs": [],
   "source": [
    "malware_df = df[df[\"spam_type\"] == \"Malware\"]\n",
    "adult_content_df = df[df[\"spam_type\"] == \"Adult Content\"]\n",
    "lottery_scam_df = df[df[\"spam_type\"] == \"Lottery Scam\"]\n",
    "financial_fraud_df = df[df[\"spam_type\"] == \"Financial Fraud\"]\n",
    "advertisement_df = df[df[\"spam_type\"] == \"Advertisement\"]\n",
    "phishing_df = df[df[\"spam_type\"] == \"Phishing\"]"
   ]
  },
  {
   "cell_type": "code",
   "execution_count": null,
   "id": "058575a0",
   "metadata": {},
   "outputs": [],
   "source": [
    "df[df[\"spam_type\"] == \"Other Spam\"].to_csv(\"./other_spam_emails.csv\", index=False)"
   ]
  },
  {
   "cell_type": "code",
   "execution_count": null,
   "id": "22a4ad1f",
   "metadata": {},
   "outputs": [],
   "source": []
  }
 ],
 "metadata": {
  "kernelspec": {
   "display_name": "base",
   "language": "python",
   "name": "python3"
  },
  "language_info": {
   "codemirror_mode": {
    "name": "ipython",
    "version": 3
   },
   "file_extension": ".py",
   "mimetype": "text/x-python",
   "name": "python",
   "nbconvert_exporter": "python",
   "pygments_lexer": "ipython3",
   "version": "3.12.4"
  }
 },
 "nbformat": 4,
 "nbformat_minor": 5
}
