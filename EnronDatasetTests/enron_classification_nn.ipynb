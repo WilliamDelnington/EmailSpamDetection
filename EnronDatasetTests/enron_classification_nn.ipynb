{
 "cells": [
  {
   "cell_type": "code",
   "execution_count": null,
   "id": "930cdd8e",
   "metadata": {},
   "outputs": [],
   "source": [
    "import pandas as pd\n",
    "import sys\n",
    "\n",
    "sys.path.append(\"..\")\n",
    "\n",
    "import traintest"
   ]
  },
  {
   "cell_type": "code",
   "execution_count": null,
   "id": "6c874983",
   "metadata": {},
   "outputs": [],
   "source": [
    "enron1 = pd.read_csv(\"./enron1.csv\")\n",
    "enron2 = pd.read_csv(\"./enron2.csv\")\n",
    "enron3 = pd.read_csv(\"./enron3.csv\")\n",
    "enron4 = pd.read_csv(\"./enron4.csv\")\n",
    "enron5 = pd.read_csv(\"./enron5.csv\")\n",
    "enron6 = pd.read_csv(\"./enron6.csv\")"
   ]
  }
 ],
 "metadata": {
  "kernelspec": {
   "display_name": ".venv",
   "language": "python",
   "name": "python3"
  },
  "language_info": {
   "codemirror_mode": {
    "name": "ipython",
    "version": 3
   },
   "file_extension": ".py",
   "mimetype": "text/x-python",
   "name": "python",
   "nbconvert_exporter": "python",
   "pygments_lexer": "ipython3",
   "version": "3.10.2"
  }
 },
 "nbformat": 4,
 "nbformat_minor": 5
}
