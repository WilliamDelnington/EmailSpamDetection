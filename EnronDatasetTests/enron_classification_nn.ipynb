{
 "cells": [
  {
   "cell_type": "code",
   "execution_count": 1,
   "id": "930cdd8e",
   "metadata": {},
   "outputs": [],
   "source": [
    "import pandas as pd\n",
    "import sys\n",
    "\n",
    "sys.path.append(\"../Handlers\")\n",
    "\n",
    "import traintest"
   ]
  },
  {
   "cell_type": "code",
   "execution_count": 2,
   "id": "6c874983",
   "metadata": {},
   "outputs": [],
   "source": [
    "enron1 = pd.read_csv(\"./enron1.csv\")\n",
    "enron2 = pd.read_csv(\"./enron2.csv\")\n",
    "enron3 = pd.read_csv(\"./enron3.csv\")\n",
    "enron4 = pd.read_csv(\"./enron4.csv\")\n",
    "enron5 = pd.read_csv(\"./enron5.csv\")\n",
    "enron6 = pd.read_csv(\"./enron6.csv\")"
   ]
  },
  {
   "cell_type": "code",
   "execution_count": 3,
   "id": "12e07a3e",
   "metadata": {},
   "outputs": [
    {
     "name": "stderr",
     "output_type": "stream",
     "text": [
      "IOPub data rate exceeded.\n",
      "The Jupyter server will temporarily stop sending output\n",
      "to the client in order to avoid crashing it.\n",
      "To change this limit, set the config variable\n",
      "`--ServerApp.iopub_data_rate_limit`.\n",
      "\n",
      "Current values:\n",
      "ServerApp.iopub_data_rate_limit=1000000.0 (bytes/sec)\n",
      "ServerApp.rate_limit_window=3.0 (secs)\n",
      "\n"
     ]
    }
   ],
   "source": [
    "cnn_enron1 = traintest.PreprocessAndTrainWithCNN()\n",
    "cnn_enron1.load_data(enron1)"
   ]
  },
  {
   "cell_type": "code",
   "execution_count": 4,
   "id": "bfcb478c",
   "metadata": {},
   "outputs": [],
   "source": [
    "cnn_enron1.split()"
   ]
  },
  {
   "cell_type": "code",
   "execution_count": 5,
   "id": "1866085b",
   "metadata": {},
   "outputs": [],
   "source": [
    "cnn_enron1.preprocess()"
   ]
  },
  {
   "cell_type": "code",
   "execution_count": 6,
   "id": "e2a95c07",
   "metadata": {
    "scrolled": true
   },
   "outputs": [
    {
     "name": "stdout",
     "output_type": "stream",
     "text": [
      "Epoch 1/10\n",
      "\u001b[1m130/130\u001b[0m \u001b[32m━━━━━━━━━━━━━━━━━━━━\u001b[0m\u001b[37m\u001b[0m \u001b[1m12s\u001b[0m 18ms/step - accuracy: 0.7802 - loss: 0.4349 - precision: 0.6751 - recall: 0.2966 - val_accuracy: 0.9662 - val_loss: 0.1030 - val_precision: 0.8934 - val_recall: 0.9965\n",
      "Epoch 2/10\n",
      "\u001b[1m130/130\u001b[0m \u001b[32m━━━━━━━━━━━━━━━━━━━━\u001b[0m\u001b[37m\u001b[0m \u001b[1m2s\u001b[0m 14ms/step - accuracy: 0.9837 - loss: 0.0487 - precision: 0.9587 - recall: 0.9880 - val_accuracy: 0.9787 - val_loss: 0.0543 - val_precision: 0.9400 - val_recall: 0.9860\n",
      "Epoch 3/10\n",
      "\u001b[1m130/130\u001b[0m \u001b[32m━━━━━━━━━━━━━━━━━━━━\u001b[0m\u001b[37m\u001b[0m \u001b[1m2s\u001b[0m 16ms/step - accuracy: 0.9991 - loss: 0.0062 - precision: 0.9979 - recall: 0.9991 - val_accuracy: 0.9778 - val_loss: 0.0583 - val_precision: 0.9340 - val_recall: 0.9895\n",
      "Epoch 4/10\n",
      "\u001b[1m130/130\u001b[0m \u001b[32m━━━━━━━━━━━━━━━━━━━━\u001b[0m\u001b[37m\u001b[0m \u001b[1m2s\u001b[0m 14ms/step - accuracy: 0.9999 - loss: 0.0017 - precision: 0.9998 - recall: 1.0000 - val_accuracy: 0.9768 - val_loss: 0.0598 - val_precision: 0.9338 - val_recall: 0.9860\n",
      "Epoch 5/10\n",
      "\u001b[1m130/130\u001b[0m \u001b[32m━━━━━━━━━━━━━━━━━━━━\u001b[0m\u001b[37m\u001b[0m \u001b[1m2s\u001b[0m 14ms/step - accuracy: 0.9999 - loss: 0.0016 - precision: 0.9996 - recall: 1.0000 - val_accuracy: 0.9778 - val_loss: 0.0675 - val_precision: 0.9311 - val_recall: 0.9930\n",
      "Epoch 6/10\n",
      "\u001b[1m130/130\u001b[0m \u001b[32m━━━━━━━━━━━━━━━━━━━━\u001b[0m\u001b[37m\u001b[0m \u001b[1m2s\u001b[0m 13ms/step - accuracy: 0.9999 - loss: 9.2776e-04 - precision: 0.9997 - recall: 1.0000 - val_accuracy: 0.9768 - val_loss: 0.0653 - val_precision: 0.9309 - val_recall: 0.9895\n",
      "Epoch 7/10\n",
      "\u001b[1m130/130\u001b[0m \u001b[32m━━━━━━━━━━━━━━━━━━━━\u001b[0m\u001b[37m\u001b[0m \u001b[1m2s\u001b[0m 13ms/step - accuracy: 0.9993 - loss: 0.0035 - precision: 0.9978 - recall: 1.0000 - val_accuracy: 0.9758 - val_loss: 0.0764 - val_precision: 0.9223 - val_recall: 0.9965\n",
      "Epoch 8/10\n",
      "\u001b[1m130/130\u001b[0m \u001b[32m━━━━━━━━━━━━━━━━━━━━\u001b[0m\u001b[37m\u001b[0m \u001b[1m2s\u001b[0m 15ms/step - accuracy: 0.9998 - loss: 9.6412e-04 - precision: 0.9994 - recall: 1.0000 - val_accuracy: 0.9739 - val_loss: 0.0725 - val_precision: 0.9246 - val_recall: 0.9860\n",
      "Epoch 9/10\n",
      "\u001b[1m130/130\u001b[0m \u001b[32m━━━━━━━━━━━━━━━━━━━━\u001b[0m\u001b[37m\u001b[0m \u001b[1m2s\u001b[0m 15ms/step - accuracy: 0.9994 - loss: 0.0024 - precision: 0.9979 - recall: 1.0000 - val_accuracy: 0.9739 - val_loss: 0.0773 - val_precision: 0.9218 - val_recall: 0.9895\n",
      "Epoch 10/10\n",
      "\u001b[1m130/130\u001b[0m \u001b[32m━━━━━━━━━━━━━━━━━━━━\u001b[0m\u001b[37m\u001b[0m \u001b[1m2s\u001b[0m 14ms/step - accuracy: 0.9999 - loss: 5.1251e-04 - precision: 0.9996 - recall: 1.0000 - val_accuracy: 0.9720 - val_loss: 0.0787 - val_precision: 0.9241 - val_recall: 0.9790\n"
     ]
    }
   ],
   "source": [
    "cnn_enron1.build(epochs=17)"
   ]
  },
  {
   "cell_type": "code",
   "execution_count": 7,
   "id": "a46f7153",
   "metadata": {},
   "outputs": [
    {
     "name": "stdout",
     "output_type": "stream",
     "text": [
      "\u001b[1m33/33\u001b[0m \u001b[32m━━━━━━━━━━━━━━━━━━━━\u001b[0m\u001b[37m\u001b[0m \u001b[1m0s\u001b[0m 7ms/step\n",
      "              precision    recall  f1-score   support\n",
      "\n",
      "           0       0.99      0.97      0.98       749\n",
      "           1       0.92      0.98      0.95       286\n",
      "\n",
      "    accuracy                           0.97      1035\n",
      "   macro avg       0.96      0.97      0.97      1035\n",
      "weighted avg       0.97      0.97      0.97      1035\n",
      "\n"
     ]
    }
   ],
   "source": [
    "cnn_enron1.evaluate()"
   ]
  },
  {
   "cell_type": "code",
   "execution_count": null,
   "id": "eb067d3a-2be6-4299-a6a1-e33cc8bf2707",
   "metadata": {},
   "outputs": [],
   "source": []
  }
 ],
 "metadata": {
  "kernelspec": {
   "display_name": ".venv",
   "language": "python",
   "name": "python3"
  },
  "language_info": {
   "codemirror_mode": {
    "name": "ipython",
    "version": 3
   },
   "file_extension": ".py",
   "mimetype": "text/x-python",
   "name": "python",
   "nbconvert_exporter": "python",
   "pygments_lexer": "ipython3",
   "version": "3.10.2"
  }
 },
 "nbformat": 4,
 "nbformat_minor": 5
}
