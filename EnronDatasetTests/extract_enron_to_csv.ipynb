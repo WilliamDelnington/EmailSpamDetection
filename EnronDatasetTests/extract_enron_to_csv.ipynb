{
 "cells": [
  {
   "cell_type": "markdown",
   "id": "12bf2968-6301-4fb3-88a6-6eb49ff1395b",
   "metadata": {},
   "source": [
    "Import libraries"
   ]
  },
  {
   "cell_type": "code",
   "execution_count": 1,
   "id": "93e101ce-cdcd-4aa6-bd78-b996deb24b75",
   "metadata": {},
   "outputs": [],
   "source": [
    "import os"
   ]
  },
  {
   "cell_type": "markdown",
   "id": "be2c66cc-de82-4cf0-a2d4-3877e654ab6c",
   "metadata": {},
   "source": [
    "Specify Enron email text files paths:"
   ]
  },
  {
   "cell_type": "code",
   "execution_count": 2,
   "id": "d71323c0-cbc5-4cf8-a66c-6208ca42cd6e",
   "metadata": {},
   "outputs": [],
   "source": [
    "paths = [\n",
    "    {\n",
    "        \"input\": \"./enron1\",\n",
    "        \"output\": \"./enron1.csv\"\n",
    "    },\n",
    "    {\n",
    "        \"input\": \"./enron2\",\n",
    "        \"output\": \"./enron2.csv\"\n",
    "    },\n",
    "    {\n",
    "        \"input\": \"./enron3\",\n",
    "        \"output\": \"./enron3.csv\"\n",
    "    },\n",
    "    {\n",
    "        \"input\": \"./enron4\",\n",
    "        \"output\": \"./enron4.csv\"\n",
    "    },\n",
    "    {\n",
    "        \"input\": \"./enron5\",\n",
    "        \"output\": \"./enron5.csv\"\n",
    "    },\n",
    "    {\n",
    "        \"input\": \"./enron6\",\n",
    "        \"output\": \"./enron6.csv\"\n",
    "    }\n",
    "]"
   ]
  },
  {
   "cell_type": "code",
   "execution_count": 3,
   "id": "5a4bb10c",
   "metadata": {},
   "outputs": [],
   "source": [
    "from email import message_from_string\n",
    "import os\n",
    "\n",
    "def extract_enron_features(file, file_type=\"ham\"):\n",
    "    if file_type not in [\"spam\", \"ham\"]:\n",
    "        raise ValueError(\"Value not supported for classification\")\n",
    "\n",
    "    with open(file, \"r\", encoding=\"latin-1\") as f:\n",
    "        lines = f.readlines()\n",
    "\n",
    "    first_line = lines[0]\n",
    "    if first_line.startswith(\"Subject: \"):\n",
    "        subject = first_line[8:]\n",
    "    else:\n",
    "        subject = \"\"\n",
    "    rest = lines[1:]\n",
    "\n",
    "    body = \"\\n\".join(rest)\n",
    "\n",
    "    return {\n",
    "        \"Subject\": subject,\n",
    "        \"Body\": body,\n",
    "        \"Label\": 0 if file_type == \"ham\" else 1\n",
    "    }"
   ]
  },
  {
   "cell_type": "code",
   "execution_count": 4,
   "id": "8131455e",
   "metadata": {},
   "outputs": [
    {
     "data": {
      "text/plain": [
       "0"
      ]
     },
     "execution_count": 4,
     "metadata": {},
     "output_type": "execute_result"
    }
   ],
   "source": [
    "specific_path = os.path.join(paths[0][\"input\"], \"ham\")\n",
    "\n",
    "b = extract_enron_features(\"E:\\Python Tests\\AI\\EmailSpamDetection\\EnronDatasetTests\\enron1\\ham/5149.2002-01-04.farmer.ham.txt\")\n",
    "b[\"Label\"]"
   ]
  },
  {
   "cell_type": "code",
   "execution_count": 5,
   "id": "181a3647",
   "metadata": {},
   "outputs": [],
   "source": [
    "from concurrent.futures import ThreadPoolExecutor\n",
    "from functools import partial\n",
    "import pandas as pd\n",
    "\n",
    "for pat in paths:\n",
    "    specific_path = pat[\"input\"]\n",
    "\n",
    "    all_data = []\n",
    "\n",
    "    for t in [\"ham\", \"spam\"]:\n",
    "        extract_features = partial(\n",
    "            extract_enron_features,\n",
    "            file_type=t\n",
    "        )\n",
    "\n",
    "        folder = os.path.join(specific_path, t)\n",
    "\n",
    "        available_paths = [\n",
    "            os.path.join(folder, p) for p in os.listdir(folder)\n",
    "        ]\n",
    "\n",
    "        with ThreadPoolExecutor(max_workers=6) as executor:\n",
    "            extracted = list(executor.map(extract_features, available_paths))\n",
    "\n",
    "        all_data.extend(extracted)\n",
    "\n",
    "    df = pd.DataFrame(all_data)\n",
    "\n",
    "    if os.path.exists(pat[\"output\"]):\n",
    "        old_df = pd.read_csv(pat[\"output\"])\n",
    "        rows = len(old_df)\n",
    "        columns = len(old_df.columns)\n",
    "        if len(all_data) != rows or len(all_data[0].keys()) != columns:\n",
    "            df.to_csv(pat[\"output\"], index=False, escapechar=\"\\\\\")\n",
    "    else:\n",
    "        df.to_csv(pat[\"output\"], index=False, escapechar=\"\\\\\")"
   ]
  },
  {
   "cell_type": "markdown",
   "id": "5fc3836f-e79a-44ab-bcf4-6f9d35e0c9f8",
   "metadata": {},
   "source": [
    "After loading the datasets, pre-process them by removing additional white spaces, punctuations, digits, and next lines."
   ]
  },
  {
   "cell_type": "code",
   "execution_count": 6,
   "id": "47bc28da-aafb-4a03-8987-00d041761859",
   "metadata": {},
   "outputs": [
    {
     "name": "stderr",
     "output_type": "stream",
     "text": [
      "[nltk_data] Downloading package punkt to E:/nltk...\n",
      "[nltk_data]   Package punkt is already up-to-date!\n"
     ]
    }
   ],
   "source": [
    "import sys\n",
    "\n",
    "sys.path.append(\"../Handlers/\")\n",
    "\n",
    "import preprocessing"
   ]
  },
  {
   "cell_type": "markdown",
   "id": "411f9265-2051-4243-8aea-c9db9ca63851",
   "metadata": {},
   "source": [
    "Extract the urls provided in each email"
   ]
  },
  {
   "cell_type": "markdown",
   "id": "6bc5be9f",
   "metadata": {},
   "source": [
    "## Url patterns Test"
   ]
  },
  {
   "cell_type": "markdown",
   "id": "c1d14da9",
   "metadata": {},
   "source": [
    "<code>url_patterns_tests = [</code>\n",
    "\n",
    "<code style=\"margin-left: 1cm\">\"visit us on the web at http : / / www . excuria . com / jobop /\",</code>\n",
    "\n",
    "<code style=\"margin-left: 1cm\">\"visit us on the web at http : / / www . excuria . com / incomeop /\",</code>\n",
    "\n",
    "<code style=\"margin-left: 1cm\">\"distribution system go to http : / / www . excuria . com / remove /\"</code>\n",
    "\n",
    "<code>]</code>"
   ]
  },
  {
   "cell_type": "markdown",
   "id": "8e7ac796",
   "metadata": {},
   "source": [
    "<code>from spam_email_patterns import url_patterns, date_patterns, time_pattern</code>\n",
    "\n",
    "<code>import re</code>\n",
    "\n",
    "<code>matches = [re.finditer(url_patterns, url_patterns_test, re.IGNORECASE) for url_patterns_test in url_patterns_tests]</code>\n",
    "\n",
    "<code>for mat in matches:</code>\n",
    "\n",
    "<code style=\"margin-left: 1cm\">for ite in mat:</code>\n",
    "\n",
    "<code style=\"margin-left: 2cm\">print(ite.group())</code>"
   ]
  },
  {
   "cell_type": "markdown",
   "id": "be1b3661",
   "metadata": {},
   "source": [
    "## Date and time patterns test"
   ]
  },
  {
   "cell_type": "markdown",
   "id": "b64d53d5",
   "metadata": {},
   "source": [
    "<code>patterns_tests = \"time : fri , 15 apr 2005 14 : 59 : 58 - 0800\"</code>\n",
    "\n",
    "<code>m = re.search(date_patterns, patterns_tests)</code>\n",
    "\n",
    "<code>print(m)</code>\n",
    "\n",
    "<code>n = re.search(time_pattern, patterns_tests)</code>\n",
    "\n",
    "<code>print(n)</code>"
   ]
  },
  {
   "cell_type": "markdown",
   "id": "13979450",
   "metadata": {},
   "source": [
    "## Money value test"
   ]
  },
  {
   "cell_type": "markdown",
   "id": "3b3ac3a2",
   "metadata": {},
   "source": [
    "<code>from spam_email_patterns import money_pattern</code>\n",
    "\n",
    "<code>texts = [\"$ 24 . 65\", \"45 . 23 $\", \"$ 24 . 65 $\", \"24 . 65\"]</code>\n",
    "\n",
    "<code>for text in texts:</code>\n",
    "\n",
    "<code style=\"margin-left: 1cm\">match = re.search(money_pattern, text)</code>\n",
    "\n",
    "<code style=\"margin-left: 1cm\">print(f\"{text} => {'Match' if match else 'No match'}\")</code>"
   ]
  }
 ],
 "metadata": {
  "kernelspec": {
   "display_name": ".venv",
   "language": "python",
   "name": "python3"
  },
  "language_info": {
   "codemirror_mode": {
    "name": "ipython",
    "version": 3
   },
   "file_extension": ".py",
   "mimetype": "text/x-python",
   "name": "python",
   "nbconvert_exporter": "python",
   "pygments_lexer": "ipython3",
   "version": "3.10.2"
  }
 },
 "nbformat": 4,
 "nbformat_minor": 5
}
