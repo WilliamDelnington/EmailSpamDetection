{
 "cells": [
  {
   "cell_type": "markdown",
   "id": "1d9eda82",
   "metadata": {},
   "source": [
    "# CountVectorizer + Lemmatizing"
   ]
  },
  {
   "cell_type": "code",
   "execution_count": 1,
   "id": "cf679feb",
   "metadata": {},
   "outputs": [],
   "source": [
    "import pandas as pd\n",
    "\n",
    "enron1_preprocessed = pd.read_csv(\"./csv/preprocessed_enron1_data.csv\")\n",
    "enron2_preprocessed = pd.read_csv(\"./csv/preprocessed_enron2_data.csv\")\n",
    "enron3_preprocessed = pd.read_csv(\"./csv/preprocessed_enron3_data.csv\")\n",
    "enron4_preprocessed = pd.read_csv(\"./csv/preprocessed_enron4_data.csv\")\n",
    "enron5_preprocessed = pd.read_csv(\"./csv/preprocessed_enron5_data.csv\")\n",
    "enron6_preprocessed = pd.read_csv(\"./csv/preprocessed_enron6_data.csv\")\n",
    "merged_enron_preprocessed = pd.read_csv(\"./csv/preprocessed_merged_enron_data.csv\")"
   ]
  },
  {
   "cell_type": "code",
   "execution_count": 2,
   "id": "cb79525a",
   "metadata": {},
   "outputs": [],
   "source": [
    "enron1_preprocessed_X, enron1_preprocessed_y = enron1_preprocessed.drop(columns=[\"Label\"]), enron1_preprocessed[\"Label\"]\n",
    "enron2_preprocessed_X, enron2_preprocessed_y = enron2_preprocessed.drop(columns=[\"Label\"]), enron2_preprocessed[\"Label\"]\n",
    "enron3_preprocessed_X, enron3_preprocessed_y = enron3_preprocessed.drop(columns=[\"Label\"]), enron3_preprocessed[\"Label\"]\n",
    "enron4_preprocessed_X, enron4_preprocessed_y = enron4_preprocessed.drop(columns=[\"Label\"]), enron4_preprocessed[\"Label\"]\n",
    "enron5_preprocessed_X, enron5_preprocessed_y = enron5_preprocessed.drop(columns=[\"Label\"]), enron5_preprocessed[\"Label\"]\n",
    "enron6_preprocessed_X, enron6_preprocessed_y = enron6_preprocessed.drop(columns=[\"Label\"]), enron6_preprocessed[\"Label\"]\n",
    "merged_enron_preprocessed_X, merged_enron_preprocessed_y = merged_enron_preprocessed.drop(columns=[\"Label\"]), merged_enron_preprocessed[\"Label\"]"
   ]
  },
  {
   "cell_type": "code",
   "execution_count": 3,
   "id": "9f73e68d",
   "metadata": {},
   "outputs": [],
   "source": [
    "import sys\n",
    "\n",
    "sys.path.append(\"../Handlers/\")"
   ]
  },
  {
   "cell_type": "markdown",
   "id": "7a40988d",
   "metadata": {},
   "source": [
    "## Lemmatizing"
   ]
  },
  {
   "cell_type": "code",
   "execution_count": 4,
   "id": "0d170ae2",
   "metadata": {},
   "outputs": [
    {
     "name": "stderr",
     "output_type": "stream",
     "text": [
      "[nltk_data] Downloading package punkt to E:/nltk...\n",
      "[nltk_data]   Package punkt is already up-to-date!\n"
     ]
    }
   ],
   "source": [
    "import preprocessing\n",
    "\n",
    "enron1_preprocessed_X = enron1_preprocessed_X.apply(preprocessing.lemmatizing)\n",
    "enron2_preprocessed_X = enron2_preprocessed_X.apply(preprocessing.lemmatizing)\n",
    "enron3_preprocessed_X = enron3_preprocessed_X.apply(preprocessing.lemmatizing)\n",
    "enron4_preprocessed_X = enron4_preprocessed_X.apply(preprocessing.lemmatizing)\n",
    "enron5_preprocessed_X = enron5_preprocessed_X.apply(preprocessing.lemmatizing)\n",
    "enron6_preprocessed_X = enron6_preprocessed_X.apply(preprocessing.lemmatizing)\n",
    "merged_enron_preprocessed_X = merged_enron_preprocessed_X.apply(preprocessing.lemmatizing)"
   ]
  },
  {
   "cell_type": "code",
   "execution_count": 11,
   "id": "025cb144",
   "metadata": {},
   "outputs": [
    {
     "data": {
      "text/plain": [
       "(1,)"
      ]
     },
     "execution_count": 11,
     "metadata": {},
     "output_type": "execute_result"
    }
   ],
   "source": [
    "import ast\n",
    "enron1_preprocessed_X.shape"
   ]
  },
  {
   "cell_type": "markdown",
   "id": "223d47d4",
   "metadata": {},
   "source": [
    "## Count Vectorizer"
   ]
  },
  {
   "cell_type": "code",
   "execution_count": null,
   "id": "9ea2263e",
   "metadata": {},
   "outputs": [],
   "source": [
    "import preprocessing\n",
    "\n",
    "enron1_preprocessed_countvec_X = preprocessing.vectorizing(enron1_preprocessed_X, \"countvectorizer\")\n",
    "\n",
    "print(\"CountVectorizer shape for Enron1:\", enron1_preprocessed_countvec_X.shape)\n",
    "\n",
    "enron2_preprocessed_countvec_X = preprocessing.vectorizing(enron2_preprocessed_X, \"countvectorizer\")\n",
    "\n",
    "print(\"CountVectorizer shape for Enron2:\", enron2_preprocessed_countvec_X.shape)\n",
    "\n",
    "enron3_preprocessed_countvec_X = preprocessing.vectorizing(enron3_preprocessed_X, \"countvectorizer\")\n",
    "\n",
    "print(\"CountVectorizer shape for Enron3:\", enron3_preprocessed_countvec_X.shape)\n",
    "\n",
    "enron4_preprocessed_countvec_X = preprocessing.vectorizing(enron4_preprocessed_X, \"countvectorizer\")\n",
    "\n",
    "print(\"CountVectorizer shape for Enron4:\", enron4_preprocessed_countvec_X.shape)\n",
    "\n",
    "enron5_preprocessed_countvec_X = preprocessing.vectorizing(enron5_preprocessed_X, \"countvectorizer\")\n",
    "\n",
    "print(\"CountVectorizer shape for Enron5:\", enron5_preprocessed_countvec_X.shape)\n",
    "\n",
    "enron6_preprocessed_countvec_X = preprocessing.vectorizing(enron6_preprocessed_X, \"countvectorizer\")\n",
    "\n",
    "print(\"CountVectorizer shape for Enron6:\", enron6_preprocessed_countvec_X.shape)\n",
    "\n",
    "merged_enron_preprocessed_countvec_X = preprocessing.vectorizing(merged_enron_preprocessed_X, \"countvectorizer\", min_df=6)\n",
    "\n",
    "print(\"CountVectorizer shape for Merged Enron:\", merged_enron_preprocessed_countvec_X.shape)"
   ]
  },
  {
   "cell_type": "markdown",
   "id": "8776d481",
   "metadata": {},
   "source": [
    "#### Evaluate different models"
   ]
  },
  {
   "cell_type": "code",
   "execution_count": null,
   "id": "17746896",
   "metadata": {},
   "outputs": [],
   "source": [
    "from traintest import ClassificationModel, models\n",
    "\n",
    "def train_and_evaluate_model(X, y, dataset_name):\n",
    "    print(f\"{dataset_name} classification report\")\n",
    "    print(\"=========================================\")\n",
    "    for model in models:\n",
    "        classification_model = ClassificationModel(model, dataset_name)\n",
    "        classification_model.train(X, y, save_model=True)\n",
    "        print(f\"{model.__class__.__name__} classification report\")\n",
    "        print(classification_model.evaluate())\n",
    "        classification_model.print_simple_confusion_matrix()\n",
    "        print(\"\\n\")\n",
    "\n",
    "print(len(models))"
   ]
  },
  {
   "cell_type": "code",
   "execution_count": null,
   "id": "87ebbc0c",
   "metadata": {},
   "outputs": [],
   "source": [
    "train_and_evaluate_model(enron1_preprocessed_countvec_X, enron1_preprocessed_y, \"enron1\")"
   ]
  },
  {
   "cell_type": "code",
   "execution_count": null,
   "id": "623fc312",
   "metadata": {},
   "outputs": [],
   "source": [
    "train_and_evaluate_model(enron2_preprocessed_countvec_X, enron2_preprocessed_y, \"enron2\")"
   ]
  },
  {
   "cell_type": "code",
   "execution_count": null,
   "id": "e3446f51",
   "metadata": {},
   "outputs": [],
   "source": [
    "train_and_evaluate_model(enron3_preprocessed_countvec_X, enron3_preprocessed_y, \"enron3\")"
   ]
  },
  {
   "cell_type": "code",
   "execution_count": null,
   "id": "a4c70686",
   "metadata": {},
   "outputs": [],
   "source": [
    "train_and_evaluate_model(enron4_preprocessed_countvec_X, enron4_preprocessed_y, \"enron4\")"
   ]
  },
  {
   "cell_type": "code",
   "execution_count": null,
   "id": "f036894b",
   "metadata": {},
   "outputs": [],
   "source": [
    "train_and_evaluate_model(enron5_preprocessed_countvec_X, enron5_preprocessed_y, \"enron5\")"
   ]
  },
  {
   "cell_type": "code",
   "execution_count": null,
   "id": "283c7dee",
   "metadata": {},
   "outputs": [],
   "source": [
    "train_and_evaluate_model(enron6_preprocessed_countvec_X, enron6_preprocessed_y, \"enron6\")"
   ]
  },
  {
   "cell_type": "markdown",
   "id": "ad59bbf3",
   "metadata": {},
   "source": [
    "## TF-IDF Vectorizer"
   ]
  },
  {
   "cell_type": "code",
   "execution_count": null,
   "id": "a18a421f",
   "metadata": {},
   "outputs": [],
   "source": [
    "import preprocessing\n",
    "\n",
    "enron1_preprocessed_tfidf_X = preprocessing.vectorizing(enron1_preprocessed_X, \"tfidf\")\n",
    "\n",
    "print(\"TF-IDF shape for Enron1:\", enron1_preprocessed_tfidf_X.shape)\n",
    "\n",
    "enron2_preprocessed_tfidf_X = preprocessing.vectorizing(enron2_preprocessed_X, \"tfidf\")\n",
    "\n",
    "print(\"TF-IDF shape for Enron2:\", enron2_preprocessed_tfidf_X.shape)\n",
    "\n",
    "enron3_preprocessed_tfidf_X = preprocessing.vectorizing(enron3_preprocessed_X, \"tfidf\")\n",
    "\n",
    "print(\"TF-IDF shape for Enron3:\", enron3_preprocessed_tfidf_X.shape)\n",
    "\n",
    "enron4_preprocessed_tfidf_X = preprocessing.vectorizing(enron4_preprocessed_X, \"tfidf\")\n",
    "\n",
    "print(\"TF-IDF shape for Enron4:\", enron4_preprocessed_tfidf_X.shape)\n",
    "\n",
    "enron5_preprocessed_tfidf_X = preprocessing.vectorizing(enron5_preprocessed_X, \"tfidf\")\n",
    "\n",
    "print(\"TF-IDF shape for Enron5:\", enron5_preprocessed_tfidf_X.shape)\n",
    "\n",
    "enron6_preprocessed_tfidf_X = preprocessing.vectorizing(enron6_preprocessed_X, \"tfidf\")\n",
    "\n",
    "print(\"TF-IDF shape for Enron6:\", enron6_preprocessed_tfidf_X.shape)\n",
    "\n",
    "merged_enron_preprocessed_tfidf_X = preprocessing.vectorizing(merged_enron_preprocessed_X, \"tfidf\", min_df=6)\n",
    "\n",
    "print(\"TF-IDF shape for Merged Enron:\", merged_enron_preprocessed_tfidf_X.shape)"
   ]
  },
  {
   "cell_type": "code",
   "execution_count": null,
   "id": "359c3eaa",
   "metadata": {},
   "outputs": [],
   "source": [
    "train_and_evaluate_model(enron1_preprocessed_tfidf_X, enron1_preprocessed_y, \"enron1\")"
   ]
  },
  {
   "cell_type": "code",
   "execution_count": null,
   "id": "3c1482ae",
   "metadata": {},
   "outputs": [],
   "source": [
    "train_and_evaluate_model(enron2_preprocessed_tfidf_X, enron2_preprocessed_y, \"enron2\")"
   ]
  },
  {
   "cell_type": "code",
   "execution_count": null,
   "id": "c1f8d729",
   "metadata": {},
   "outputs": [],
   "source": [
    "train_and_evaluate_model(enron3_preprocessed_tfidf_X, enron3_preprocessed_y, \"enron3\")"
   ]
  },
  {
   "cell_type": "code",
   "execution_count": null,
   "id": "346e332c",
   "metadata": {},
   "outputs": [],
   "source": [
    "train_and_evaluate_model(enron4_preprocessed_tfidf_X, enron4_preprocessed_y, \"enron4\")"
   ]
  },
  {
   "cell_type": "code",
   "execution_count": null,
   "id": "9e629738",
   "metadata": {},
   "outputs": [],
   "source": [
    "train_and_evaluate_model(enron5_preprocessed_tfidf_X, enron5_preprocessed_y, \"enron5\")"
   ]
  },
  {
   "cell_type": "code",
   "execution_count": null,
   "id": "137c105b",
   "metadata": {},
   "outputs": [],
   "source": [
    "train_and_evaluate_model(enron6_preprocessed_tfidf_X, enron6_preprocessed_y, \"enron6\")"
   ]
  },
  {
   "cell_type": "code",
   "execution_count": null,
   "id": "fd5806fe",
   "metadata": {},
   "outputs": [],
   "source": [
    "train_and_evaluate_model(merged_enron_preprocessed_countvec_X, merged_enron_preprocessed_y, \"merged_enron\")"
   ]
  },
  {
   "cell_type": "code",
   "execution_count": null,
   "id": "383adfa4",
   "metadata": {},
   "outputs": [],
   "source": [
    "train_and_evaluate_model(merged_enron_preprocessed_tfidf_X, merged_enron_preprocessed_y, \"merged_enron\")"
   ]
  }
 ],
 "metadata": {
  "kernelspec": {
   "display_name": "Python 3 (ipykernel)",
   "language": "python",
   "name": "python3"
  },
  "language_info": {
   "codemirror_mode": {
    "name": "ipython",
    "version": 3
   },
   "file_extension": ".py",
   "mimetype": "text/x-python",
   "name": "python",
   "nbconvert_exporter": "python",
   "pygments_lexer": "ipython3",
   "version": "3.10.2"
  }
 },
 "nbformat": 4,
 "nbformat_minor": 5
}
