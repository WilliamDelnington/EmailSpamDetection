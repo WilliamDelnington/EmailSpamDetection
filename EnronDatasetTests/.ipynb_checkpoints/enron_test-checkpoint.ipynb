{
 "cells": [
  {
   "cell_type": "markdown",
   "id": "12bf2968-6301-4fb3-88a6-6eb49ff1395b",
   "metadata": {},
   "source": [
    "Import libraries"
   ]
  },
  {
   "cell_type": "code",
   "execution_count": 1,
   "id": "93e101ce-cdcd-4aa6-bd78-b996deb24b75",
   "metadata": {},
   "outputs": [],
   "source": [
    "import os"
   ]
  },
  {
   "cell_type": "markdown",
   "id": "be2c66cc-de82-4cf0-a2d4-3877e654ab6c",
   "metadata": {},
   "source": [
    "Specify Enron email text files paths:"
   ]
  },
  {
   "cell_type": "code",
   "execution_count": null,
   "id": "d71323c0-cbc5-4cf8-a66c-6208ca42cd6e",
   "metadata": {},
   "outputs": [],
   "source": [
    "paths = [\n",
    "    \"./Enron Dataset Tests/enron1\",\n",
    "    \"./Enron Dataset Tests/enron2\",\n",
    "    \"./Enron Dataset Tests/enron3\",\n",
    "    \"./Enron Dataset Tests/enron4\",\n",
    "    \"./Enron Dataset Tests/enron5\",\n",
    "    \"./Enron Dataset Tests/enron6\"\n",
    "]"
   ]
  },
  {
   "cell_type": "markdown",
   "id": "64a27b18-4fe7-4a81-a241-d5046428f981",
   "metadata": {},
   "source": [
    "Specify function to load emails:"
   ]
  },
  {
   "cell_type": "code",
   "execution_count": 2,
   "id": "a3e3f135-e087-4432-891c-47cf64b4059d",
   "metadata": {},
   "outputs": [],
   "source": [
    "import os\n",
    "\n",
    "def load_enron_emails(base_path=\"enron_data\"):\n",
    "    all_texts = []\n",
    "    all_labels = []\n",
    "\n",
    "    for dataset in sorted(os.listdir(base_path)):\n",
    "        dataset_path = os.path.join(base_path, dataset)\n",
    "        if os.path.isdir(dataset_path):\n",
    "            for label_type in ['ham', 'spam']:\n",
    "                folder_path = os.path.join(dataset_path, label_type)\n",
    "                label = 0 if label_type == 'ham' else 1\n",
    "\n",
    "                for filename in os.listdir(folder_path):\n",
    "                    file_path = os.path.join(folder_path, filename)\n",
    "\n",
    "                    # Read email content\n",
    "                    with open(file_path, 'r', encoding='latin-1') as f:\n",
    "                        try:\n",
    "                            text = f.read()\n",
    "                            all_texts.append(text)\n",
    "                            all_labels.append(label)\n",
    "                        except Exception as e:\n",
    "                            print(f\"Failed reading {file_path}: {e}\")\n",
    "\n",
    "    return all_texts, all_labels"
   ]
  },
  {
   "cell_type": "markdown",
   "id": "5fc3836f-e79a-44ab-bcf4-6f9d35e0c9f8",
   "metadata": {},
   "source": [
    "After loading the datasets, pre-process them:"
   ]
  },
  {
   "cell_type": "code",
   "execution_count": null,
   "id": "25962d54-7f7c-4c9e-bde3-c4d02e45bbe2",
   "metadata": {},
   "outputs": [],
   "source": [
    "import re\n",
    "from nltk.corpus import stopwords\n",
    "nltk.download(\"E:/nltk\")\n",
    "\n",
    "def preprocess_email(text):\n",
    "    text = text.lower()\n",
    "    text = re.sub(r'\\n', ' ', text)\n",
    "    text = re.sub(r'\\W', ' ', text)  # Remove punctuation\n",
    "    text = re.sub(r'\\d+', '', text)  # Remove digits\n",
    "    text = re.sub(r'\\s+', ' ', text).strip()  # Remove extra spaces\n",
    "\n",
    "    # Remove stopwords\n",
    "    stop_words = set(stopwords.words('english'))\n",
    "    words = [word for word in text.split() if word not in stop_words]\n",
    "\n",
    "    return ' '.join(words)"
   ]
  }
 ],
 "metadata": {
  "kernelspec": {
   "display_name": "Python 3 (ipykernel)",
   "language": "python",
   "name": "python3"
  },
  "language_info": {
   "codemirror_mode": {
    "name": "ipython",
    "version": 3
   },
   "file_extension": ".py",
   "mimetype": "text/x-python",
   "name": "python",
   "nbconvert_exporter": "python",
   "pygments_lexer": "ipython3",
   "version": "3.10.2"
  }
 },
 "nbformat": 4,
 "nbformat_minor": 5
}
