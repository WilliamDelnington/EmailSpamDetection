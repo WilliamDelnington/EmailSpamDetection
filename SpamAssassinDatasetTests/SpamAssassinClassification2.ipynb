{
 "cells": [
  {
   "cell_type": "code",
   "execution_count": null,
   "id": "a3ece83b",
   "metadata": {},
   "outputs": [],
   "source": [
    "import pandas as pd\n",
    "from functools import partial\n",
    "import sys\n",
    "\n",
    "sys.path.append(\"../Handlers\")\n",
    "\n",
    "JSON_WRITE_MODE = \"overwrite\"\n",
    "\n",
    "import preprocessing"
   ]
  },
  {
   "cell_type": "code",
   "execution_count": null,
   "id": "a68f92a5",
   "metadata": {},
   "outputs": [],
   "source": [
    "csv_file = pd.read_csv(\"./SpamAssassin.csv\")\n",
    "\n",
    "csv_file.head()"
   ]
  },
  {
   "cell_type": "code",
   "execution_count": null,
   "id": "e9950543",
   "metadata": {},
   "outputs": [],
   "source": [
    "from traintest import ClassificationModel, models, add_to_json_array\n",
    "\n",
    "metric_results = []\n",
    "\n",
    "def train_and_evaluate_model(X, y, dataset_name):\n",
    "    print(f\"{dataset_name} classification report\")\n",
    "    print(\"=========================================\")\n",
    "    for model in models:\n",
    "        classification_model = ClassificationModel(model, dataset_name)\n",
    "        classification_model.validation(X, y, save_model=True)\n",
    "        print(f\"{model.__class__.__name__} classification report\")\n",
    "        metrics = classification_model.evaluate(detailed=True)\n",
    "        metric_results.append(metrics)\n",
    "        print(metrics)\n",
    "        print(\"\\n\")"
   ]
  },
  {
   "cell_type": "code",
   "execution_count": null,
   "id": "3436b2d9",
   "metadata": {},
   "outputs": [],
   "source": [
    "preprocession = partial(\n",
    "    preprocessing.preprocess_text,\n",
    "    remove_numbers=True\n",
    ")\n",
    "\n",
    "preprocessed_data = csv_file[\"Body\"].apply(preprocession)\n",
    "preprocessed_data"
   ]
  },
  {
   "cell_type": "markdown",
   "id": "77810663",
   "metadata": {},
   "source": [
    "## Stemming + CountVectorizer"
   ]
  },
  {
   "cell_type": "code",
   "execution_count": null,
   "id": "a8216cce",
   "metadata": {},
   "outputs": [],
   "source": [
    "spam_assassin_stemming = preprocessed_data.apply(preprocessing.stemming)\n",
    "spam_assassin_stemming_countvec = preprocessing.vectorizing(spam_assassin_stemming, \"countvectorizer\")"
   ]
  },
  {
   "cell_type": "code",
   "execution_count": null,
   "id": "446d48ff",
   "metadata": {},
   "outputs": [],
   "source": [
    "train_and_evaluate_model(spam_assassin_stemming_countvec, csv_file[\"Is_spam\"], \"spam_assassin_stemming_countvec\")"
   ]
  },
  {
   "cell_type": "markdown",
   "id": "53dfa321",
   "metadata": {},
   "source": [
    "## Stemming + TF-IDF Vectorizer"
   ]
  },
  {
   "cell_type": "code",
   "execution_count": null,
   "id": "8e40f346",
   "metadata": {},
   "outputs": [],
   "source": [
    "spam_assassin_stemming_tfidf = preprocessing.vectorizing(spam_assassin_stemming, \"tfidf\")"
   ]
  },
  {
   "cell_type": "code",
   "execution_count": null,
   "id": "c61b88c3",
   "metadata": {},
   "outputs": [],
   "source": [
    "train_and_evaluate_model(spam_assassin_stemming_tfidf, csv_file[\"Is_spam\"], \"spam_assassin_stemmed_tfidf\")"
   ]
  },
  {
   "cell_type": "markdown",
   "id": "5740b7bd",
   "metadata": {},
   "source": [
    "## Lemmatizing + CountVectorizer"
   ]
  },
  {
   "cell_type": "code",
   "execution_count": null,
   "id": "77619e5a",
   "metadata": {},
   "outputs": [],
   "source": [
    "spam_assassin_lemmatizing = preprocessed_data.apply(preprocessing.lemmatizing)\n",
    "spam_assassin_lemmatizing_countvec = preprocessing.vectorizing(spam_assassin_lemmatizing, \"countvectorizer\")"
   ]
  },
  {
   "cell_type": "code",
   "execution_count": null,
   "id": "0104d991",
   "metadata": {},
   "outputs": [],
   "source": [
    "train_and_evaluate_model(spam_assassin_lemmatizing_countvec, csv_file[\"Is_spam\"], \"spam_assassin_lemmatized_countvec\")"
   ]
  },
  {
   "cell_type": "markdown",
   "id": "42927584",
   "metadata": {},
   "source": [
    "## Lemmatizing + TF-IDF Vectorizer"
   ]
  },
  {
   "cell_type": "code",
   "execution_count": null,
   "id": "dc223450",
   "metadata": {},
   "outputs": [],
   "source": [
    "spam_assassin_lemmatizing_tfidf = preprocessing.vectorizing(spam_assassin_lemmatizing, \"tfidf\")"
   ]
  },
  {
   "cell_type": "code",
   "execution_count": null,
   "id": "0d1f9d21",
   "metadata": {},
   "outputs": [],
   "source": [
    "train_and_evaluate_model(spam_assassin_lemmatizing_tfidf, csv_file[\"Is_spam\"], \"spam_assassin_lemmatized_tfidf\")"
   ]
  },
  {
   "cell_type": "code",
   "execution_count": null,
   "id": "b78aa3ff",
   "metadata": {},
   "outputs": [],
   "source": [
    "print(metric_results)\n",
    "\n",
    "def convert(dic):\n",
    "    dic[\"confusion_matrix\"] = dic[\"confusion_matrix\"].tolist()\n",
    "    return dic\n",
    "\n",
    "metric_results = list(map(convert, metric_results))\n",
    "\n",
    "add_to_json_array(\"./spam_assassin_grid_classification_report.json\", metric_results, mode=\"overwrite\")"
   ]
  }
 ],
 "metadata": {
  "kernelspec": {
   "display_name": ".venv",
   "language": "python",
   "name": "python3"
  },
  "language_info": {
   "codemirror_mode": {
    "name": "ipython",
    "version": 3
   },
   "file_extension": ".py",
   "mimetype": "text/x-python",
   "name": "python",
   "nbconvert_exporter": "python",
   "pygments_lexer": "ipython3",
   "version": "3.10.2"
  }
 },
 "nbformat": 4,
 "nbformat_minor": 5
}
