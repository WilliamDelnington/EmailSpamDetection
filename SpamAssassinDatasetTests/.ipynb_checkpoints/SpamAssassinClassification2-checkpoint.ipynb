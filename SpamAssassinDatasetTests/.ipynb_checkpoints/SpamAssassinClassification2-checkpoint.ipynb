{
 "cells": [
  {
   "cell_type": "code",
   "execution_count": 1,
   "id": "a3ece83b",
   "metadata": {},
   "outputs": [
    {
     "name": "stderr",
     "output_type": "stream",
     "text": [
      "[nltk_data] Downloading package punkt to E:/nltk...\n",
      "[nltk_data]   Package punkt is already up-to-date!\n"
     ]
    }
   ],
   "source": [
    "import pandas as pd\n",
    "from functools import partial\n",
    "import sys\n",
    "\n",
    "sys.path.append(\"../Handlers\")\n",
    "\n",
    "JSON_WRITE_MODE = \"overwrite\"\n",
    "\n",
    "import preprocessing"
   ]
  },
  {
   "cell_type": "code",
   "execution_count": 2,
   "id": "a68f92a5",
   "metadata": {},
   "outputs": [
    {
     "data": {
      "text/html": [
       "<div>\n",
       "<style scoped>\n",
       "    .dataframe tbody tr th:only-of-type {\n",
       "        vertical-align: middle;\n",
       "    }\n",
       "\n",
       "    .dataframe tbody tr th {\n",
       "        vertical-align: top;\n",
       "    }\n",
       "\n",
       "    .dataframe thead th {\n",
       "        text-align: right;\n",
       "    }\n",
       "</style>\n",
       "<table border=\"1\" class=\"dataframe\">\n",
       "  <thead>\n",
       "    <tr style=\"text-align: right;\">\n",
       "      <th></th>\n",
       "      <th>Subject</th>\n",
       "      <th>Date</th>\n",
       "      <th>From</th>\n",
       "      <th>To</th>\n",
       "      <th>Received</th>\n",
       "      <th>Content-Type</th>\n",
       "      <th>Body</th>\n",
       "      <th>Is_spam</th>\n",
       "    </tr>\n",
       "  </thead>\n",
       "  <tbody>\n",
       "    <tr>\n",
       "      <th>0</th>\n",
       "      <td>Re: New Sequences Window</td>\n",
       "      <td>Thu, 22 Aug 2002 18:26:25 +0700</td>\n",
       "      <td>['Robert Elz &lt;kre@munnari.OZ.AU&gt;']</td>\n",
       "      <td>['Chris Garrigues &lt;cwg-dated-1030377287.06fa6d...</td>\n",
       "      <td>['from localhost (localhost [127.0.0.1])\\tby p...</td>\n",
       "      <td>text/plain</td>\n",
       "      <td>Date:        Wed, 21 Aug 2002 10:54:46 -05...</td>\n",
       "      <td>0</td>\n",
       "    </tr>\n",
       "    <tr>\n",
       "      <th>1</th>\n",
       "      <td>[zzzzteana] RE: Alexander</td>\n",
       "      <td>Thu, 22 Aug 2002 12:46:18 +0100</td>\n",
       "      <td>['Steve Burt &lt;Steve_Burt@cursor-system.com&gt;']</td>\n",
       "      <td>['\"\\'zzzzteana@yahoogroups.com\\'\" &lt;zzzzteana@y...</td>\n",
       "      <td>['from localhost (localhost [127.0.0.1])\\tby p...</td>\n",
       "      <td>text/plain</td>\n",
       "      <td>Martin A posted:\\nTassos Papadopoulos, the Gre...</td>\n",
       "      <td>0</td>\n",
       "    </tr>\n",
       "    <tr>\n",
       "      <th>2</th>\n",
       "      <td>[zzzzteana] Moscow bomber</td>\n",
       "      <td>Thu, 22 Aug 2002 13:52:38 +0100</td>\n",
       "      <td>['Tim Chapman &lt;timc@2ubh.com&gt;']</td>\n",
       "      <td>['zzzzteana &lt;zzzzteana@yahoogroups.com&gt;']</td>\n",
       "      <td>['from localhost (localhost [127.0.0.1])\\tby p...</td>\n",
       "      <td>text/plain</td>\n",
       "      <td>Man Threatens Explosion In Moscow \\n\\nThursday...</td>\n",
       "      <td>0</td>\n",
       "    </tr>\n",
       "    <tr>\n",
       "      <th>3</th>\n",
       "      <td>[IRR] Klez: The Virus That  Won't Die</td>\n",
       "      <td>Thu, 22 Aug 2002 09:15:25 -0400</td>\n",
       "      <td>['Monty Solomon &lt;monty@roscom.com&gt;']</td>\n",
       "      <td>['undisclosed-recipient:;']</td>\n",
       "      <td>['from localhost (localhost [127.0.0.1])\\tby p...</td>\n",
       "      <td>text/plain</td>\n",
       "      <td>Klez: The Virus That Won't Die\\n \\nAlready the...</td>\n",
       "      <td>0</td>\n",
       "    </tr>\n",
       "    <tr>\n",
       "      <th>4</th>\n",
       "      <td>Re: Insert signature</td>\n",
       "      <td>Thu, 22 Aug 2002 23:36:32 +1000</td>\n",
       "      <td>['Tony Nugent &lt;tony@linuxworks.com.au&gt;']</td>\n",
       "      <td>['Exmh Users Mailing List &lt;exmh-users@example....</td>\n",
       "      <td>['from localhost (localhost [127.0.0.1])\\tby p...</td>\n",
       "      <td>text/plain</td>\n",
       "      <td>On Wed Aug 21 2002 at 15:46, Ulises Ponce wrot...</td>\n",
       "      <td>0</td>\n",
       "    </tr>\n",
       "  </tbody>\n",
       "</table>\n",
       "</div>"
      ],
      "text/plain": [
       "                                 Subject                             Date  \\\n",
       "0               Re: New Sequences Window  Thu, 22 Aug 2002 18:26:25 +0700   \n",
       "1              [zzzzteana] RE: Alexander  Thu, 22 Aug 2002 12:46:18 +0100   \n",
       "2              [zzzzteana] Moscow bomber  Thu, 22 Aug 2002 13:52:38 +0100   \n",
       "3  [IRR] Klez: The Virus That  Won't Die  Thu, 22 Aug 2002 09:15:25 -0400   \n",
       "4                   Re: Insert signature  Thu, 22 Aug 2002 23:36:32 +1000   \n",
       "\n",
       "                                            From  \\\n",
       "0             ['Robert Elz <kre@munnari.OZ.AU>']   \n",
       "1  ['Steve Burt <Steve_Burt@cursor-system.com>']   \n",
       "2                ['Tim Chapman <timc@2ubh.com>']   \n",
       "3           ['Monty Solomon <monty@roscom.com>']   \n",
       "4       ['Tony Nugent <tony@linuxworks.com.au>']   \n",
       "\n",
       "                                                  To  \\\n",
       "0  ['Chris Garrigues <cwg-dated-1030377287.06fa6d...   \n",
       "1  ['\"\\'zzzzteana@yahoogroups.com\\'\" <zzzzteana@y...   \n",
       "2          ['zzzzteana <zzzzteana@yahoogroups.com>']   \n",
       "3                        ['undisclosed-recipient:;']   \n",
       "4  ['Exmh Users Mailing List <exmh-users@example....   \n",
       "\n",
       "                                            Received Content-Type  \\\n",
       "0  ['from localhost (localhost [127.0.0.1])\\tby p...   text/plain   \n",
       "1  ['from localhost (localhost [127.0.0.1])\\tby p...   text/plain   \n",
       "2  ['from localhost (localhost [127.0.0.1])\\tby p...   text/plain   \n",
       "3  ['from localhost (localhost [127.0.0.1])\\tby p...   text/plain   \n",
       "4  ['from localhost (localhost [127.0.0.1])\\tby p...   text/plain   \n",
       "\n",
       "                                                Body  Is_spam  \n",
       "0      Date:        Wed, 21 Aug 2002 10:54:46 -05...        0  \n",
       "1  Martin A posted:\\nTassos Papadopoulos, the Gre...        0  \n",
       "2  Man Threatens Explosion In Moscow \\n\\nThursday...        0  \n",
       "3  Klez: The Virus That Won't Die\\n \\nAlready the...        0  \n",
       "4  On Wed Aug 21 2002 at 15:46, Ulises Ponce wrot...        0  "
      ]
     },
     "execution_count": 2,
     "metadata": {},
     "output_type": "execute_result"
    }
   ],
   "source": [
    "csv_file = pd.read_csv(\"./SpamAssassin.csv\")\n",
    "\n",
    "csv_file.head()"
   ]
  },
  {
   "cell_type": "code",
   "execution_count": 4,
   "id": "3436b2d9",
   "metadata": {},
   "outputs": [
    {
     "data": {
      "text/plain": [
       "0       [date, DATE, TIME, chris, garrigues, messageid...\n",
       "1       [martin, posted, tassos, papadopoulos, greek, ...\n",
       "2       [man, threatens, explosion, moscow, thursday, ...\n",
       "3       [klez, virus, wont, die, already, prolific, vi...\n",
       "4       [wed, DATE, TIME, ulises, ponce, wrote, hi, co...\n",
       "                              ...                        \n",
       "4193    [preferred, nonsmoker, doctor, ordered, case, ...\n",
       "4194    [dear, subscriber, could, show, way, get, visi...\n",
       "4195    [midsummer, customer, appreciation, sale, expr...\n",
       "4196    [attnsirmadan, strictly, confidential, pleased...\n",
       "4197    [mv, efaeefcdfdcbaPHONENUMefaeefcdfdcba, mv, e...\n",
       "Name: Body, Length: 4198, dtype: object"
      ]
     },
     "execution_count": 4,
     "metadata": {},
     "output_type": "execute_result"
    }
   ],
   "source": [
    "preprocession = partial(\n",
    "    preprocessing.preprocess_text,\n",
    "    remove_numbers=True\n",
    ")\n",
    "\n",
    "preprocessed_data = csv_file[\"Body\"].apply(preprocession)\n",
    "preprocessed_data"
   ]
  },
  {
   "cell_type": "markdown",
   "id": "77810663",
   "metadata": {},
   "source": [
    "## Stemming + CountVectorizer"
   ]
  },
  {
   "cell_type": "code",
   "execution_count": 3,
   "id": "e9950543",
   "metadata": {},
   "outputs": [],
   "source": [
    "from traintest import ClassificationModel, models, add_to_json_array\n",
    "\n",
    "metric_results = []\n",
    "\n",
    "def train_and_evaluate_model(X, y, dataset_name, m=None):\n",
    "    print(f\"{dataset_name} classification report\")\n",
    "    print(\"=========================================\")\n",
    "    if m is None:\n",
    "        for model in models:\n",
    "            classification_model = ClassificationModel(model, dataset_name)\n",
    "            classification_model.validation(X, y, save_model=True)\n",
    "            print(f\"{model.__class__.__name__} classification report\")\n",
    "            metrics = classification_model.evaluate(detailed=True)\n",
    "            metric_results.append(metrics)\n",
    "            print(metrics)\n",
    "            print(\"\\n\")\n",
    "    else:\n",
    "        classification_model = ClassificationModel(m, dataset_name)\n",
    "        classification_model.validation(X, y, save_model=True)\n",
    "        print(f\"{model.__class__.__name__} classification report\")\n",
    "        metrics = classification_model.evaluate(detailed=True)\n",
    "        metric_results.append(metrics)\n",
    "        print(metrics)\n",
    "        print(\"\\n\")"
   ]
  },
  {
   "cell_type": "code",
   "execution_count": 7,
   "id": "4bdcaced-d48e-49ec-a06f-1b64ad7e43be",
   "metadata": {},
   "outputs": [
    {
     "data": {
      "text/html": [
       "<style>#sk-container-id-1 {color: black;background-color: white;}#sk-container-id-1 pre{padding: 0;}#sk-container-id-1 div.sk-toggleable {background-color: white;}#sk-container-id-1 label.sk-toggleable__label {cursor: pointer;display: block;width: 100%;margin-bottom: 0;padding: 0.3em;box-sizing: border-box;text-align: center;}#sk-container-id-1 label.sk-toggleable__label-arrow:before {content: \"▸\";float: left;margin-right: 0.25em;color: #696969;}#sk-container-id-1 label.sk-toggleable__label-arrow:hover:before {color: black;}#sk-container-id-1 div.sk-estimator:hover label.sk-toggleable__label-arrow:before {color: black;}#sk-container-id-1 div.sk-toggleable__content {max-height: 0;max-width: 0;overflow: hidden;text-align: left;background-color: #f0f8ff;}#sk-container-id-1 div.sk-toggleable__content pre {margin: 0.2em;color: black;border-radius: 0.25em;background-color: #f0f8ff;}#sk-container-id-1 input.sk-toggleable__control:checked~div.sk-toggleable__content {max-height: 200px;max-width: 100%;overflow: auto;}#sk-container-id-1 input.sk-toggleable__control:checked~label.sk-toggleable__label-arrow:before {content: \"▾\";}#sk-container-id-1 div.sk-estimator input.sk-toggleable__control:checked~label.sk-toggleable__label {background-color: #d4ebff;}#sk-container-id-1 div.sk-label input.sk-toggleable__control:checked~label.sk-toggleable__label {background-color: #d4ebff;}#sk-container-id-1 input.sk-hidden--visually {border: 0;clip: rect(1px 1px 1px 1px);clip: rect(1px, 1px, 1px, 1px);height: 1px;margin: -1px;overflow: hidden;padding: 0;position: absolute;width: 1px;}#sk-container-id-1 div.sk-estimator {font-family: monospace;background-color: #f0f8ff;border: 1px dotted black;border-radius: 0.25em;box-sizing: border-box;margin-bottom: 0.5em;}#sk-container-id-1 div.sk-estimator:hover {background-color: #d4ebff;}#sk-container-id-1 div.sk-parallel-item::after {content: \"\";width: 100%;border-bottom: 1px solid gray;flex-grow: 1;}#sk-container-id-1 div.sk-label:hover label.sk-toggleable__label {background-color: #d4ebff;}#sk-container-id-1 div.sk-serial::before {content: \"\";position: absolute;border-left: 1px solid gray;box-sizing: border-box;top: 0;bottom: 0;left: 50%;z-index: 0;}#sk-container-id-1 div.sk-serial {display: flex;flex-direction: column;align-items: center;background-color: white;padding-right: 0.2em;padding-left: 0.2em;position: relative;}#sk-container-id-1 div.sk-item {position: relative;z-index: 1;}#sk-container-id-1 div.sk-parallel {display: flex;align-items: stretch;justify-content: center;background-color: white;position: relative;}#sk-container-id-1 div.sk-item::before, #sk-container-id-1 div.sk-parallel-item::before {content: \"\";position: absolute;border-left: 1px solid gray;box-sizing: border-box;top: 0;bottom: 0;left: 50%;z-index: -1;}#sk-container-id-1 div.sk-parallel-item {display: flex;flex-direction: column;z-index: 1;position: relative;background-color: white;}#sk-container-id-1 div.sk-parallel-item:first-child::after {align-self: flex-end;width: 50%;}#sk-container-id-1 div.sk-parallel-item:last-child::after {align-self: flex-start;width: 50%;}#sk-container-id-1 div.sk-parallel-item:only-child::after {width: 0;}#sk-container-id-1 div.sk-dashed-wrapped {border: 1px dashed gray;margin: 0 0.4em 0.5em 0.4em;box-sizing: border-box;padding-bottom: 0.4em;background-color: white;}#sk-container-id-1 div.sk-label label {font-family: monospace;font-weight: bold;display: inline-block;line-height: 1.2em;}#sk-container-id-1 div.sk-label-container {text-align: center;}#sk-container-id-1 div.sk-container {/* jupyter's `normalize.less` sets `[hidden] { display: none; }` but bootstrap.min.css set `[hidden] { display: none !important; }` so we also need the `!important` here to be able to override the default hidden behavior on the sphinx rendered scikit-learn.org. See: https://github.com/scikit-learn/scikit-learn/issues/21755 */display: inline-block !important;position: relative;}#sk-container-id-1 div.sk-text-repr-fallback {display: none;}</style><div id=\"sk-container-id-1\" class=\"sk-top-container\"><div class=\"sk-text-repr-fallback\"><pre>SVC()</pre><b>In a Jupyter environment, please rerun this cell to show the HTML representation or trust the notebook. <br />On GitHub, the HTML representation is unable to render, please try loading this page with nbviewer.org.</b></div><div class=\"sk-container\" hidden><div class=\"sk-item\"><div class=\"sk-estimator sk-toggleable\"><input class=\"sk-toggleable__control sk-hidden--visually\" id=\"sk-estimator-id-1\" type=\"checkbox\" checked><label for=\"sk-estimator-id-1\" class=\"sk-toggleable__label sk-toggleable__label-arrow\">SVC</label><div class=\"sk-toggleable__content\"><pre>SVC()</pre></div></div></div></div></div>"
      ],
      "text/plain": [
       "SVC()"
      ]
     },
     "execution_count": 7,
     "metadata": {},
     "output_type": "execute_result"
    }
   ],
   "source": [
    "models[0]"
   ]
  },
  {
   "cell_type": "code",
   "execution_count": 5,
   "id": "a8216cce",
   "metadata": {},
   "outputs": [],
   "source": [
    "spam_assassin_stemming = preprocessed_data.apply(preprocessing.stemming)\n",
    "spam_assassin_stemming_countvec = preprocessing.vectorizing(spam_assassin_stemming, \"countvectorizer\")"
   ]
  },
  {
   "cell_type": "code",
   "execution_count": 6,
   "id": "446d48ff",
   "metadata": {},
   "outputs": [
    {
     "name": "stdout",
     "output_type": "stream",
     "text": [
      "spam_assassin_stemming_countvec classification report\n",
      "=========================================\n",
      "Error saving model: [Errno 2] No such file or directory: './models/grid/SVM_spam_assassin_stemming_countvec_grid.joblib'\n",
      "SVC classification report\n"
     ]
    },
    {
     "name": "stderr",
     "output_type": "stream",
     "text": [
      "Traceback (most recent call last):\n",
      "  File \"E:\\Python Tests\\AI\\emailspamdetection\\SpamAssassinDatasetTests\\../Handlers\\traintest.py\", line 530, in validation\n",
      "    self.__save_model(self.grid, f\"./models/grid/{self.model_name}_{self.data_name}_grid.joblib\")\n",
      "  File \"E:\\Python Tests\\AI\\emailspamdetection\\SpamAssassinDatasetTests\\../Handlers\\traintest.py\", line 684, in __save_model\n",
      "    joblib.dump(model, path)\n",
      "  File \"E:\\Python Tests\\AI\\.venv\\lib\\site-packages\\joblib\\numpy_pickle.py\", line 552, in dump\n",
      "    with open(filename, 'wb') as f:\n",
      "FileNotFoundError: [Errno 2] No such file or directory: './models/grid/SVM_spam_assassin_stemming_countvec_grid.joblib'\n"
     ]
    },
    {
     "ename": "EvaluateError",
     "evalue": "The model hasn't been trained yet.",
     "output_type": "error",
     "traceback": [
      "\u001b[1;31m---------------------------------------------------------------------------\u001b[0m",
      "\u001b[1;31mEvaluateError\u001b[0m                             Traceback (most recent call last)",
      "Cell \u001b[1;32mIn[6], line 1\u001b[0m\n\u001b[1;32m----> 1\u001b[0m \u001b[43mtrain_and_evaluate_model\u001b[49m\u001b[43m(\u001b[49m\u001b[43mspam_assassin_stemming_countvec\u001b[49m\u001b[43m,\u001b[49m\u001b[43m \u001b[49m\u001b[43mcsv_file\u001b[49m\u001b[43m[\u001b[49m\u001b[38;5;124;43m\"\u001b[39;49m\u001b[38;5;124;43mIs_spam\u001b[39;49m\u001b[38;5;124;43m\"\u001b[39;49m\u001b[43m]\u001b[49m\u001b[43m,\u001b[49m\u001b[43m \u001b[49m\u001b[38;5;124;43m\"\u001b[39;49m\u001b[38;5;124;43mspam_assassin_stemming_countvec\u001b[39;49m\u001b[38;5;124;43m\"\u001b[39;49m\u001b[43m)\u001b[49m\n",
      "Cell \u001b[1;32mIn[3], line 12\u001b[0m, in \u001b[0;36mtrain_and_evaluate_model\u001b[1;34m(X, y, dataset_name)\u001b[0m\n\u001b[0;32m     10\u001b[0m classification_model\u001b[38;5;241m.\u001b[39mvalidation(X, y, save_model\u001b[38;5;241m=\u001b[39m\u001b[38;5;28;01mTrue\u001b[39;00m)\n\u001b[0;32m     11\u001b[0m \u001b[38;5;28mprint\u001b[39m(\u001b[38;5;124mf\u001b[39m\u001b[38;5;124m\"\u001b[39m\u001b[38;5;132;01m{\u001b[39;00mmodel\u001b[38;5;241m.\u001b[39m\u001b[38;5;18m__class__\u001b[39m\u001b[38;5;241m.\u001b[39m\u001b[38;5;18m__name__\u001b[39m\u001b[38;5;132;01m}\u001b[39;00m\u001b[38;5;124m classification report\u001b[39m\u001b[38;5;124m\"\u001b[39m)\n\u001b[1;32m---> 12\u001b[0m metrics \u001b[38;5;241m=\u001b[39m \u001b[43mclassification_model\u001b[49m\u001b[38;5;241;43m.\u001b[39;49m\u001b[43mevaluate\u001b[49m\u001b[43m(\u001b[49m\u001b[43mdetailed\u001b[49m\u001b[38;5;241;43m=\u001b[39;49m\u001b[38;5;28;43;01mTrue\u001b[39;49;00m\u001b[43m)\u001b[49m\n\u001b[0;32m     13\u001b[0m metric_results\u001b[38;5;241m.\u001b[39mappend(metrics)\n\u001b[0;32m     14\u001b[0m \u001b[38;5;28mprint\u001b[39m(metrics)\n",
      "File \u001b[1;32mE:\\Python Tests\\AI\\emailspamdetection\\SpamAssassinDatasetTests\\../Handlers\\traintest.py:583\u001b[0m, in \u001b[0;36mClassificationModel.evaluate\u001b[1;34m(self, detailed)\u001b[0m\n\u001b[0;32m    577\u001b[0m \u001b[38;5;250m\u001b[39m\u001b[38;5;124;03m\"\"\"\u001b[39;00m\n\u001b[0;32m    578\u001b[0m \u001b[38;5;124;03mEvaluate the model using the test set and return the classification report.\u001b[39;00m\n\u001b[0;32m    579\u001b[0m \u001b[38;5;124;03mRaises:\u001b[39;00m\n\u001b[0;32m    580\u001b[0m \u001b[38;5;124;03m- EvaluateError: If the model has not been trained yet.\u001b[39;00m\n\u001b[0;32m    581\u001b[0m \u001b[38;5;124;03m\"\"\"\u001b[39;00m\n\u001b[0;32m    582\u001b[0m \u001b[38;5;28;01mif\u001b[39;00m \u001b[38;5;129;01mnot\u001b[39;00m \u001b[38;5;28mself\u001b[39m\u001b[38;5;241m.\u001b[39m__is_trained():\n\u001b[1;32m--> 583\u001b[0m     \u001b[38;5;28;01mraise\u001b[39;00m EvaluateError(\u001b[38;5;124m\"\u001b[39m\u001b[38;5;124mThe model hasn\u001b[39m\u001b[38;5;124m'\u001b[39m\u001b[38;5;124mt been trained yet.\u001b[39m\u001b[38;5;124m\"\u001b[39m)\n\u001b[0;32m    585\u001b[0m y_pred \u001b[38;5;241m=\u001b[39m \u001b[38;5;28mself\u001b[39m\u001b[38;5;241m.\u001b[39mmodel\u001b[38;5;241m.\u001b[39mpredict(\u001b[38;5;28mself\u001b[39m\u001b[38;5;241m.\u001b[39mX_test)\n\u001b[0;32m    587\u001b[0m \u001b[38;5;28mself\u001b[39m\u001b[38;5;241m.\u001b[39mconfusion_matrix \u001b[38;5;241m=\u001b[39m confusion_matrix(\u001b[38;5;28mself\u001b[39m\u001b[38;5;241m.\u001b[39my_test, y_pred)\n",
      "\u001b[1;31mEvaluateError\u001b[0m: The model hasn't been trained yet."
     ]
    }
   ],
   "source": [
    "train_and_evaluate_model(spam_assassin_stemming_countvec, csv_file[\"Is_spam\"], \"spam_assassin_stemming_countvec\", model[0])"
   ]
  },
  {
   "cell_type": "markdown",
   "id": "53dfa321",
   "metadata": {},
   "source": [
    "## Stemming + TF-IDF Vectorizer"
   ]
  },
  {
   "cell_type": "code",
   "execution_count": null,
   "id": "8e40f346",
   "metadata": {},
   "outputs": [],
   "source": [
    "spam_assassin_stemming_tfidf = preprocessing.vectorizing(spam_assassin_stemming, \"tfidf\")"
   ]
  },
  {
   "cell_type": "code",
   "execution_count": null,
   "id": "c61b88c3",
   "metadata": {},
   "outputs": [],
   "source": [
    "train_and_evaluate_model(spam_assassin_stemming_tfidf, csv_file[\"Is_spam\"], \"spam_assassin_stemmed_tfidf\")"
   ]
  },
  {
   "cell_type": "markdown",
   "id": "5740b7bd",
   "metadata": {},
   "source": [
    "## Lemmatizing + CountVectorizer"
   ]
  },
  {
   "cell_type": "code",
   "execution_count": null,
   "id": "77619e5a",
   "metadata": {},
   "outputs": [],
   "source": [
    "spam_assassin_lemmatizing = preprocessed_data.apply(preprocessing.lemmatizing)\n",
    "spam_assassin_lemmatizing_countvec = preprocessing.vectorizing(spam_assassin_lemmatizing, \"countvectorizer\")"
   ]
  },
  {
   "cell_type": "code",
   "execution_count": null,
   "id": "0104d991",
   "metadata": {},
   "outputs": [],
   "source": [
    "train_and_evaluate_model(spam_assassin_lemmatizing_countvec, csv_file[\"Is_spam\"], \"spam_assassin_lemmatized_countvec\")"
   ]
  },
  {
   "cell_type": "markdown",
   "id": "42927584",
   "metadata": {},
   "source": [
    "## Lemmatizing + TF-IDF Vectorizer"
   ]
  },
  {
   "cell_type": "code",
   "execution_count": null,
   "id": "dc223450",
   "metadata": {},
   "outputs": [],
   "source": [
    "spam_assassin_lemmatizing_tfidf = preprocessing.vectorizing(spam_assassin_lemmatizing, \"tfidf\")"
   ]
  },
  {
   "cell_type": "code",
   "execution_count": null,
   "id": "0d1f9d21",
   "metadata": {},
   "outputs": [],
   "source": [
    "train_and_evaluate_model(spam_assassin_lemmatizing_tfidf, csv_file[\"Is_spam\"], \"spam_assassin_lemmatized_tfidf\")"
   ]
  },
  {
   "cell_type": "code",
   "execution_count": null,
   "id": "b78aa3ff",
   "metadata": {},
   "outputs": [],
   "source": [
    "print(metric_results)\n",
    "\n",
    "def convert(dic):\n",
    "    dic[\"confusion_matrix\"] = dic[\"confusion_matrix\"].tolist()\n",
    "    return dic\n",
    "\n",
    "metric_results = list(map(convert, metric_results))\n",
    "\n",
    "add_to_json_array(\"./spam_assassin_grid_classification_report.json\", metric_results, mode=\"overwrite\")"
   ]
  }
 ],
 "metadata": {
  "kernelspec": {
   "display_name": "Python 3 (ipykernel)",
   "language": "python",
   "name": "python3"
  },
  "language_info": {
   "codemirror_mode": {
    "name": "ipython",
    "version": 3
   },
   "file_extension": ".py",
   "mimetype": "text/x-python",
   "name": "python",
   "nbconvert_exporter": "python",
   "pygments_lexer": "ipython3",
   "version": "3.10.2"
  }
 },
 "nbformat": 4,
 "nbformat_minor": 5
}
