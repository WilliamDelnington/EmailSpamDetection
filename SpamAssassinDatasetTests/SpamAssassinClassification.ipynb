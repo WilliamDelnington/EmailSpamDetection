{
 "cells": [
  {
   "cell_type": "code",
   "execution_count": 1,
   "id": "369889fe",
   "metadata": {},
   "outputs": [],
   "source": [
    "import email.policy\n",
    "from email.parser import BytesParser\n",
    "import os\n",
    "from concurrent.futures import ThreadPoolExecutor"
   ]
  },
  {
   "cell_type": "code",
   "execution_count": 2,
   "id": "0b84643a",
   "metadata": {},
   "outputs": [
    {
     "name": "stdout",
     "output_type": "stream",
     "text": [
      "Receive\n",
      "['from mandark.labs.netnoteinc.com ([213.105.180.140]) by    dogma.slashnull.org (8.11.6/8.11.6) with ESMTP id g4GA3qe29480 for    <jm@jmason.org>; Thu, 16 May 2002 11:03:52 +0100', 'from webnote.net (mail.webnote.net [193.120.211.219]) by    mandark.labs.netnoteinc.com (8.11.2/8.11.2) with ESMTP id g4GA3oD28650 for    <jm@netnoteinc.com>; Thu, 16 May 2002 11:03:51 +0100', 'from webcust2.hightowertech.com (webcust2.hightowertech.com    [216.41.166.100]) by webnote.net (8.9.3/8.9.3) with ESMTP id BAA11067 for    <jm@netnoteinc.com>; Thu, 16 May 2002 01:58:00 +0100', 'from html ([199.35.236.73]) by webcust2.hightowertech.com  with    Microsoft SMTPSVC(5.5.1877.197.19); Wed, 15 May 2002 13:50:57 -0700']\n",
      "From\n",
      "['jordan23@mailexcite.com']\n"
     ]
    }
   ],
   "source": [
    "paths = [\n",
    "    \"./easy_ham/easy_ham\",\n",
    "    \"./hard_ham/hard_ham\",\n",
    "    \"./spam_2/spam_2\"\n",
    "]\n",
    "\n",
    "with open(\"./spam_2/spam_2/00004.bdcc075fa4beb5157b5dd6cd41d8887b\", \"rb\") as file:\n",
    "    msg = BytesParser(policy=email.policy.default).parse(file)\n",
    "\n",
    "print(\"Receive\")\n",
    "print(msg.get_all(\"Received\"))\n",
    "print(\"From\")\n",
    "print(msg.get_all(\"From\"))"
   ]
  },
  {
   "cell_type": "code",
   "execution_count": 3,
   "id": "f9a98b35",
   "metadata": {},
   "outputs": [
    {
     "data": {
      "text/plain": [
       "'\\n\\n\\n\\n\\n*****Bonus Fat Absorbers As Seen On TV, Included Free With Purchase Of 2 Or More Bottle, $24.95 Value*****\\n\\n\\n\\n***TAKE $10.00 OFF 2 & 3 MONTH SUPPLY ORDERS, $5.00 OFF 1 MONTH SUPPLY!\\n***AND STILL GET YOUR BONUS!  PRICE WILL BE DEDUCTED DURING PROCESSING.\\n\\n\\n***FAT ABSORBERS ARE GREAT FOR THOSE WHO WANT TO LOSE WEIGHT,  BUT CAN\\'T STAY ON A DIET***\\n\\n\\n***OFFER GOOD UNTIL MAY 27, 2002!  FOREIGN ORDERS INCLUDED!\\n\\n\\n\\n\\nLOSE 30 POUNDS  IN 30 DAYS... GUARANTEED!!!\\n\\n\\n\\nAll Natural Weight-Loss Program, Speeds Up The Metabolism Safely\\nRated #1 In Both Categories of SAFETY & EFFECTIVENESS In\\n(THE United States Today)\\n\\nWE\\'LL HELP YOU GET THINNER!\\nWE\\'RE GOING TO HELP YOU LOOK GOOD, FEEL GOOD AND TAKE CONTROL IN\\n2002\\n\\n\\n\\n\\n\\n\\nWhy Use Our Amazing Weight Loss Capsules?\\n\\n*  They act like a natural magnet to attract fat.\\n*  Stimulates the body\\'s natural metabolism. \\n*  Controls appetite naturally and makes it easier to\\n   eat the right foods consistently.\\n*  Reduces craving for sweets.\\n*  Aids in the absorption of fat and in overall digestion.\\n*  Inhibits bad cholesterol and boosts good cholesterol.\\n*  Aids in the process of weight loss and long-term weight management.\\n*  Completely safe, UltraTrim New Century contains no banned\\n   substances and has no known side effects.\\n\\nWhat Makes UltraTrim New Century Unique?\\n\\nA scientifically designed combination of natural ingredients that\\nprovide long-term weight management in a safe and effective manner.\\n\\n*****\\nReceive A Bonus Supply Of Ultra Trim New Century & A Bottle Of Fat Absorbers Listed Above, \\nWith Every Order Of 2 Or More Bottles. Offer Good Until May. 27, 2002! \\n*****\\n\\nWE GLADLY SHIP TO ALL FOREIGN COUNTRIES! \\n\\nYou will be losing by tomorrow!  Don\\'t Wait, visit our web\\npage below, and order now!\\n\\nEmail Address:   ultratrimnow2001@aol.com\\n\\nOrder by 24 Hour Fax!!!  775-257-6657.\\n\\n*****************\\nhttp://www.geocities.com/ultra_weightloss_2002/\\n*****************\\n\\nThis is the easiest, fastest, and most effective way to lose both\\npounds and inches permanently!!!  This weight loss program is\\ndesigned specifically to \"boost\" weight-loss efforts by assisting\\nbody metabolism, and helping the body\\'s ability to manage weight.\\nA powerful, safe, 30 Day Program.  This is one program you won\\'t\\nfeel starved on.  Complete program for one amazing low price!\\nProgram includes: BONUS AMAZING FAT ABSORBER CAPSULES, 30 DAY -\\nWEIGHT\\nREDUCTION PLAN, PROGRESS REPORT!\\n\\nSPECIAL BONUS...\"FAT ABSORBERS\", AS SEEN ON TV\\nWith every order...AMAZING MELT AWAY FAT ABSORBER CAPSULES with\\ndirections ( Absolutely Free ) ...With these capsules\\nyou can eat what you enjoy, without the worry of fat in your diet.\\n2 to 3 capsules 15 minutes before eating or snack, and the fat will be\\nabsorbed and passed through the body without the digestion of fat into\\nthe body. \\n\\nYou will be losing by tomorrow!  Don\\'t Wait, visit our web\\npage below, and order now!\\n\\nEmail Address:  ultratrimnow2001@aol.com\\n\\n\\nOrder by 24 Hour Fax!!!  775-257-6657.\\n\\n*****************\\nhttp://www.geocities.com/ultra_weightloss_2002/\\n*****************\\n\\n___1 Month Supply $32.95 plus $4.75 S & H, 100 Amazing MegaTrim\\n     Capsules.\\n\\n___2 Month Supply $54.95 plus $4.75 S & H, 200 Amazing MegaTrim\\n     Capsules.  (A $10.95 Savings, Free Bottle)!\\n\\n___3 Month Supply $69.95,  Plus $4.75 S & H, 300 Amazing MegaTrim\\n     Capsules.  (A $28.90 Savings, Free Bottle)!\\n\\nTo Order by postal mail, please send to the below address.\\nMake payable to UltraTrim 2002.\\n\\nUltra Trim 2002\\n4132 Pompton Ct.\\nDayton, Ohio  45405\\n(937) 567-9807\\n\\nOrder by 24 Hour Voice/Fax!!!  775-257-6657.\\n\\n*****\\nImportant Credit Card Information! Please Read Below!\\n\\n*     Credit Card Address, City, State and Zip Code, must match\\n      billing address to be processed. \\n\\n\\n___Check\\n___MoneyOrder\\n___Visa\\n___MasterCard\\n___AmericanExpress\\n___Debt Card\\n\\nName_______________________________________________________\\n(As it appears on Check or Credit Card)\\n\\nAddress____________________________________________________\\n(As it appears on Check or Credit Card)\\n\\n___________________________________________________\\nCity,State,Zip(As it appears on Check or Credit Card)\\n\\n___________________________________________________\\nCountry\\n\\n___________________________________________________\\n(Credit Card Number)\\n\\nExpiration Month_____  Year_____\\n\\n___________________________________________________\\nAuthorized Signature\\n\\n\\n*****IMPORTANT NOTE*****\\n\\n\\nIf Shipping Address Is Different From The Billing Address Above,\\nPlease Fill Out Information Below.\\n\\nShipping Name______________________________________________\\n\\nShipping Address___________________________________________\\n\\n___________________________________________________________\\nShipping City,State,Zip\\n\\n___________________________________________________________\\nCountry\\n\\n___________________________________________________________\\nEmail Address & Phone Number(Please Write Neat)\\n\\n\\n\\nTo Be Removed From Our Mail List, Click Here And Put The Word Remove In The Subject Line.\\n\\n\\n\\n\\n\\n'"
      ]
     },
     "execution_count": 3,
     "metadata": {},
     "output_type": "execute_result"
    }
   ],
   "source": [
    "body = msg.get_body(preferencelist=(\"html\"))\n",
    "\n",
    "if body:\n",
    "    payload = body.get_payload(decode=True)\n",
    "    charset = body.get_content_charset() or \"utf-8\"\n",
    "    try:\n",
    "        extracted_body = payload.decode(charset, errors=\"replace\")\n",
    "    except:\n",
    "        extracted_body = payload.decode(\"utf-8\", errors=\"replace\")\n",
    "\n",
    "from bs4 import BeautifulSoup\n",
    "\n",
    "clean_text = BeautifulSoup(extracted_body, \"html.parser\").get_text()\n",
    "clean_text"
   ]
  },
  {
   "cell_type": "code",
   "execution_count": 4,
   "id": "3da4ba96",
   "metadata": {},
   "outputs": [],
   "source": [
    "def extract_spam_assassin_features(file):\n",
    "    with open(file, \"rb\") as file:\n",
    "        e = BytesParser(policy=email.policy.default).parse(file)\n",
    "\n",
    "    part = e.get_body(preferencelist=(\"plain\", \"html\"))\n",
    "\n",
    "    if part:\n",
    "        payload = part.get_payload(decode=True)\n",
    "        charset = part.get_content_charset()\n",
    "        try:\n",
    "            body = payload.decode(charset, errors=\"replace\")\n",
    "        except:\n",
    "            body = payload.decode(\"utf-8\", errors=\"replace\")\n",
    "\n",
    "    else:\n",
    "        payload = e.get_payload(decode=True)\n",
    "        body = payload.decode(\"utf-8\", errors=\"replace\") if payload else \"\"\n",
    "\n",
    "    body = BeautifulSoup(body, \"html.parser\").get_text()\n",
    "\n",
    "    return {\n",
    "        \"Subject\": e.get(\"Subject\"),\n",
    "        \"Date\": e.get(\"Date\"),\n",
    "        \"From\": e.get_all(\"From\"),\n",
    "        \"To\": e.get_all(\"To\"),\n",
    "        \"Received\": e.get_all(\"Received\"),\n",
    "        \"Content-Type\": e.get_content_type(),\n",
    "        \"Body\": body\n",
    "    }    "
   ]
  },
  {
   "cell_type": "code",
   "execution_count": 5,
   "id": "a4b535b4",
   "metadata": {},
   "outputs": [],
   "source": [
    "overall_data = []\n",
    "\n",
    "for p in paths:\n",
    "    with ThreadPoolExecutor(max_workers=5) as executor:\n",
    "        data = list(executor.map(extract_spam_assassin_features, [os.path.join(p, path) for path in os.listdir(p)]))\n",
    "\n",
    "    overall_data.extend(data)"
   ]
  },
  {
   "cell_type": "code",
   "execution_count": 7,
   "id": "87cdb82d",
   "metadata": {},
   "outputs": [
    {
     "data": {
      "text/plain": [
       "{'Subject': 'Re: New Sequences Window',\n",
       " 'Date': 'Thu, 22 Aug 2002 18:26:25 +0700',\n",
       " 'From': ['Robert Elz <kre@munnari.OZ.AU>'],\n",
       " 'To': ['Chris Garrigues <cwg-dated-1030377287.06fa6d@DeepEddy.Com>'],\n",
       " 'Received': ['from localhost (localhost [127.0.0.1])\\tby phobos.labs.netnoteinc.com (Postfix) with ESMTP id D03E543C36\\tfor <zzzz@localhost>; Thu, 22 Aug 2002 07:36:16 -0400 (EDT)',\n",
       "  'from phobos [127.0.0.1]\\tby localhost with IMAP (fetchmail-5.9.0)\\tfor zzzz@localhost (single-drop); Thu, 22 Aug 2002 12:36:16 +0100 (IST)',\n",
       "  'from listman.example.com (listman.example.com [66.187.233.211]) by    dogma.slashnull.org (8.11.6/8.11.6) with ESMTP id g7MBYrZ04811 for    <zzzz-exmh@example.com>; Thu, 22 Aug 2002 12:34:53 +0100',\n",
       "  'from listman.example.com (localhost.localdomain [127.0.0.1]) by    listman.redhat.com (Postfix) with ESMTP id 8386540858; Thu, 22 Aug 2002    07:35:02 -0400 (EDT)',\n",
       "  'from int-mx1.corp.example.com (int-mx1.corp.example.com    [172.16.52.254]) by listman.redhat.com (Postfix) with ESMTP id 10CF8406D7    for <exmh-workers@listman.redhat.com>; Thu, 22 Aug 2002 07:34:10 -0400    (EDT)',\n",
       "  '(from mail@localhost) by int-mx1.corp.example.com (8.11.6/8.11.6)    id g7MBY7g11259 for exmh-workers@listman.redhat.com; Thu, 22 Aug 2002    07:34:07 -0400',\n",
       "  'from mx1.example.com (mx1.example.com [172.16.48.31]) by    int-mx1.corp.redhat.com (8.11.6/8.11.6) with SMTP id g7MBY7Y11255 for    <exmh-workers@redhat.com>; Thu, 22 Aug 2002 07:34:07 -0400',\n",
       "  'from ratree.psu.ac.th ([202.28.97.6]) by mx1.example.com    (8.11.6/8.11.6) with SMTP id g7MBIhl25223 for <exmh-workers@redhat.com>;    Thu, 22 Aug 2002 07:18:55 -0400',\n",
       "  'from delta.cs.mu.OZ.AU (delta.coe.psu.ac.th [172.30.0.98]) by    ratree.psu.ac.th (8.11.6/8.11.6) with ESMTP id g7MBWel29762;    Thu, 22 Aug 2002 18:32:40 +0700 (ICT)',\n",
       "  'from munnari.OZ.AU (localhost [127.0.0.1]) by delta.cs.mu.OZ.AU    (8.11.6/8.11.6) with ESMTP id g7MBQPW13260; Thu, 22 Aug 2002 18:26:25    +0700 (ICT)'],\n",
       " 'Content-Type': 'text/plain',\n",
       " 'Body': '    Date:        Wed, 21 Aug 2002 10:54:46 -0500\\n    From:        Chris Garrigues \\n    Message-ID:  <1029945287.4797.TMDA@deepeddy.vircio.com>\\n\\n\\n  | I can\\'t reproduce this error.\\n\\nFor me it is very repeatable... (like every time, without fail).\\n\\nThis is the debug log of the pick happening ...\\n\\n18:19:03 Pick_It {exec pick +inbox -list -lbrace -lbrace -subject ftp -rbrace -rbrace} {4852-4852 -sequence mercury}\\n18:19:03 exec pick +inbox -list -lbrace -lbrace -subject ftp -rbrace -rbrace 4852-4852 -sequence mercury\\n18:19:04 Ftoc_PickMsgs {{1 hit}}\\n18:19:04 Marking 1 hits\\n18:19:04 tkerror: syntax error in expression \"int ...\\n\\nNote, if I run the pick command by hand ...\\n\\ndelta$ pick +inbox -list -lbrace -lbrace -subject ftp -rbrace -rbrace  4852-4852 -sequence mercury\\n1 hit\\n\\nThat\\'s where the \"1 hit\" comes from (obviously).  The version of nmh I\\'m\\nusing is ...\\n\\ndelta$ pick -version\\npick -- nmh-1.0.4 [compiled on fuchsia.cs.mu.OZ.AU at Sun Mar 17 14:55:56 ICT 2002]\\n\\nAnd the relevant part of my .mh_profile ...\\n\\ndelta$ mhparam pick\\n-seq sel -list\\n\\n\\nSince the pick command works, the sequence (actually, both of them, the\\none that\\'s explicit on the command line, from the search popup, and the\\none that comes from .mh_profile) do get created.\\n\\nkre\\n\\nps: this is still using the version of the code form a day ago, I haven\\'t\\nbeen able to reach the cvs repository today (local routing issue I think).\\n\\n\\n\\n_______________________________________________\\nExmh-workers mailing list\\nExmh-workers@redhat.com\\nhttps://listman.redhat.com/mailman/listinfo/exmh-workers\\n\\n'}"
      ]
     },
     "execution_count": 7,
     "metadata": {},
     "output_type": "execute_result"
    }
   ],
   "source": [
    "overall_data[0]"
   ]
  },
  {
   "cell_type": "code",
   "execution_count": 14,
   "id": "c5b2ded8",
   "metadata": {},
   "outputs": [
    {
     "ename": "ImportError",
     "evalue": "C extension: pandas.compat._constants not built. If you want to import pandas from the source directory, you may need to run 'python setup.py build_ext' to build the C extensions first.",
     "output_type": "error",
     "traceback": [
      "\u001b[1;31m---------------------------------------------------------------------------\u001b[0m",
      "\u001b[1;31mImportError\u001b[0m                               Traceback (most recent call last)",
      "File \u001b[1;32m~\\AppData\\Local\\Packages\\PythonSoftwareFoundation.Python.3.11_qbz5n2kfra8p0\\LocalCache\\local-packages\\Python311\\site-packages\\pandas\\__init__.py:39\u001b[0m\n\u001b[0;32m     37\u001b[0m \u001b[38;5;28;01mtry\u001b[39;00m:\n\u001b[0;32m     38\u001b[0m     \u001b[38;5;66;03m# numpy compat\u001b[39;00m\n\u001b[1;32m---> 39\u001b[0m     \u001b[38;5;28;01mfrom\u001b[39;00m \u001b[38;5;21;01mpandas\u001b[39;00m\u001b[38;5;21;01m.\u001b[39;00m\u001b[38;5;21;01mcompat\u001b[39;00m \u001b[38;5;28;01mimport\u001b[39;00m (\n\u001b[0;32m     40\u001b[0m         is_numpy_dev \u001b[38;5;28;01mas\u001b[39;00m _is_numpy_dev,  \u001b[38;5;66;03m# pyright: ignore[reportUnusedImport] # noqa: F401\u001b[39;00m\n\u001b[0;32m     41\u001b[0m     )\n\u001b[0;32m     42\u001b[0m \u001b[38;5;28;01mexcept\u001b[39;00m \u001b[38;5;167;01mImportError\u001b[39;00m \u001b[38;5;28;01mas\u001b[39;00m _err:  \u001b[38;5;66;03m# pragma: no cover\u001b[39;00m\n",
      "File \u001b[1;32m~\\AppData\\Local\\Packages\\PythonSoftwareFoundation.Python.3.11_qbz5n2kfra8p0\\LocalCache\\local-packages\\Python311\\site-packages\\pandas\\compat\\__init__.py:17\u001b[0m\n\u001b[0;32m     15\u001b[0m \u001b[38;5;28;01mfrom\u001b[39;00m \u001b[38;5;21;01mtyping\u001b[39;00m \u001b[38;5;28;01mimport\u001b[39;00m TYPE_CHECKING\n\u001b[1;32m---> 17\u001b[0m \u001b[38;5;28;01mfrom\u001b[39;00m \u001b[38;5;21;01mpandas\u001b[39;00m\u001b[38;5;21;01m.\u001b[39;00m\u001b[38;5;21;01mcompat\u001b[39;00m\u001b[38;5;21;01m.\u001b[39;00m\u001b[38;5;21;01m_constants\u001b[39;00m \u001b[38;5;28;01mimport\u001b[39;00m (\n\u001b[0;32m     18\u001b[0m     IS64,\n\u001b[0;32m     19\u001b[0m     ISMUSL,\n\u001b[0;32m     20\u001b[0m     PY310,\n\u001b[0;32m     21\u001b[0m     PY311,\n\u001b[0;32m     22\u001b[0m     PY312,\n\u001b[0;32m     23\u001b[0m     PYPY,\n\u001b[0;32m     24\u001b[0m )\n\u001b[0;32m     25\u001b[0m \u001b[38;5;28;01mimport\u001b[39;00m \u001b[38;5;21;01mpandas\u001b[39;00m\u001b[38;5;21;01m.\u001b[39;00m\u001b[38;5;21;01mcompat\u001b[39;00m\u001b[38;5;21;01m.\u001b[39;00m\u001b[38;5;21;01mcompressors\u001b[39;00m\n",
      "\u001b[1;31mImportError\u001b[0m: cannot import name 'ISMUSL' from 'pandas.compat._constants' (C:\\Users\\Admin\\AppData\\Local\\Packages\\PythonSoftwareFoundation.Python.3.11_qbz5n2kfra8p0\\LocalCache\\local-packages\\Python311\\site-packages\\pandas\\compat\\_constants.py)",
      "\nThe above exception was the direct cause of the following exception:\n",
      "\u001b[1;31mImportError\u001b[0m                               Traceback (most recent call last)",
      "Cell \u001b[1;32mIn[14], line 1\u001b[0m\n\u001b[1;32m----> 1\u001b[0m \u001b[38;5;28;01mimport\u001b[39;00m \u001b[38;5;21;01mpandas\u001b[39;00m \u001b[38;5;28;01mas\u001b[39;00m \u001b[38;5;21;01mpd\u001b[39;00m\n\u001b[0;32m      3\u001b[0m df \u001b[38;5;241m=\u001b[39m pd\u001b[38;5;241m.\u001b[39mDataFrame(overall_data)\n\u001b[0;32m      5\u001b[0m df\u001b[38;5;241m.\u001b[39mto_csv(\u001b[38;5;124m\"\u001b[39m\u001b[38;5;124mSpamAssassin.csv\u001b[39m\u001b[38;5;124m\"\u001b[39m, index\u001b[38;5;241m=\u001b[39m\u001b[38;5;28;01mFalse\u001b[39;00m)\n",
      "File \u001b[1;32m~\\AppData\\Local\\Packages\\PythonSoftwareFoundation.Python.3.11_qbz5n2kfra8p0\\LocalCache\\local-packages\\Python311\\site-packages\\pandas\\__init__.py:44\u001b[0m\n\u001b[0;32m     42\u001b[0m \u001b[38;5;28;01mexcept\u001b[39;00m \u001b[38;5;167;01mImportError\u001b[39;00m \u001b[38;5;28;01mas\u001b[39;00m _err:  \u001b[38;5;66;03m# pragma: no cover\u001b[39;00m\n\u001b[0;32m     43\u001b[0m     _module \u001b[38;5;241m=\u001b[39m _err\u001b[38;5;241m.\u001b[39mname\n\u001b[1;32m---> 44\u001b[0m     \u001b[38;5;28;01mraise\u001b[39;00m \u001b[38;5;167;01mImportError\u001b[39;00m(\n\u001b[0;32m     45\u001b[0m         \u001b[38;5;124mf\u001b[39m\u001b[38;5;124m\"\u001b[39m\u001b[38;5;124mC extension: \u001b[39m\u001b[38;5;132;01m{\u001b[39;00m_module\u001b[38;5;132;01m}\u001b[39;00m\u001b[38;5;124m not built. If you want to import \u001b[39m\u001b[38;5;124m\"\u001b[39m\n\u001b[0;32m     46\u001b[0m         \u001b[38;5;124m\"\u001b[39m\u001b[38;5;124mpandas from the source directory, you may need to run \u001b[39m\u001b[38;5;124m\"\u001b[39m\n\u001b[0;32m     47\u001b[0m         \u001b[38;5;124m\"\u001b[39m\u001b[38;5;124m'\u001b[39m\u001b[38;5;124mpython setup.py build_ext\u001b[39m\u001b[38;5;124m'\u001b[39m\u001b[38;5;124m to build the C extensions first.\u001b[39m\u001b[38;5;124m\"\u001b[39m\n\u001b[0;32m     48\u001b[0m     ) \u001b[38;5;28;01mfrom\u001b[39;00m \u001b[38;5;21;01m_err\u001b[39;00m\n\u001b[0;32m     50\u001b[0m \u001b[38;5;28;01mfrom\u001b[39;00m \u001b[38;5;21;01mpandas\u001b[39;00m\u001b[38;5;21;01m.\u001b[39;00m\u001b[38;5;21;01m_config\u001b[39;00m \u001b[38;5;28;01mimport\u001b[39;00m (\n\u001b[0;32m     51\u001b[0m     get_option,\n\u001b[0;32m     52\u001b[0m     set_option,\n\u001b[1;32m   (...)\u001b[0m\n\u001b[0;32m     56\u001b[0m     options,\n\u001b[0;32m     57\u001b[0m )\n\u001b[0;32m     59\u001b[0m \u001b[38;5;66;03m# let init-time option registration happen\u001b[39;00m\n",
      "\u001b[1;31mImportError\u001b[0m: C extension: pandas.compat._constants not built. If you want to import pandas from the source directory, you may need to run 'python setup.py build_ext' to build the C extensions first."
     ]
    }
   ],
   "source": [
    "import pandas as pd\n",
    "\n",
    "df = pd.DataFrame(overall_data)\n",
    "\n",
    "df.to_csv(\"SpamAssassin.csv\", index=False)"
   ]
  },
  {
   "cell_type": "code",
   "execution_count": null,
   "id": "d430f510",
   "metadata": {},
   "outputs": [],
   "source": []
  }
 ],
 "metadata": {
  "kernelspec": {
   "display_name": "Python 3",
   "language": "python",
   "name": "python3"
  },
  "language_info": {
   "codemirror_mode": {
    "name": "ipython",
    "version": 3
   },
   "file_extension": ".py",
   "mimetype": "text/x-python",
   "name": "python",
   "nbconvert_exporter": "python",
   "pygments_lexer": "ipython3",
   "version": "3.10.2"
  }
}
}