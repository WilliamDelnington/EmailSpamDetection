{
 "cells": [
  {
   "cell_type": "markdown",
   "id": "e31a5bf3",
   "metadata": {},
   "source": [
    "# Enron dataset:"
   ]
  },
  {
   "cell_type": "code",
   "execution_count": 33,
   "id": "a107fd20",
   "metadata": {},
   "outputs": [
    {
     "name": "stdout",
     "output_type": "stream",
     "text": [
      "label\n",
      "0    15791\n",
      "1    13976\n",
      "Name: count, dtype: int64\n",
      "                                                subject  \\\n",
      "3501  d - link dwl - g 510 802 . 11 g wireless pci l...   \n",
      "3502       indemand payperview movies , sports and more   \n",
      "3503     want to lose up to 19 % weight . try adipren !   \n",
      "3504  cialis , xanax , valium , viagra at low price ...   \n",
      "3505                                     your pre order   \n",
      "\n",
      "                                                   body  label     source  \n",
      "3501  $ 39 . 85 dwl - g 510\\r\\nhigh speed\\r\\n2 . 4\\r...      1  enron.csv  \n",
      "3502  wed , 15 sep 2004 11 : 33 : 14 + 0500\\r\\nhi ca...      1  enron.csv  \n",
      "3503  hello , here ' s a special offer for you . . ....      1  enron.csv  \n",
      "3504  discount rx is simple , quick , and affordable...      1  enron.csv  \n",
      "3505  can ' t see the image below ? click here !\\r\\n...      1  enron.csv  \n"
     ]
    }
   ],
   "source": [
    "import pandas as pd\n",
    "enron_df = pd.read_csv('./Datasets/enron.csv')\n",
    "enron_df[\"source\"] = \"enron.csv\"\n",
    "print(enron_df[\"label\"].value_counts())\n",
    "print(enron_df[enron_df[\"label\"] == 1].head())"
   ]
  },
  {
   "cell_type": "markdown",
   "id": "ed11ef90",
   "metadata": {},
   "source": [
    "# Spam Dataset:"
   ]
  },
  {
   "cell_type": "code",
   "execution_count": 34,
   "id": "7d44371f",
   "metadata": {},
   "outputs": [
    {
     "name": "stdout",
     "output_type": "stream",
     "text": [
      "Category\n",
      "ham     4825\n",
      "spam     747\n",
      "Name: count, dtype: int64\n",
      "   Category                                            Message    source\n",
      "2      spam  Free entry in 2 a wkly comp to win FA Cup fina...  spam.csv\n",
      "5      spam  FreeMsg Hey there darling it's been 3 week's n...  spam.csv\n",
      "8      spam  WINNER!! As a valued network customer you have...  spam.csv\n",
      "9      spam  Had your mobile 11 months or more? U R entitle...  spam.csv\n",
      "11     spam  SIX chances to win CASH! From 100 to 20,000 po...  spam.csv\n"
     ]
    }
   ],
   "source": [
    "spam_df = pd.read_csv('./Datasets/spam.csv', encoding='latin-1')\n",
    "spam_df[\"source\"] = \"spam.csv\"\n",
    "print(spam_df[\"Category\"].value_counts())\n",
    "print(spam_df[spam_df[\"Category\"] == \"spam\"].head())"
   ]
  },
  {
   "cell_type": "markdown",
   "id": "4783d35a",
   "metadata": {},
   "source": [
    "# Spam Dataset 2:"
   ]
  },
  {
   "cell_type": "code",
   "execution_count": 35,
   "id": "2e99f62a",
   "metadata": {},
   "outputs": [
    {
     "name": "stdout",
     "output_type": "stream",
     "text": [
      "is_spam\n",
      "0    500\n",
      "1    500\n",
      "Name: count, dtype: int64\n",
      "                                     message_content  is_spam  \\\n",
      "1  Congratulations, you've won a prize! Call us n...        1   \n",
      "2  You have been pre-approved for a credit card w...        1   \n",
      "3  Limited time offer, act now! Only a few spots ...        1   \n",
      "4  Your loan has been approved! Transfer funds to...        1   \n",
      "5  You have been selected to receive a special of...        1   \n",
      "\n",
      "             source  \n",
      "1  spam_dataset.csv  \n",
      "2  spam_dataset.csv  \n",
      "3  spam_dataset.csv  \n",
      "4  spam_dataset.csv  \n",
      "5  spam_dataset.csv  \n"
     ]
    }
   ],
   "source": [
    "spam_dataset_df = pd.read_csv('./Datasets/spam_dataset.csv', encoding='latin-1')\n",
    "spam_dataset_df[\"source\"] = \"spam_dataset.csv\"\n",
    "print(spam_dataset_df[\"is_spam\"].value_counts())\n",
    "print(spam_dataset_df[spam_dataset_df[\"is_spam\"] == 1].head())"
   ]
  },
  {
   "cell_type": "markdown",
   "id": "2c51c06d",
   "metadata": {},
   "source": [
    "# Ling Dataset:"
   ]
  },
  {
   "cell_type": "code",
   "execution_count": 36,
   "id": "9476baef",
   "metadata": {},
   "outputs": [
    {
     "name": "stdout",
     "output_type": "stream",
     "text": [
      "label\n",
      "0    2401\n",
      "1     458\n",
      "Name: count, dtype: int64\n",
      "                                         subject  \\\n",
      "21                                          free   \n",
      "38                  the internet success toolbox   \n",
      "84  free stealth 3 . 0 bulk email software . . .   \n",
      "85                             need more money ?   \n",
      "86         cable decsrambler now only $ 6 . 99 !   \n",
      "\n",
      "                                                 body  label    source  \n",
      "21  this is a multi-part message in mime format . ...      1  ling.csv  \n",
      "38  note : we do not wish to send e-mail to anyone...      1  ling.csv  \n",
      "84  just released . . . 30 , 000 , 000 email addre...      1  ling.csv  \n",
      "85  hi , would you like to earn an extra $ 700 a w...      1  ling.csv  \n",
      "86  this is really cool ! premium channels and pay...      1  ling.csv  \n"
     ]
    }
   ],
   "source": [
    "ling_df = pd.read_csv('./Datasets/ling.csv')\n",
    "ling_df[\"source\"] = \"ling.csv\"\n",
    "print(ling_df[\"label\"].value_counts())\n",
    "print(ling_df[ling_df[\"label\"] == 1].head())"
   ]
  },
  {
   "cell_type": "markdown",
   "id": "bbbe0b7f",
   "metadata": {},
   "source": [
    "# Messages Dataset:"
   ]
  },
  {
   "cell_type": "code",
   "execution_count": 37,
   "id": "c78ee7dd",
   "metadata": {},
   "outputs": [
    {
     "name": "stdout",
     "output_type": "stream",
     "text": [
      "label\n",
      "0    2412\n",
      "1     481\n",
      "Name: count, dtype: int64\n",
      "                                         subject  \\\n",
      "21                                          free   \n",
      "38                  the internet success toolbox   \n",
      "84  free stealth 3 . 0 bulk email software . . .   \n",
      "85                             need more money ?   \n",
      "86         cable decsrambler now only $ 6 . 99 !   \n",
      "\n",
      "                                              message  label        source  \n",
      "21  this is a multi-part message in mime format . ...      1  messages.csv  \n",
      "38  note : we do not wish to send e-mail to anyone...      1  messages.csv  \n",
      "84  just released . . . 30 , 000 , 000 email addre...      1  messages.csv  \n",
      "85  hi , would you like to earn an extra $ 700 a w...      1  messages.csv  \n",
      "86  this is really cool ! premium channels and pay...      1  messages.csv  \n"
     ]
    }
   ],
   "source": [
    "messages_df = pd.read_csv('./Datasets/messages.csv')\n",
    "messages_df[\"source\"] = \"messages.csv\"\n",
    "print(messages_df[\"label\"].value_counts())\n",
    "print(messages_df[messages_df[\"label\"] == 1].head())"
   ]
  },
  {
   "cell_type": "markdown",
   "id": "b69daf39",
   "metadata": {},
   "source": [
    "# SpamAssassin Dataset:"
   ]
  },
  {
   "cell_type": "code",
   "execution_count": 38,
   "id": "0df86cec",
   "metadata": {},
   "outputs": [
    {
     "name": "stdout",
     "output_type": "stream",
     "text": [
      "label\n",
      "0    4091\n",
      "1    1718\n",
      "Name: count, dtype: int64\n",
      "                                      sender                       receiver  \\\n",
      "4091                     12a1mailbot1@web.de           <dcek1a1@netsgo.com>   \n",
      "4092  \"Slim Down\" <taylor@s3.serveimage.com>                <ilug@linux.ie>   \n",
      "4093   \"Slim Down\" <sabrina@mx3.1premio.com>  <zzzz@spamassassin.taint.org>   \n",
      "4094     Account Services <wsup@playful.com>    zzzz@spamassassin.taint.org   \n",
      "4095  \"Slim n Trim\" <yenene@mx2.1premio.com>              <social@linux.ie>   \n",
      "\n",
      "                                 date  \\\n",
      "4091  Wed, 21 Aug 2002 20:31:57 -1600   \n",
      "4092  Thu, 22 Aug 2002 06:18:18 -0600   \n",
      "4093  Thu, 22 Aug 2002 07:36:19 -0600   \n",
      "4094  Thu, 22 Aug 2002 08:13:35 -0700   \n",
      "4095  Thu, 22 Aug 2002 09:33:07 -0600   \n",
      "\n",
      "                                                subject  \\\n",
      "4091                     Life Insurance - Why Pay More?   \n",
      "4092  [ILUG] Guaranteed to lose 10-12 lbs in 30 days...   \n",
      "4093  Guaranteed to lose 10-12 lbs in 30 days       ...   \n",
      "4094  Re: Fw: User Name & Password to Membership To ...   \n",
      "4095  [ILUG-Social] re: Guaranteed to lose 10-12 lbs...   \n",
      "\n",
      "                                                   body  label  urls  \\\n",
      "4091  * * *      ---      * * *         <= /TR> Save...      1     1   \n",
      "4092  1) Fight The Risk of Cancer!\\nhttp://www.adcli...      1     1   \n",
      "4093  1) Fight The Risk of Cancer!\\nhttp://www.adcli...      1     1   \n",
      "4094  ##############################################...      1     1   \n",
      "4095  I thought you might like these:\\n1) Slim Down ...      1     1   \n",
      "\n",
      "               source  \n",
      "4091  SpamAssasin.csv  \n",
      "4092  SpamAssasin.csv  \n",
      "4093  SpamAssasin.csv  \n",
      "4094  SpamAssasin.csv  \n",
      "4095  SpamAssasin.csv  \n"
     ]
    }
   ],
   "source": [
    "spam_assassin_df = pd.read_csv('./Datasets/SpamAssasin.csv')\n",
    "spam_assassin_df[\"source\"] = \"SpamAssasin.csv\"\n",
    "print(spam_assassin_df[\"label\"].value_counts())\n",
    "print(spam_assassin_df[spam_assassin_df[\"label\"] == 1].head())"
   ]
  },
  {
   "cell_type": "markdown",
   "id": "6bdae319",
   "metadata": {},
   "source": [
    "# Phishing Email Dataset"
   ]
  },
  {
   "cell_type": "code",
   "execution_count": 39,
   "id": "d6f0f2f0",
   "metadata": {},
   "outputs": [
    {
     "name": "stdout",
     "output_type": "stream",
     "text": [
      "Email Type\n",
      "Safe Email        11322\n",
      "Phishing Email     7328\n",
      "Name: count, dtype: int64\n",
      "    Unnamed: 0                                         Email Text  \\\n",
      "3            3  \\nHello I am your hot lil horny toy.\\n    I am...   \n",
      "4            4  software at incredibly low prices ( 86 % lower...   \n",
      "7            7  entourage , stockmogul newsletter ralph velez ...   \n",
      "8            8  we owe you lots of money dear applicant , afte...   \n",
      "10          10  make her beg you to give it to her everynight ...   \n",
      "\n",
      "        Email Type                  source  \n",
      "3   Phishing Email  Phishing_Email (2).csv  \n",
      "4   Phishing Email  Phishing_Email (2).csv  \n",
      "7   Phishing Email  Phishing_Email (2).csv  \n",
      "8   Phishing Email  Phishing_Email (2).csv  \n",
      "10  Phishing Email  Phishing_Email (2).csv  \n"
     ]
    }
   ],
   "source": [
    "phishing_df = pd.read_csv('./Datasets/Phishing_Email (2).csv')\n",
    "phishing_df[\"source\"] = \"Phishing_Email (2).csv\"\n",
    "print(phishing_df[\"Email Type\"].value_counts())\n",
    "print(phishing_df[phishing_df[\"Email Type\"] == \"Phishing Email\"].head())"
   ]
  },
  {
   "cell_type": "markdown",
   "id": "996596ba",
   "metadata": {},
   "source": [
    "# Nigerian Fraud Dataset"
   ]
  },
  {
   "cell_type": "code",
   "execution_count": 40,
   "id": "5869667d",
   "metadata": {},
   "outputs": [
    {
     "name": "stdout",
     "output_type": "stream",
     "text": [
      "label\n",
      "1    3332\n",
      "Name: count, dtype: int64\n",
      "                                           sender              receiver  \\\n",
      "0  MR. JAMES NGOLA. <james_ngola2002@maktoob.com>  webmaster@aclweb.org   \n",
      "1  Mr. Ben Suleman <bensul2004nng@spinfinder.com>                   R@M   \n",
      "2       PRINCE OBONG ELEME <obong_715@epatra.com>  webmaster@aclweb.org   \n",
      "3       PRINCE OBONG ELEME <obong_715@epatra.com>  webmaster@aclweb.org   \n",
      "4              Maryam Abacha <m_abacha03@www.com>                   R@M   \n",
      "\n",
      "                              date  \\\n",
      "0  Thu, 31 Oct 2002 02:38:20 +0000   \n",
      "1  Thu, 31 Oct 2002 05:10:00 -0000   \n",
      "2  Thu, 31 Oct 2002 22:17:55 +0100   \n",
      "3  Thu, 31 Oct 2002 22:44:20 -0000   \n",
      "4  Fri, 01 Nov 2002 01:45:04 +0100   \n",
      "\n",
      "                                      subject  \\\n",
      "0  URGENT BUSINESS ASSISTANCE AND PARTNERSHIP   \n",
      "1         URGENT ASSISTANCE /RELATIONSHIP (P)   \n",
      "2                             GOOD DAY TO YOU   \n",
      "3                             GOOD DAY TO YOU   \n",
      "4                     I Need Your Assistance.   \n",
      "\n",
      "                                                body  urls  label  \\\n",
      "0  FROM:MR. JAMES NGOLA.\\nCONFIDENTIAL TEL: 233-2...     0      1   \n",
      "1  Dear Friend,\\n\\nI am Mr. Ben Suleman a custom ...     0      1   \n",
      "2  FROM HIS ROYAL MAJESTY (HRM) CROWN RULER OF EL...     0      1   \n",
      "3  FROM HIS ROYAL MAJESTY (HRM) CROWN RULER OF EL...     0      1   \n",
      "4  Dear sir, \\n \\nIt is with a heart full of hope...     0      1   \n",
      "\n",
      "               source  \n",
      "0  Nigerian_Fraud.csv  \n",
      "1  Nigerian_Fraud.csv  \n",
      "2  Nigerian_Fraud.csv  \n",
      "3  Nigerian_Fraud.csv  \n",
      "4  Nigerian_Fraud.csv  \n"
     ]
    }
   ],
   "source": [
    "nigerian_fraud_df = pd.read_csv('./Datasets/Nigerian_Fraud.csv')\n",
    "nigerian_fraud_df[\"source\"] = \"Nigerian_Fraud.csv\"\n",
    "print(nigerian_fraud_df[\"label\"].value_counts())\n",
    "print(nigerian_fraud_df[nigerian_fraud_df[\"label\"] == 1].head())"
   ]
  },
  {
   "cell_type": "markdown",
   "id": "e4b2b05d",
   "metadata": {},
   "source": [
    "# Spam Ham Dataset:"
   ]
  },
  {
   "cell_type": "code",
   "execution_count": 41,
   "id": "330f2ca9",
   "metadata": {},
   "outputs": [
    {
     "name": "stdout",
     "output_type": "stream",
     "text": [
      "label\n",
      "ham     3672\n",
      "spam    1499\n",
      "Name: count, dtype: int64\n",
      "    Unnamed: 0 label                                               text  \\\n",
      "3         4685  spam  Subject: photoshop , windows , office . cheap ...   \n",
      "7         4185  spam  Subject: looking for medication ? we ` re the ...   \n",
      "10        4922  spam  Subject: vocable % rnd - word asceticism\\r\\nvc...   \n",
      "11        3799  spam  Subject: report 01405 !\\r\\nwffur attion brom e...   \n",
      "13        3948  spam  Subject: vic . odin n ^ ow\\r\\nberne hotbox car...   \n",
      "\n",
      "    label_num                source  \n",
      "3           1  spam_ham_dataset.csv  \n",
      "7           1  spam_ham_dataset.csv  \n",
      "10          1  spam_ham_dataset.csv  \n",
      "11          1  spam_ham_dataset.csv  \n",
      "13          1  spam_ham_dataset.csv  \n"
     ]
    }
   ],
   "source": [
    "spam_ham_data_df = pd.read_csv('./Datasets/spam_ham_dataset.csv')\n",
    "spam_ham_data_df[\"source\"] = \"spam_ham_dataset.csv\"\n",
    "print(spam_ham_data_df[\"label\"].value_counts())\n",
    "print(spam_ham_data_df[spam_ham_data_df[\"label\"] == \"spam\"].head())"
   ]
  },
  {
   "cell_type": "markdown",
   "id": "a4f18ca9",
   "metadata": {},
   "source": [
    "# Mail Dataset"
   ]
  },
  {
   "cell_type": "code",
   "execution_count": 42,
   "id": "d408ef5f",
   "metadata": {},
   "outputs": [
    {
     "name": "stdout",
     "output_type": "stream",
     "text": [
      "Category\n",
      "ham     4825\n",
      "spam     747\n",
      "Name: count, dtype: int64\n",
      "   Category                                            Message         source\n",
      "2      spam  Free entry in 2 a wkly comp to win FA Cup fina...  mail_data.csv\n",
      "5      spam  FreeMsg Hey there darling it's been 3 week's n...  mail_data.csv\n",
      "8      spam  WINNER!! As a valued network customer you have...  mail_data.csv\n",
      "9      spam  Had your mobile 11 months or more? U R entitle...  mail_data.csv\n",
      "11     spam  SIX chances to win CASH! From 100 to 20,000 po...  mail_data.csv\n"
     ]
    }
   ],
   "source": [
    "mail_data_df = pd.read_csv('./Datasets/mail_data.csv')\n",
    "mail_data_df[\"source\"] = \"mail_data.csv\"\n",
    "print(mail_data_df[\"Category\"].value_counts())\n",
    "print(mail_data_df[mail_data_df[\"Category\"] == \"spam\"].head())"
   ]
  },
  {
   "cell_type": "markdown",
   "id": "a1c9a284",
   "metadata": {},
   "source": [
    "# Email Spam 10k Dataset"
   ]
  },
  {
   "cell_type": "code",
   "execution_count": 43,
   "id": "bbb7e5f1",
   "metadata": {},
   "outputs": [
    {
     "name": "stdout",
     "output_type": "stream",
     "text": [
      "label\n",
      "0    8032\n",
      "1    2867\n",
      "Name: count, dtype: int64\n",
      "                                                text  label  \\\n",
      "0  Subject: naturally irresistible your corporate...      1   \n",
      "1  Subject: the stock trading gunslinger  fanny i...      1   \n",
      "2  Subject: unbelievable new homes made easy  im ...      1   \n",
      "3  Subject: 4 color printing special  request add...      1   \n",
      "4  Subject: do not have money , get software cds ...      1   \n",
      "\n",
      "               source  \n",
      "0  email_spam_10k.csv  \n",
      "1  email_spam_10k.csv  \n",
      "2  email_spam_10k.csv  \n",
      "3  email_spam_10k.csv  \n",
      "4  email_spam_10k.csv  \n"
     ]
    }
   ],
   "source": [
    "email_spam_10k_df = pd.read_csv('./Datasets/email_spam_10k.csv')\n",
    "email_spam_10k_df[\"source\"] = \"email_spam_10k.csv\"\n",
    "print(email_spam_10k_df[\"label\"].value_counts())\n",
    "print(email_spam_10k_df[email_spam_10k_df[\"label\"] == 1].head())"
   ]
  },
  {
   "cell_type": "markdown",
   "id": "195d2385",
   "metadata": {},
   "source": [
    "# Email Text Dataset"
   ]
  },
  {
   "cell_type": "code",
   "execution_count": 44,
   "id": "f3ae687a",
   "metadata": {},
   "outputs": [
    {
     "name": "stdout",
     "output_type": "stream",
     "text": [
      "label\n",
      "1    29923\n",
      "0    23745\n",
      "Name: count, dtype: int64\n",
      "   label                                               text          source\n",
      "0      1  do you feel the pressure to perform and not ri...  email_text.csv\n",
      "2      1  mega authenticv i a g r a discount pricec i a ...  email_text.csv\n",
      "3      1  hey billy it was really fun going out the othe...  email_text.csv\n",
      "4      1  system of the home it will have the capabiliti...  email_text.csv\n",
      "5      1  the program and the creative abilities of the ...  email_text.csv\n"
     ]
    }
   ],
   "source": [
    "email_text_df = pd.read_csv('./Datasets/email_text.csv')\n",
    "email_text_df[\"source\"] = \"email_text.csv\"\n",
    "print(email_text_df[\"label\"].value_counts())\n",
    "print(email_text_df[email_text_df[\"label\"] == 1].head())"
   ]
  },
  {
   "cell_type": "markdown",
   "id": "9f1652d9",
   "metadata": {},
   "source": [
    "# Email Text 2 Dataset"
   ]
  },
  {
   "cell_type": "code",
   "execution_count": 45,
   "id": "193ae69a",
   "metadata": {},
   "outputs": [
    {
     "name": "stdout",
     "output_type": "stream",
     "text": [
      "label\n",
      "0    12508\n",
      "1     4801\n",
      "Name: count, dtype: int64\n",
      "   label                                               text  \\\n",
      "1      1  luxury watches buy your own rolex for only esc...   \n",
      "2      1  academic qualifications available from prestig...   \n",
      "4      1  try chauncey may conferred the luscious not co...   \n",
      "7      1  from nbc today show it's the look everyone wan...   \n",
      "8      1  the oil sector is going crazy this is our week...   \n",
      "\n",
      "               source  \n",
      "1  email_text (2).csv  \n",
      "2  email_text (2).csv  \n",
      "4  email_text (2).csv  \n",
      "7  email_text (2).csv  \n",
      "8  email_text (2).csv  \n"
     ]
    }
   ],
   "source": [
    "email_text_2_df = pd.read_csv('./Datasets/email_text (2).csv')\n",
    "email_text_2_df[\"source\"] = \"email_text (2).csv\"\n",
    "print(email_text_2_df[\"label\"].value_counts())\n",
    "print(email_text_2_df[email_text_2_df[\"label\"] == 1].head())"
   ]
  },
  {
   "cell_type": "markdown",
   "id": "9dc23e1f",
   "metadata": {},
   "source": [
    "# Email Text 3 Dataset"
   ]
  },
  {
   "cell_type": "code",
   "execution_count": 46,
   "id": "85f73994",
   "metadata": {},
   "outputs": [
    {
     "name": "stdout",
     "output_type": "stream",
     "text": [
      "label\n",
      "0    30390\n",
      "1    24685\n",
      "Name: count, dtype: int64\n",
      "    label                                               text  \\\n",
      "71      1   ycavpl jg ap zv orvsgxb ap gj uh qgtighx uiwq...   \n",
      "72      1   sa ve escapenumber escapenumber ord ering onl...   \n",
      "73      1   a f llcieseuf nyy e bhhibu hb reyqwvltdw afil...   \n",
      "74      1   ffffffaescapenumber ffffffeescapenumber fffff...   \n",
      "75      1                                              td a    \n",
      "\n",
      "                source  \n",
      "71  email_text (3).csv  \n",
      "72  email_text (3).csv  \n",
      "73  email_text (3).csv  \n",
      "74  email_text (3).csv  \n",
      "75  email_text (3).csv  \n"
     ]
    }
   ],
   "source": [
    "email_text_3_df = pd.read_csv('./Datasets/email_text (3).csv')\n",
    "email_text_3_df[\"source\"] = \"email_text (3).csv\"\n",
    "print(email_text_3_df[\"label\"].value_counts())\n",
    "print(email_text_3_df[email_text_3_df[\"label\"] == 1].head())"
   ]
  },
  {
   "cell_type": "markdown",
   "id": "2608fdc5",
   "metadata": {},
   "source": [
    "# Email Dataset"
   ]
  },
  {
   "cell_type": "code",
   "execution_count": 47,
   "id": "a9dbeeee",
   "metadata": {},
   "outputs": [
    {
     "name": "stdout",
     "output_type": "stream",
     "text": [
      "spam\n",
      "0    4360\n",
      "1    1368\n",
      "Name: count, dtype: int64\n",
      "                                                text  spam      source\n",
      "0  Subject: naturally irresistible your corporate...     1  emails.csv\n",
      "1  Subject: the stock trading gunslinger  fanny i...     1  emails.csv\n",
      "2  Subject: unbelievable new homes made easy  im ...     1  emails.csv\n",
      "3  Subject: 4 color printing special  request add...     1  emails.csv\n",
      "4  Subject: do not have money , get software cds ...     1  emails.csv\n"
     ]
    }
   ],
   "source": [
    "emails_df = pd.read_csv('./Datasets/emails.csv')\n",
    "emails_df[\"source\"] = \"emails.csv\"\n",
    "print(emails_df[\"spam\"].value_counts())\n",
    "print(emails_df[emails_df[\"spam\"] == 1].head())"
   ]
  },
  {
   "cell_type": "markdown",
   "id": "b5765592",
   "metadata": {},
   "source": [
    "# Fraud Detect Dataset"
   ]
  },
  {
   "cell_type": "code",
   "execution_count": 48,
   "id": "7d5f8685",
   "metadata": {},
   "outputs": [
    {
     "name": "stdout",
     "output_type": "stream",
     "text": [
      "Category\n",
      "ham               4825\n",
      "spam              1319\n",
      "{\"mode\":\"full\"       1\n",
      "Name: count, dtype: int64\n",
      "                                              Message Category  \\\n",
      "1   a seller, we would want to inform guests that ...     spam   \n",
      "2   U were outbid by simonwatson5120 on the Shinco...     spam   \n",
      "5   87077: Kick off a new season with 2wks FREE go...     spam   \n",
      "12  Valentines Day Special! Win over £1000 in our ...     spam   \n",
      "13  Xmas Offer! Latest Motorola, SonyEricsson & No...     spam   \n",
      "\n",
      "              source  \n",
      "1   fraud_detect.csv  \n",
      "2   fraud_detect.csv  \n",
      "5   fraud_detect.csv  \n",
      "12  fraud_detect.csv  \n",
      "13  fraud_detect.csv  \n"
     ]
    }
   ],
   "source": [
    "fraud_detect_df = pd.read_csv('./Datasets/fraud_detect.csv')\n",
    "fraud_detect_df[\"source\"] = \"fraud_detect.csv\"\n",
    "print(fraud_detect_df[\"Category\"].value_counts())\n",
    "print(fraud_detect_df[fraud_detect_df[\"Category\"] == \"spam\"].head())"
   ]
  },
  {
   "cell_type": "markdown",
   "id": "0733f947",
   "metadata": {},
   "source": [
    "#### Mapping the data frame to extract the spam rows only"
   ]
  },
  {
   "cell_type": "code",
   "execution_count": 49,
   "id": "24feefec",
   "metadata": {},
   "outputs": [],
   "source": [
    "def extract_spam(df, spam_values, label_column='label'):\n",
    "    return df[df[label_column].isin(spam_values)].copy()"
   ]
  },
  {
   "cell_type": "markdown",
   "id": "6c424cdc",
   "metadata": {},
   "source": [
    "Reframe the data frames"
   ]
  },
  {
   "cell_type": "code",
   "execution_count": 50,
   "id": "375bf06e",
   "metadata": {},
   "outputs": [],
   "source": [
    "enron_spam_df = extract_spam(enron_df, [1])\n",
    "spam_spam_df = extract_spam(spam_df, [\"spam\"], label_column='Category')\n",
    "spam_dataset_spam_df = extract_spam(spam_dataset_df, [1], label_column='is_spam')\n",
    "ling_spam_df = extract_spam(ling_df, [1])\n",
    "messages_spam_df = extract_spam(messages_df, [1])\n",
    "spam_assassin_spam_df = extract_spam(spam_assassin_df, [1])\n",
    "phishing_spam_df = extract_spam(phishing_df, [\"Phishing Email\"], label_column='Email Type')\n",
    "nigerian_fraud_spam_df = extract_spam(nigerian_fraud_df, [1])\n",
    "spam_ham_data_spam_df = extract_spam(spam_ham_data_df, [\"spam\"], label_column='label')\n",
    "mail_data_spam_df = extract_spam(mail_data_df, [\"spam\"], label_column='Category')\n",
    "email_spam_10k_spam_df = extract_spam(email_spam_10k_df, [1])\n",
    "email_text_spam_df = extract_spam(email_text_df, [1])\n",
    "email_text_2_spam_df = extract_spam(email_text_2_df, [1])\n",
    "email_text_3_spam_df = extract_spam(email_text_3_df, [1])\n",
    "emails_spam_df = extract_spam(emails_df, [1], label_column='spam')\n",
    "fraud_detect_spam_df = extract_spam(fraud_detect_df, [\"spam\"], label_column='Category')"
   ]
  },
  {
   "cell_type": "markdown",
   "id": "ba0853c8",
   "metadata": {},
   "source": [
    "Keep only the useful columns, or rename them:"
   ]
  },
  {
   "cell_type": "code",
   "execution_count": 51,
   "id": "591a9b1b",
   "metadata": {},
   "outputs": [],
   "source": [
    "def standardize(df, text_col='text', label_col='label', subject_col=\"subject\"):\n",
    "    if df.get(subject_col) is None:\n",
    "        df[\"subject\"] = \"\"\n",
    "    return df.rename(columns={text_col: 'text', label_col: 'label', subject_col: 'subject'})[['text', 'label', \"subject\", \"source\"]]"
   ]
  },
  {
   "cell_type": "code",
   "execution_count": 52,
   "id": "e684ea4e",
   "metadata": {},
   "outputs": [
    {
     "name": "stdout",
     "output_type": "stream",
     "text": [
      "                                                    text  label subject  \\\n",
      "0      do you feel the pressure to perform and not ri...      1           \n",
      "2      mega authenticv i a g r a discount pricec i a ...      1           \n",
      "3      hey billy it was really fun going out the othe...      1           \n",
      "4      system of the home it will have the capabiliti...      1           \n",
      "5      the program and the creative abilities of the ...      1           \n",
      "...                                                  ...    ...     ...   \n",
      "53661  vip repl jiu ica wat dh ches if you are lookin...      1           \n",
      "53662  while we may have high expectations of our ass...      1           \n",
      "53663  versuchen sie unser produkt und sie werden fuh...      1           \n",
      "53664  while we may have high expectations of our ass...      1           \n",
      "53667  well are implicated when does not the stage wh...      1           \n",
      "\n",
      "               source  \n",
      "0      email_text.csv  \n",
      "2      email_text.csv  \n",
      "3      email_text.csv  \n",
      "4      email_text.csv  \n",
      "5      email_text.csv  \n",
      "...               ...  \n",
      "53661  email_text.csv  \n",
      "53662  email_text.csv  \n",
      "53663  email_text.csv  \n",
      "53664  email_text.csv  \n",
      "53667  email_text.csv  \n",
      "\n",
      "[29923 rows x 4 columns]\n"
     ]
    }
   ],
   "source": [
    "enron_spam_df = standardize(enron_spam_df, text_col='body')\n",
    "spam_spam_df = standardize(spam_spam_df, text_col='Message', label_col=\"Category\")\n",
    "spam_dataset_spam_df = standardize(spam_dataset_spam_df, text_col='message_content', label_col='is_spam')\n",
    "ling_spam_df = standardize(ling_spam_df, text_col='body')\n",
    "messages_spam_df = standardize(messages_spam_df, text_col='message')\n",
    "spam_assassin_spam_df = standardize(spam_assassin_spam_df, text_col='body')\n",
    "phishing_spam_df = standardize(phishing_spam_df, text_col='Email Text', label_col='Email Type')\n",
    "nigerian_fraud_spam_df = standardize(nigerian_fraud_spam_df, text_col='body')\n",
    "spam_ham_data_spam_df = standardize(spam_ham_data_spam_df)\n",
    "mail_data_spam_df = standardize(mail_data_spam_df, text_col='Message', label_col='Category')\n",
    "email_spam_10k_spam_df = standardize(email_spam_10k_spam_df)\n",
    "email_text_spam_df = standardize(email_text_spam_df)\n",
    "email_text_2_spam_df = standardize(email_text_2_spam_df) \n",
    "email_text_3_spam_df = standardize(email_text_3_spam_df)\n",
    "emails_spam_df = standardize(emails_spam_df, label_col='spam')\n",
    "fraud_detect_spam_df = standardize(fraud_detect_spam_df, text_col='Message', label_col='Category')\n",
    "\n",
    "print(email_text_spam_df)"
   ]
  },
  {
   "cell_type": "markdown",
   "id": "04929330",
   "metadata": {},
   "source": [
    "Merge the datasets together:"
   ]
  },
  {
   "cell_type": "code",
   "execution_count": 54,
   "id": "1622c4fa",
   "metadata": {},
   "outputs": [
    {
     "name": "stdout",
     "output_type": "stream",
     "text": [
      "Merge Successful\n"
     ]
    }
   ],
   "source": [
    "merge = pd.concat([\n",
    "    enron_spam_df,\n",
    "    spam_spam_df,\n",
    "    spam_dataset_spam_df,\n",
    "    ling_spam_df,\n",
    "    messages_spam_df,\n",
    "    spam_assassin_spam_df,\n",
    "    phishing_spam_df,\n",
    "    nigerian_fraud_spam_df,\n",
    "    spam_ham_data_spam_df,\n",
    "    mail_data_spam_df,\n",
    "    email_spam_10k_spam_df,\n",
    "    email_text_spam_df,\n",
    "    email_text_2_spam_df,\n",
    "    email_text_3_spam_df,\n",
    "    emails_spam_df,\n",
    "    fraud_detect_spam_df\n",
    "], ignore_index=True)\n",
    "merge[[\"source\", \"text\", \"label\", \"subject\"]].to_csv('./Datasets/merged_spam_dataset.csv', index=True)\n",
    "print(\"Merge Successful\")"
   ]
  },
  {
   "cell_type": "code",
   "execution_count": null,
   "id": "03a159dc",
   "metadata": {},
   "outputs": [],
   "source": []
  }
 ],
 "metadata": {
  "kernelspec": {
   "display_name": "base",
   "language": "python",
   "name": "python3"
  },
  "language_info": {
   "codemirror_mode": {
    "name": "ipython",
    "version": 3
   },
   "file_extension": ".py",
   "mimetype": "text/x-python",
   "name": "python",
   "nbconvert_exporter": "python",
   "pygments_lexer": "ipython3",
   "version": "3.12.4"
  }
 },
 "nbformat": 4,
 "nbformat_minor": 5
}
